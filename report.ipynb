{
 "cells": [
  {
   "cell_type": "markdown",
   "metadata": {},
   "source": [
    "# Sales Data Analysis of Chocolate Sales"
   ]
  },
  {
   "cell_type": "markdown",
   "metadata": {},
   "source": [
    "## 1. Introduction"
   ]
  },
  {
   "cell_type": "markdown",
   "metadata": {},
   "source": [
    "This report presents a comprehensive data analysis and segmentation of a chocolate sales dataset. The objective is to extract actionable insights about sales performance, profit distribution, and salesperson behavior across different order types, countries, and products.\n",
    "\n",
    "The report follows this structure:\n",
    "\n",
    "1. **Data Exploration** – Understanding the structure, cleaning inconsistencies, and transforming key variables.\n",
    "2. **KPI Analysis** – Measuring performance by order size, average profit, and total sales.\n",
    "3. **Dimensionality Reduction** – Applying Principal Component Analysis (PCA) to identify the most influential variables and reduce redundancy.\n",
    "4. **Behavioral Clustering** – Using KMeans to group salespeople based on commercial behavior, enriched with country and product dimensions.\n",
    "5. **Interpretation** – Profiling each cluster and drawing business conclusions for strategic action.\n",
    "\n"
   ]
  },
  {
   "cell_type": "markdown",
   "metadata": {},
   "source": [
    "## 2. Data loading and first look"
   ]
  },
  {
   "cell_type": "code",
   "execution_count": 1,
   "metadata": {},
   "outputs": [],
   "source": [
    "import kagglehub\n",
    "import os\n",
    "import pandas as pd\n",
    "import seaborn as sns\n",
    "import matplotlib.pyplot as plt\n",
    "import plotly.express as px\n",
    "from sklearn.preprocessing import StandardScaler\n",
    "from sklearn.cluster import KMeans\n",
    "from sklearn.metrics import silhouette_score"
   ]
  },
  {
   "cell_type": "markdown",
   "metadata": {},
   "source": [
    "Getting the dataset directly from the Kaggle API:"
   ]
  },
  {
   "cell_type": "code",
   "execution_count": 2,
   "metadata": {},
   "outputs": [
    {
     "data": {
      "text/html": [
       "<div>\n",
       "<style scoped>\n",
       "    .dataframe tbody tr th:only-of-type {\n",
       "        vertical-align: middle;\n",
       "    }\n",
       "\n",
       "    .dataframe tbody tr th {\n",
       "        vertical-align: top;\n",
       "    }\n",
       "\n",
       "    .dataframe thead th {\n",
       "        text-align: right;\n",
       "    }\n",
       "</style>\n",
       "<table border=\"1\" class=\"dataframe\">\n",
       "  <thead>\n",
       "    <tr style=\"text-align: right;\">\n",
       "      <th></th>\n",
       "      <th>Sales Person</th>\n",
       "      <th>Country</th>\n",
       "      <th>Product</th>\n",
       "      <th>Date</th>\n",
       "      <th>Amount</th>\n",
       "      <th>Boxes Shipped</th>\n",
       "    </tr>\n",
       "  </thead>\n",
       "  <tbody>\n",
       "    <tr>\n",
       "      <th>0</th>\n",
       "      <td>Jehu Rudeforth</td>\n",
       "      <td>UK</td>\n",
       "      <td>Mint Chip Choco</td>\n",
       "      <td>04-Jan-22</td>\n",
       "      <td>$5,320</td>\n",
       "      <td>180</td>\n",
       "    </tr>\n",
       "    <tr>\n",
       "      <th>1</th>\n",
       "      <td>Van Tuxwell</td>\n",
       "      <td>India</td>\n",
       "      <td>85% Dark Bars</td>\n",
       "      <td>01-Aug-22</td>\n",
       "      <td>$7,896</td>\n",
       "      <td>94</td>\n",
       "    </tr>\n",
       "    <tr>\n",
       "      <th>2</th>\n",
       "      <td>Gigi Bohling</td>\n",
       "      <td>India</td>\n",
       "      <td>Peanut Butter Cubes</td>\n",
       "      <td>07-Jul-22</td>\n",
       "      <td>$4,501</td>\n",
       "      <td>91</td>\n",
       "    </tr>\n",
       "    <tr>\n",
       "      <th>3</th>\n",
       "      <td>Jan Morforth</td>\n",
       "      <td>Australia</td>\n",
       "      <td>Peanut Butter Cubes</td>\n",
       "      <td>27-Apr-22</td>\n",
       "      <td>$12,726</td>\n",
       "      <td>342</td>\n",
       "    </tr>\n",
       "    <tr>\n",
       "      <th>4</th>\n",
       "      <td>Jehu Rudeforth</td>\n",
       "      <td>UK</td>\n",
       "      <td>Peanut Butter Cubes</td>\n",
       "      <td>24-Feb-22</td>\n",
       "      <td>$13,685</td>\n",
       "      <td>184</td>\n",
       "    </tr>\n",
       "  </tbody>\n",
       "</table>\n",
       "</div>"
      ],
      "text/plain": [
       "     Sales Person    Country              Product       Date    Amount  \\\n",
       "0  Jehu Rudeforth         UK      Mint Chip Choco  04-Jan-22   $5,320    \n",
       "1     Van Tuxwell      India        85% Dark Bars  01-Aug-22   $7,896    \n",
       "2    Gigi Bohling      India  Peanut Butter Cubes  07-Jul-22   $4,501    \n",
       "3    Jan Morforth  Australia  Peanut Butter Cubes  27-Apr-22  $12,726    \n",
       "4  Jehu Rudeforth         UK  Peanut Butter Cubes  24-Feb-22  $13,685    \n",
       "\n",
       "   Boxes Shipped  \n",
       "0            180  \n",
       "1             94  \n",
       "2             91  \n",
       "3            342  \n",
       "4            184  "
      ]
     },
     "execution_count": 2,
     "metadata": {},
     "output_type": "execute_result"
    }
   ],
   "source": [
    "path = kagglehub.dataset_download(\"atharvasoundankar/chocolate-sales\")\n",
    "csv_path = os.path.join(path, \"Chocolate Sales.csv\")\n",
    "\n",
    "df = pd.read_csv(csv_path)\n",
    "df.head()\n"
   ]
  },
  {
   "cell_type": "markdown",
   "metadata": {},
   "source": [
    "We will see a basic information about the dataset, to look for any anomalies or missing values."
   ]
  },
  {
   "cell_type": "code",
   "execution_count": 3,
   "metadata": {},
   "outputs": [
    {
     "name": "stdout",
     "output_type": "stream",
     "text": [
      "rows: 1094, columns: 6\n",
      "<class 'pandas.core.frame.DataFrame'>\n",
      "RangeIndex: 1094 entries, 0 to 1093\n",
      "Data columns (total 6 columns):\n",
      " #   Column         Non-Null Count  Dtype \n",
      "---  ------         --------------  ----- \n",
      " 0   Sales Person   1094 non-null   object\n",
      " 1   Country        1094 non-null   object\n",
      " 2   Product        1094 non-null   object\n",
      " 3   Date           1094 non-null   object\n",
      " 4   Amount         1094 non-null   object\n",
      " 5   Boxes Shipped  1094 non-null   int64 \n",
      "dtypes: int64(1), object(5)\n",
      "memory usage: 51.4+ KB\n"
     ]
    }
   ],
   "source": [
    "print(f\"rows: {df.shape[0]}, columns: {df.shape[1]}\")\n",
    "df.info()"
   ]
  },
  {
   "cell_type": "markdown",
   "metadata": {},
   "source": [
    "Check possible NaNs"
   ]
  },
  {
   "cell_type": "code",
   "execution_count": 4,
   "metadata": {},
   "outputs": [
    {
     "data": {
      "text/plain": [
       "Sales Person     0\n",
       "Country          0\n",
       "Product          0\n",
       "Date             0\n",
       "Amount           0\n",
       "Boxes Shipped    0\n",
       "dtype: int64"
      ]
     },
     "execution_count": 4,
     "metadata": {},
     "output_type": "execute_result"
    }
   ],
   "source": [
    "df.isnull().sum()"
   ]
  },
  {
   "cell_type": "code",
   "execution_count": 5,
   "metadata": {},
   "outputs": [
    {
     "name": "stdout",
     "output_type": "stream",
     "text": [
      "Date range: 01-Apr-22 -> 31-May-22\n"
     ]
    }
   ],
   "source": [
    "print(\"Date range:\", df[\"Date\"].min(), \"->\", df[\"Date\"].max())"
   ]
  },
  {
   "cell_type": "code",
   "execution_count": 6,
   "metadata": {},
   "outputs": [
    {
     "name": "stdout",
     "output_type": "stream",
     "text": [
      "duplicated rows: 0\n"
     ]
    }
   ],
   "source": [
    "duplicates = df.duplicated()\n",
    "print(f\"duplicated rows: {duplicates.sum()}\")"
   ]
  },
  {
   "cell_type": "markdown",
   "metadata": {},
   "source": [
    "We can see that this dataset is so clean, that will make our life easier."
   ]
  },
  {
   "cell_type": "markdown",
   "metadata": {},
   "source": [
    "## 3. Cleaning the data"
   ]
  },
  {
   "cell_type": "markdown",
   "metadata": {},
   "source": [
    "In this section, basically we rewrote column names and set correct column types."
   ]
  },
  {
   "cell_type": "code",
   "execution_count": 7,
   "metadata": {},
   "outputs": [
    {
     "data": {
      "text/html": [
       "<div>\n",
       "<style scoped>\n",
       "    .dataframe tbody tr th:only-of-type {\n",
       "        vertical-align: middle;\n",
       "    }\n",
       "\n",
       "    .dataframe tbody tr th {\n",
       "        vertical-align: top;\n",
       "    }\n",
       "\n",
       "    .dataframe thead th {\n",
       "        text-align: right;\n",
       "    }\n",
       "</style>\n",
       "<table border=\"1\" class=\"dataframe\">\n",
       "  <thead>\n",
       "    <tr style=\"text-align: right;\">\n",
       "      <th></th>\n",
       "      <th>sales_person</th>\n",
       "      <th>country</th>\n",
       "      <th>product</th>\n",
       "      <th>date</th>\n",
       "      <th>amount</th>\n",
       "      <th>boxes_shipped</th>\n",
       "    </tr>\n",
       "  </thead>\n",
       "  <tbody>\n",
       "    <tr>\n",
       "      <th>0</th>\n",
       "      <td>Jehu Rudeforth</td>\n",
       "      <td>UK</td>\n",
       "      <td>Mint Chip Choco</td>\n",
       "      <td>04-Jan-22</td>\n",
       "      <td>$5,320</td>\n",
       "      <td>180</td>\n",
       "    </tr>\n",
       "    <tr>\n",
       "      <th>1</th>\n",
       "      <td>Van Tuxwell</td>\n",
       "      <td>India</td>\n",
       "      <td>85% Dark Bars</td>\n",
       "      <td>01-Aug-22</td>\n",
       "      <td>$7,896</td>\n",
       "      <td>94</td>\n",
       "    </tr>\n",
       "    <tr>\n",
       "      <th>2</th>\n",
       "      <td>Gigi Bohling</td>\n",
       "      <td>India</td>\n",
       "      <td>Peanut Butter Cubes</td>\n",
       "      <td>07-Jul-22</td>\n",
       "      <td>$4,501</td>\n",
       "      <td>91</td>\n",
       "    </tr>\n",
       "    <tr>\n",
       "      <th>3</th>\n",
       "      <td>Jan Morforth</td>\n",
       "      <td>Australia</td>\n",
       "      <td>Peanut Butter Cubes</td>\n",
       "      <td>27-Apr-22</td>\n",
       "      <td>$12,726</td>\n",
       "      <td>342</td>\n",
       "    </tr>\n",
       "    <tr>\n",
       "      <th>4</th>\n",
       "      <td>Jehu Rudeforth</td>\n",
       "      <td>UK</td>\n",
       "      <td>Peanut Butter Cubes</td>\n",
       "      <td>24-Feb-22</td>\n",
       "      <td>$13,685</td>\n",
       "      <td>184</td>\n",
       "    </tr>\n",
       "  </tbody>\n",
       "</table>\n",
       "</div>"
      ],
      "text/plain": [
       "     sales_person    country              product       date    amount  \\\n",
       "0  Jehu Rudeforth         UK      Mint Chip Choco  04-Jan-22   $5,320    \n",
       "1     Van Tuxwell      India        85% Dark Bars  01-Aug-22   $7,896    \n",
       "2    Gigi Bohling      India  Peanut Butter Cubes  07-Jul-22   $4,501    \n",
       "3    Jan Morforth  Australia  Peanut Butter Cubes  27-Apr-22  $12,726    \n",
       "4  Jehu Rudeforth         UK  Peanut Butter Cubes  24-Feb-22  $13,685    \n",
       "\n",
       "   boxes_shipped  \n",
       "0            180  \n",
       "1             94  \n",
       "2             91  \n",
       "3            342  \n",
       "4            184  "
      ]
     },
     "execution_count": 7,
     "metadata": {},
     "output_type": "execute_result"
    }
   ],
   "source": [
    "df.columns = df.columns.str.strip().str.lower().str.replace(' ', '_')\n",
    "df.head()"
   ]
  },
  {
   "cell_type": "code",
   "execution_count": 8,
   "metadata": {},
   "outputs": [
    {
     "data": {
      "text/html": [
       "<div>\n",
       "<style scoped>\n",
       "    .dataframe tbody tr th:only-of-type {\n",
       "        vertical-align: middle;\n",
       "    }\n",
       "\n",
       "    .dataframe tbody tr th {\n",
       "        vertical-align: top;\n",
       "    }\n",
       "\n",
       "    .dataframe thead th {\n",
       "        text-align: right;\n",
       "    }\n",
       "</style>\n",
       "<table border=\"1\" class=\"dataframe\">\n",
       "  <thead>\n",
       "    <tr style=\"text-align: right;\">\n",
       "      <th></th>\n",
       "      <th>sales_person</th>\n",
       "      <th>country</th>\n",
       "      <th>product</th>\n",
       "      <th>date</th>\n",
       "      <th>amount</th>\n",
       "      <th>boxes_shipped</th>\n",
       "    </tr>\n",
       "  </thead>\n",
       "  <tbody>\n",
       "    <tr>\n",
       "      <th>0</th>\n",
       "      <td>Jehu Rudeforth</td>\n",
       "      <td>UK</td>\n",
       "      <td>Mint Chip Choco</td>\n",
       "      <td>2022-01-04</td>\n",
       "      <td>5320.0</td>\n",
       "      <td>180</td>\n",
       "    </tr>\n",
       "    <tr>\n",
       "      <th>1</th>\n",
       "      <td>Van Tuxwell</td>\n",
       "      <td>India</td>\n",
       "      <td>85% Dark Bars</td>\n",
       "      <td>2022-08-01</td>\n",
       "      <td>7896.0</td>\n",
       "      <td>94</td>\n",
       "    </tr>\n",
       "    <tr>\n",
       "      <th>2</th>\n",
       "      <td>Gigi Bohling</td>\n",
       "      <td>India</td>\n",
       "      <td>Peanut Butter Cubes</td>\n",
       "      <td>2022-07-07</td>\n",
       "      <td>4501.0</td>\n",
       "      <td>91</td>\n",
       "    </tr>\n",
       "    <tr>\n",
       "      <th>3</th>\n",
       "      <td>Jan Morforth</td>\n",
       "      <td>Australia</td>\n",
       "      <td>Peanut Butter Cubes</td>\n",
       "      <td>2022-04-27</td>\n",
       "      <td>12726.0</td>\n",
       "      <td>342</td>\n",
       "    </tr>\n",
       "    <tr>\n",
       "      <th>4</th>\n",
       "      <td>Jehu Rudeforth</td>\n",
       "      <td>UK</td>\n",
       "      <td>Peanut Butter Cubes</td>\n",
       "      <td>2022-02-24</td>\n",
       "      <td>13685.0</td>\n",
       "      <td>184</td>\n",
       "    </tr>\n",
       "  </tbody>\n",
       "</table>\n",
       "</div>"
      ],
      "text/plain": [
       "     sales_person    country              product        date   amount  \\\n",
       "0  Jehu Rudeforth         UK      Mint Chip Choco  2022-01-04   5320.0   \n",
       "1     Van Tuxwell      India        85% Dark Bars  2022-08-01   7896.0   \n",
       "2    Gigi Bohling      India  Peanut Butter Cubes  2022-07-07   4501.0   \n",
       "3    Jan Morforth  Australia  Peanut Butter Cubes  2022-04-27  12726.0   \n",
       "4  Jehu Rudeforth         UK  Peanut Butter Cubes  2022-02-24  13685.0   \n",
       "\n",
       "   boxes_shipped  \n",
       "0            180  \n",
       "1             94  \n",
       "2             91  \n",
       "3            342  \n",
       "4            184  "
      ]
     },
     "execution_count": 8,
     "metadata": {},
     "output_type": "execute_result"
    }
   ],
   "source": [
    "df[\"date\"] = pd.to_datetime(df[\"date\"], format=\"%d-%b-%y\").dt.strftime(\"%Y-%m-%d\")\n",
    "df[\"amount\"] = df[\"amount\"].replace(r\"[\\$,]\", \"\", regex=True).astype(float)\n",
    "\n",
    "df.head()"
   ]
  },
  {
   "cell_type": "markdown",
   "metadata": {},
   "source": [
    "## 4. Exploratory data analysis (EDA)"
   ]
  },
  {
   "cell_type": "markdown",
   "metadata": {},
   "source": [
    "I think that in business intelligence, the most important thing is to understand the data and the business. So, I will try to make some analysis that can be useful for a business.\n",
    "\n",
    "I will explain the analysis answering four basic questions:\n",
    "1. Which are the most sold chocolates?\n",
    "2. Where are the most sold chocolates?\n",
    "3. When are the most sold chocolates?\n",
    "4. How are the most sold chocolates?\n",
    "\n",
    "It is a subjective decission, but for a first analysis I think that will be far enough to understand the data and the business."
   ]
  },
  {
   "cell_type": "markdown",
   "metadata": {},
   "source": [
    "### 4.1. WHICH is the best-selling chocolate?"
   ]
  },
  {
   "cell_type": "code",
   "execution_count": 9,
   "metadata": {},
   "outputs": [
    {
     "data": {
      "image/png": "[encoded data removed]",
      "text/plain": [
       "<Figure size 1000x600 with 1 Axes>"
      ]
     },
     "metadata": {},
     "output_type": "display_data"
    }
   ],
   "source": [
    "product_revenue = df.groupby(\"product\")[\"amount\"].sum().sort_values(ascending=False).reset_index()\n",
    "product_revenue.columns = [\"product\", \"total_revenue\"]\n",
    "\n",
    "plt.figure(figsize=(10, 6))\n",
    "sns.barplot(data=product_revenue, x=\"total_revenue\", y=\"product\", hue=\"total_revenue\", palette=\"viridis\")\n",
    "plt.title(\"Revenues by Product\")\n",
    "plt.xlabel(\"Total Revenue ($)\")\n",
    "plt.ylabel(\"Product\")\n",
    "plt.tight_layout()\n",
    "plt.show()"
   ]
  },
  {
   "cell_type": "markdown",
   "metadata": {},
   "source": [
    "### 4.2. WHERE is selling the most chocolate?"
   ]
  },
  {
   "cell_type": "code",
   "execution_count": 10,
   "metadata": {},
   "outputs": [
    {
     "data": {
      "image/png": "[encoded data removed]",
      "text/plain": [
       "<Figure size 800x500 with 1 Axes>"
      ]
     },
     "metadata": {},
     "output_type": "display_data"
    }
   ],
   "source": [
    "country_revenue = df.groupby('country')['amount'].sum().sort_values(ascending=False).reset_index()\n",
    "country_revenue.columns = [\"country\", \"total_revenue\"]\n",
    "\n",
    "plt.figure(figsize=(8, 5))\n",
    "sns.barplot(data=country_revenue, x=\"total_revenue\", y=\"country\", hue=\"country\", palette=\"magma\")\n",
    "plt.title(\"Ingresos por país\")\n",
    "plt.xlabel(\"Ingresos totales\")\n",
    "plt.ylabel(\"País\")\n",
    "plt.tight_layout()\n",
    "plt.show()"
   ]
  },
  {
   "cell_type": "code",
   "execution_count": 11,
   "metadata": {},
   "outputs": [
    {
     "data": {
      "application/vnd.plotly.v1+json": {
       "config": {
        "plotlyServerURL": "https://plot.ly"
       },
       "data": [
        {
         "coloraxis": "coloraxis",
         "geo": "geo",
         "hovertemplate": "country=%{location}<br>Total Revenue ($)=%{z}<extra></extra>",
         "locationmode": "country names",
         "locations": [
          "Australia",
          "UK",
          "India",
          "USA",
          "Canada",
          "New Zealand"
         ],
         "name": "",
         "type": "choropleth",
         "z": {
          "bdata": "AAAAANdaMUEAAAAAkAwwQQAAAABQ6i9BAAAAAKqYL0EAAAAApmItQQAAAAAkAS1B",
          "dtype": "f8"
         }
        }
       ],
       "layout": {
        "coloraxis": {
         "colorbar": {
          "title": {
           "text": "Total Revenue ($)"
          }
         },
         "colorscale": [
          [
           0,
           "#fde725"
          ],
          [
           0.1111111111111111,
           "#b5de2b"
          ],
          [
           0.2222222222222222,
           "#6ece58"
          ],
          [
           0.3333333333333333,
           "#35b779"
          ],
          [
           0.4444444444444444,
           "#1f9e89"
          ],
          [
           0.5555555555555556,
           "#26828e"
          ],
          [
           0.6666666666666666,
           "#31688e"
          ],
          [
           0.7777777777777778,
           "#3e4989"
          ],
          [
           0.8888888888888888,
           "#482878"
          ],
          [
           1,
           "#440154"
          ]
         ]
        },
        "geo": {
         "center": {},
         "domain": {
          "x": [
           0,
           1
          ],
          "y": [
           0,
           1
          ]
         },
         "projection": {
          "type": "natural earth"
         },
         "showframe": false
        },
        "legend": {
         "tracegroupgap": 0
        },
        "template": {
         "data": {
          "bar": [
           {
            "error_x": {
             "color": "#2a3f5f"
            },
            "error_y": {
             "color": "#2a3f5f"
            },
            "marker": {
             "line": {
              "color": "#E5ECF6",
              "width": 0.5
             },
             "pattern": {
              "fillmode": "overlay",
              "size": 10,
              "solidity": 0.2
             }
            },
            "type": "bar"
           }
          ],
          "barpolar": [
           {
            "marker": {
             "line": {
              "color": "#E5ECF6",
              "width": 0.5
             },
             "pattern": {
              "fillmode": "overlay",
              "size": 10,
              "solidity": 0.2
             }
            },
            "type": "barpolar"
           }
          ],
          "carpet": [
           {
            "aaxis": {
             "endlinecolor": "#2a3f5f",
             "gridcolor": "white",
             "linecolor": "white",
             "minorgridcolor": "white",
             "startlinecolor": "#2a3f5f"
            },
            "baxis": {
             "endlinecolor": "#2a3f5f",
             "gridcolor": "white",
             "linecolor": "white",
             "minorgridcolor": "white",
             "startlinecolor": "#2a3f5f"
            },
            "type": "carpet"
           }
          ],
          "choropleth": [
           {
            "colorbar": {
             "outlinewidth": 0,
             "ticks": ""
            },
            "type": "choropleth"
           }
          ],
          "contour": [
           {
            "colorbar": {
             "outlinewidth": 0,
             "ticks": ""
            },
            "colorscale": [
             [
              0,
              "#0d0887"
             ],
             [
              0.1111111111111111,
              "#46039f"
             ],
             [
              0.2222222222222222,
              "#7201a8"
             ],
             [
              0.3333333333333333,
              "#9c179e"
             ],
             [
              0.4444444444444444,
              "#bd3786"
             ],
             [
              0.5555555555555556,
              "#d8576b"
             ],
             [
              0.6666666666666666,
              "#ed7953"
             ],
             [
              0.7777777777777778,
              "#fb9f3a"
             ],
             [
              0.8888888888888888,
              "#fdca26"
             ],
             [
              1,
              "#f0f921"
             ]
            ],
            "type": "contour"
           }
          ],
          "contourcarpet": [
           {
            "colorbar": {
             "outlinewidth": 0,
             "ticks": ""
            },
            "type": "contourcarpet"
           }
          ],
          "heatmap": [
           {
            "colorbar": {
             "outlinewidth": 0,
             "ticks": ""
            },
            "colorscale": [
             [
              0,
              "#0d0887"
             ],
             [
              0.1111111111111111,
              "#46039f"
             ],
             [
              0.2222222222222222,
              "#7201a8"
             ],
             [
              0.3333333333333333,
              "#9c179e"
             ],
             [
              0.4444444444444444,
              "#bd3786"
             ],
             [
              0.5555555555555556,
              "#d8576b"
             ],
             [
              0.6666666666666666,
              "#ed7953"
             ],
             [
              0.7777777777777778,
              "#fb9f3a"
             ],
             [
              0.8888888888888888,
              "#fdca26"
             ],
             [
              1,
              "#f0f921"
             ]
            ],
            "type": "heatmap"
           }
          ],
          "histogram": [
           {
            "marker": {
             "pattern": {
              "fillmode": "overlay",
              "size": 10,
              "solidity": 0.2
             }
            },
            "type": "histogram"
           }
          ],
          "histogram2d": [
           {
            "colorbar": {
             "outlinewidth": 0,
             "ticks": ""
            },
            "colorscale": [
             [
              0,
              "#0d0887"
             ],
             [
              0.1111111111111111,
              "#46039f"
             ],
             [
              0.2222222222222222,
              "#7201a8"
             ],
             [
              0.3333333333333333,
              "#9c179e"
             ],
             [
              0.4444444444444444,
              "#bd3786"
             ],
             [
              0.5555555555555556,
              "#d8576b"
             ],
             [
              0.6666666666666666,
              "#ed7953"
             ],
             [
              0.7777777777777778,
              "#fb9f3a"
             ],
             [
              0.8888888888888888,
              "#fdca26"
             ],
             [
              1,
              "#f0f921"
             ]
            ],
            "type": "histogram2d"
           }
          ],
          "histogram2dcontour": [
           {
            "colorbar": {
             "outlinewidth": 0,
             "ticks": ""
            },
            "colorscale": [
             [
              0,
              "#0d0887"
             ],
             [
              0.1111111111111111,
              "#46039f"
             ],
             [
              0.2222222222222222,
              "#7201a8"
             ],
             [
              0.3333333333333333,
              "#9c179e"
             ],
             [
              0.4444444444444444,
              "#bd3786"
             ],
             [
              0.5555555555555556,
              "#d8576b"
             ],
             [
              0.6666666666666666,
              "#ed7953"
             ],
             [
              0.7777777777777778,
              "#fb9f3a"
             ],
             [
              0.8888888888888888,
              "#fdca26"
             ],
             [
              1,
              "#f0f921"
             ]
            ],
            "type": "histogram2dcontour"
           }
          ],
          "mesh3d": [
           {
            "colorbar": {
             "outlinewidth": 0,
             "ticks": ""
            },
            "type": "mesh3d"
           }
          ],
          "parcoords": [
           {
            "line": {
             "colorbar": {
              "outlinewidth": 0,
              "ticks": ""
             }
            },
            "type": "parcoords"
           }
          ],
          "pie": [
           {
            "automargin": true,
            "type": "pie"
           }
          ],
          "scatter": [
           {
            "fillpattern": {
             "fillmode": "overlay",
             "size": 10,
             "solidity": 0.2
            },
            "type": "scatter"
           }
          ],
          "scatter3d": [
           {
            "line": {
             "colorbar": {
              "outlinewidth": 0,
              "ticks": ""
             }
            },
            "marker": {
             "colorbar": {
              "outlinewidth": 0,
              "ticks": ""
             }
            },
            "type": "scatter3d"
           }
          ],
          "scattercarpet": [
           {
            "marker": {
             "colorbar": {
              "outlinewidth": 0,
              "ticks": ""
             }
            },
            "type": "scattercarpet"
           }
          ],
          "scattergeo": [
           {
            "marker": {
             "colorbar": {
              "outlinewidth": 0,
              "ticks": ""
             }
            },
            "type": "scattergeo"
           }
          ],
          "scattergl": [
           {
            "marker": {
             "colorbar": {
              "outlinewidth": 0,
              "ticks": ""
             }
            },
            "type": "scattergl"
           }
          ],
          "scattermap": [
           {
            "marker": {
             "colorbar": {
              "outlinewidth": 0,
              "ticks": ""
             }
            },
            "type": "scattermap"
           }
          ],
          "scattermapbox": [
           {
            "marker": {
             "colorbar": {
              "outlinewidth": 0,
              "ticks": ""
             }
            },
            "type": "scattermapbox"
           }
          ],
          "scatterpolar": [
           {
            "marker": {
             "colorbar": {
              "outlinewidth": 0,
              "ticks": ""
             }
            },
            "type": "scatterpolar"
           }
          ],
          "scatterpolargl": [
           {
            "marker": {
             "colorbar": {
              "outlinewidth": 0,
              "ticks": ""
             }
            },
            "type": "scatterpolargl"
           }
          ],
          "scatterternary": [
           {
            "marker": {
             "colorbar": {
              "outlinewidth": 0,
              "ticks": ""
             }
            },
            "type": "scatterternary"
           }
          ],
          "surface": [
           {
            "colorbar": {
             "outlinewidth": 0,
             "ticks": ""
            },
            "colorscale": [
             [
              0,
              "#0d0887"
             ],
             [
              0.1111111111111111,
              "#46039f"
             ],
             [
              0.2222222222222222,
              "#7201a8"
             ],
             [
              0.3333333333333333,
              "#9c179e"
             ],
             [
              0.4444444444444444,
              "#bd3786"
             ],
             [
              0.5555555555555556,
              "#d8576b"
             ],
             [
              0.6666666666666666,
              "#ed7953"
             ],
             [
              0.7777777777777778,
              "#fb9f3a"
             ],
             [
              0.8888888888888888,
              "#fdca26"
             ],
             [
              1,
              "#f0f921"
             ]
            ],
            "type": "surface"
           }
          ],
          "table": [
           {
            "cells": {
             "fill": {
              "color": "#EBF0F8"
             },
             "line": {
              "color": "white"
             }
            },
            "header": {
             "fill": {
              "color": "#C8D4E3"
             },
             "line": {
              "color": "white"
             }
            },
            "type": "table"
           }
          ]
         },
         "layout": {
          "annotationdefaults": {
           "arrowcolor": "#2a3f5f",
           "arrowhead": 0,
           "arrowwidth": 1
          },
          "autotypenumbers": "strict",
          "coloraxis": {
           "colorbar": {
            "outlinewidth": 0,
            "ticks": ""
           }
          },
          "colorscale": {
           "diverging": [
            [
             0,
             "#8e0152"
            ],
            [
             0.1,
             "#c51b7d"
            ],
            [
             0.2,
             "#de77ae"
            ],
            [
             0.3,
             "#f1b6da"
            ],
            [
             0.4,
             "#fde0ef"
            ],
            [
             0.5,
             "#f7f7f7"
            ],
            [
             0.6,
             "#e6f5d0"
            ],
            [
             0.7,
             "#b8e186"
            ],
            [
             0.8,
             "#7fbc41"
            ],
            [
             0.9,
             "#4d9221"
            ],
            [
             1,
             "#276419"
            ]
           ],
           "sequential": [
            [
             0,
             "#0d0887"
            ],
            [
             0.1111111111111111,
             "#46039f"
            ],
            [
             0.2222222222222222,
             "#7201a8"
            ],
            [
             0.3333333333333333,
             "#9c179e"
            ],
            [
             0.4444444444444444,
             "#bd3786"
            ],
            [
             0.5555555555555556,
             "#d8576b"
            ],
            [
             0.6666666666666666,
             "#ed7953"
            ],
            [
             0.7777777777777778,
             "#fb9f3a"
            ],
            [
             0.8888888888888888,
             "#fdca26"
            ],
            [
             1,
             "#f0f921"
            ]
           ],
           "sequentialminus": [
            [
             0,
             "#0d0887"
            ],
            [
             0.1111111111111111,
             "#46039f"
            ],
            [
             0.2222222222222222,
             "#7201a8"
            ],
            [
             0.3333333333333333,
             "#9c179e"
            ],
            [
             0.4444444444444444,
             "#bd3786"
            ],
            [
             0.5555555555555556,
             "#d8576b"
            ],
            [
             0.6666666666666666,
             "#ed7953"
            ],
            [
             0.7777777777777778,
             "#fb9f3a"
            ],
            [
             0.8888888888888888,
             "#fdca26"
            ],
            [
             1,
             "#f0f921"
            ]
           ]
          },
          "colorway": [
           "#636efa",
           "#EF553B",
           "#00cc96",
           "#ab63fa",
           "#FFA15A",
           "#19d3f3",
           "#FF6692",
           "#B6E880",
           "#FF97FF",
           "#FECB52"
          ],
          "font": {
           "color": "#2a3f5f"
          },
          "geo": {
           "bgcolor": "white",
           "lakecolor": "white",
           "landcolor": "#E5ECF6",
           "showlakes": true,
           "showland": true,
           "subunitcolor": "white"
          },
          "hoverlabel": {
           "align": "left"
          },
          "hovermode": "closest",
          "mapbox": {
           "style": "light"
          },
          "paper_bgcolor": "white",
          "plot_bgcolor": "#E5ECF6",
          "polar": {
           "angularaxis": {
            "gridcolor": "white",
            "linecolor": "white",
            "ticks": ""
           },
           "bgcolor": "#E5ECF6",
           "radialaxis": {
            "gridcolor": "white",
            "linecolor": "white",
            "ticks": ""
           }
          },
          "scene": {
           "xaxis": {
            "backgroundcolor": "#E5ECF6",
            "gridcolor": "white",
            "gridwidth": 2,
            "linecolor": "white",
            "showbackground": true,
            "ticks": "",
            "zerolinecolor": "white"
           },
           "yaxis": {
            "backgroundcolor": "#E5ECF6",
            "gridcolor": "white",
            "gridwidth": 2,
            "linecolor": "white",
            "showbackground": true,
            "ticks": "",
            "zerolinecolor": "white"
           },
           "zaxis": {
            "backgroundcolor": "#E5ECF6",
            "gridcolor": "white",
            "gridwidth": 2,
            "linecolor": "white",
            "showbackground": true,
            "ticks": "",
            "zerolinecolor": "white"
           }
          },
          "shapedefaults": {
           "line": {
            "color": "#2a3f5f"
           }
          },
          "ternary": {
           "aaxis": {
            "gridcolor": "white",
            "linecolor": "white",
            "ticks": ""
           },
           "baxis": {
            "gridcolor": "white",
            "linecolor": "white",
            "ticks": ""
           },
           "bgcolor": "#E5ECF6",
           "caxis": {
            "gridcolor": "white",
            "linecolor": "white",
            "ticks": ""
           }
          },
          "title": {
           "x": 0.05
          },
          "xaxis": {
           "automargin": true,
           "gridcolor": "white",
           "linecolor": "white",
           "ticks": "",
           "title": {
            "standoff": 15
           },
           "zerolinecolor": "white",
           "zerolinewidth": 2
          },
          "yaxis": {
           "automargin": true,
           "gridcolor": "white",
           "linecolor": "white",
           "ticks": "",
           "title": {
            "standoff": 15
           },
           "zerolinecolor": "white",
           "zerolinewidth": 2
          }
         }
        },
        "title": {
         "text": "Revenues by Country"
        }
       }
      }
     },
     "metadata": {},
     "output_type": "display_data"
    }
   ],
   "source": [
    "country_revenue_df = country_revenue.reset_index()\n",
    "\n",
    "fig = px.choropleth(\n",
    "    country_revenue_df,\n",
    "    locations=\"country\",\n",
    "    locationmode=\"country names\",\n",
    "    color=\"total_revenue\",\n",
    "    color_continuous_scale=px.colors.sequential.Viridis[::-1],\n",
    "    title=\"Revenues by Country\",\n",
    "    labels={\"total_revenue\": \"Total Revenue ($)\"},\n",
    ")\n",
    "\n",
    "fig.update_layout(geo=dict(showframe=False, projection_type=\"natural earth\"))\n",
    "fig.show()"
   ]
  },
  {
   "cell_type": "markdown",
   "metadata": {},
   "source": [
    "### 4.3. WHEN is selling the most chocolate?"
   ]
  },
  {
   "cell_type": "code",
   "execution_count": 12,
   "metadata": {},
   "outputs": [
    {
     "data": {
      "image/png": "[encoded data removed]",
      "text/plain": [
       "<Figure size 1200x600 with 1 Axes>"
      ]
     },
     "metadata": {},
     "output_type": "display_data"
    }
   ],
   "source": [
    "df['month'] = pd.to_datetime(df['date']).dt.strftime('%Y-%m')\n",
    "\n",
    "monthly_revenue = df.groupby('month')['amount'].sum().reset_index()\n",
    "\n",
    "plt.figure(figsize=(12, 6))\n",
    "sns.barplot(x='month', y='amount', data=monthly_revenue)\n",
    "plt.xticks(rotation=45)\n",
    "plt.title(\"Revenue by Month\")\n",
    "plt.xlabel(\"Month\")\n",
    "plt.ylabel(\"Total Revenue ($)\")\n",
    "plt.tight_layout()\n",
    "plt.show()"
   ]
  },
  {
   "cell_type": "markdown",
   "metadata": {},
   "source": [
    "### 4.4. HOW is selling the most chocolate?"
   ]
  },
  {
   "cell_type": "markdown",
   "metadata": {},
   "source": [
    "As we could see, our dataset hasn't lot of columns, so is complicated to extract rigorous conclusions. But I conclude that it's possible to know the behavior of th sales with a perspective of volume and segmentation."
   ]
  },
  {
   "cell_type": "code",
   "execution_count": 13,
   "metadata": {},
   "outputs": [
    {
     "data": {
      "text/html": [
       "<div>\n",
       "<style scoped>\n",
       "    .dataframe tbody tr th:only-of-type {\n",
       "        vertical-align: middle;\n",
       "    }\n",
       "\n",
       "    .dataframe tbody tr th {\n",
       "        vertical-align: top;\n",
       "    }\n",
       "\n",
       "    .dataframe thead th {\n",
       "        text-align: right;\n",
       "    }\n",
       "</style>\n",
       "<table border=\"1\" class=\"dataframe\">\n",
       "  <thead>\n",
       "    <tr style=\"text-align: right;\">\n",
       "      <th></th>\n",
       "      <th>sales_person</th>\n",
       "      <th>country</th>\n",
       "      <th>product</th>\n",
       "      <th>date</th>\n",
       "      <th>amount</th>\n",
       "      <th>boxes_shipped</th>\n",
       "      <th>month</th>\n",
       "      <th>price_per_box</th>\n",
       "    </tr>\n",
       "  </thead>\n",
       "  <tbody>\n",
       "    <tr>\n",
       "      <th>0</th>\n",
       "      <td>Jehu Rudeforth</td>\n",
       "      <td>UK</td>\n",
       "      <td>Mint Chip Choco</td>\n",
       "      <td>2022-01-04</td>\n",
       "      <td>5320.0</td>\n",
       "      <td>180</td>\n",
       "      <td>2022-01</td>\n",
       "      <td>29.555556</td>\n",
       "    </tr>\n",
       "    <tr>\n",
       "      <th>1</th>\n",
       "      <td>Van Tuxwell</td>\n",
       "      <td>India</td>\n",
       "      <td>85% Dark Bars</td>\n",
       "      <td>2022-08-01</td>\n",
       "      <td>7896.0</td>\n",
       "      <td>94</td>\n",
       "      <td>2022-08</td>\n",
       "      <td>84.000000</td>\n",
       "    </tr>\n",
       "    <tr>\n",
       "      <th>2</th>\n",
       "      <td>Gigi Bohling</td>\n",
       "      <td>India</td>\n",
       "      <td>Peanut Butter Cubes</td>\n",
       "      <td>2022-07-07</td>\n",
       "      <td>4501.0</td>\n",
       "      <td>91</td>\n",
       "      <td>2022-07</td>\n",
       "      <td>49.461538</td>\n",
       "    </tr>\n",
       "    <tr>\n",
       "      <th>3</th>\n",
       "      <td>Jan Morforth</td>\n",
       "      <td>Australia</td>\n",
       "      <td>Peanut Butter Cubes</td>\n",
       "      <td>2022-04-27</td>\n",
       "      <td>12726.0</td>\n",
       "      <td>342</td>\n",
       "      <td>2022-04</td>\n",
       "      <td>37.210526</td>\n",
       "    </tr>\n",
       "    <tr>\n",
       "      <th>4</th>\n",
       "      <td>Jehu Rudeforth</td>\n",
       "      <td>UK</td>\n",
       "      <td>Peanut Butter Cubes</td>\n",
       "      <td>2022-02-24</td>\n",
       "      <td>13685.0</td>\n",
       "      <td>184</td>\n",
       "      <td>2022-02</td>\n",
       "      <td>74.375000</td>\n",
       "    </tr>\n",
       "  </tbody>\n",
       "</table>\n",
       "</div>"
      ],
      "text/plain": [
       "     sales_person    country              product        date   amount  \\\n",
       "0  Jehu Rudeforth         UK      Mint Chip Choco  2022-01-04   5320.0   \n",
       "1     Van Tuxwell      India        85% Dark Bars  2022-08-01   7896.0   \n",
       "2    Gigi Bohling      India  Peanut Butter Cubes  2022-07-07   4501.0   \n",
       "3    Jan Morforth  Australia  Peanut Butter Cubes  2022-04-27  12726.0   \n",
       "4  Jehu Rudeforth         UK  Peanut Butter Cubes  2022-02-24  13685.0   \n",
       "\n",
       "   boxes_shipped    month  price_per_box  \n",
       "0            180  2022-01      29.555556  \n",
       "1             94  2022-08      84.000000  \n",
       "2             91  2022-07      49.461538  \n",
       "3            342  2022-04      37.210526  \n",
       "4            184  2022-02      74.375000  "
      ]
     },
     "execution_count": 13,
     "metadata": {},
     "output_type": "execute_result"
    }
   ],
   "source": [
    "df['price_per_box'] = df['amount'] / df['boxes_shipped']\n",
    "df.head()"
   ]
  },
  {
   "cell_type": "code",
   "execution_count": 14,
   "metadata": {},
   "outputs": [
    {
     "data": {
      "image/png": "[encoded data removed]",
      "text/plain": [
       "<Figure size 1000x500 with 1 Axes>"
      ]
     },
     "metadata": {},
     "output_type": "display_data"
    }
   ],
   "source": [
    "plt.figure(figsize=(10, 5))\n",
    "sns.histplot(df['price_per_box'], bins=30, kde=True, color='darkcyan')\n",
    "plt.title(\"Price per Box Distribution\")\n",
    "plt.xlabel(\"Price per Box ($)\")\n",
    "plt.ylabel(\"Frequency\")\n",
    "plt.tight_layout()\n",
    "plt.show()"
   ]
  },
  {
   "cell_type": "markdown",
   "metadata": {},
   "source": [
    "I think that a good way to analyze that is to make a segmentation of the sales, and then analyze the behavior of each segment.\n",
    "\n",
    "First, segmentation by order size, and then by average profit and total sales."
   ]
  },
  {
   "cell_type": "code",
   "execution_count": 15,
   "metadata": {},
   "outputs": [
    {
     "data": {
      "text/html": [
       "<div>\n",
       "<style scoped>\n",
       "    .dataframe tbody tr th:only-of-type {\n",
       "        vertical-align: middle;\n",
       "    }\n",
       "\n",
       "    .dataframe tbody tr th {\n",
       "        vertical-align: top;\n",
       "    }\n",
       "\n",
       "    .dataframe thead th {\n",
       "        text-align: right;\n",
       "    }\n",
       "</style>\n",
       "<table border=\"1\" class=\"dataframe\">\n",
       "  <thead>\n",
       "    <tr style=\"text-align: right;\">\n",
       "      <th></th>\n",
       "      <th>sales_person</th>\n",
       "      <th>country</th>\n",
       "      <th>product</th>\n",
       "      <th>date</th>\n",
       "      <th>amount</th>\n",
       "      <th>boxes_shipped</th>\n",
       "      <th>month</th>\n",
       "      <th>price_per_box</th>\n",
       "      <th>order_size</th>\n",
       "    </tr>\n",
       "  </thead>\n",
       "  <tbody>\n",
       "    <tr>\n",
       "      <th>0</th>\n",
       "      <td>Jehu Rudeforth</td>\n",
       "      <td>UK</td>\n",
       "      <td>Mint Chip Choco</td>\n",
       "      <td>2022-01-04</td>\n",
       "      <td>5320.0</td>\n",
       "      <td>180</td>\n",
       "      <td>2022-01</td>\n",
       "      <td>29.555556</td>\n",
       "      <td>large</td>\n",
       "    </tr>\n",
       "    <tr>\n",
       "      <th>1</th>\n",
       "      <td>Van Tuxwell</td>\n",
       "      <td>India</td>\n",
       "      <td>85% Dark Bars</td>\n",
       "      <td>2022-08-01</td>\n",
       "      <td>7896.0</td>\n",
       "      <td>94</td>\n",
       "      <td>2022-08</td>\n",
       "      <td>84.000000</td>\n",
       "      <td>large</td>\n",
       "    </tr>\n",
       "    <tr>\n",
       "      <th>2</th>\n",
       "      <td>Gigi Bohling</td>\n",
       "      <td>India</td>\n",
       "      <td>Peanut Butter Cubes</td>\n",
       "      <td>2022-07-07</td>\n",
       "      <td>4501.0</td>\n",
       "      <td>91</td>\n",
       "      <td>2022-07</td>\n",
       "      <td>49.461538</td>\n",
       "      <td>large</td>\n",
       "    </tr>\n",
       "    <tr>\n",
       "      <th>3</th>\n",
       "      <td>Jan Morforth</td>\n",
       "      <td>Australia</td>\n",
       "      <td>Peanut Butter Cubes</td>\n",
       "      <td>2022-04-27</td>\n",
       "      <td>12726.0</td>\n",
       "      <td>342</td>\n",
       "      <td>2022-04</td>\n",
       "      <td>37.210526</td>\n",
       "      <td>large</td>\n",
       "    </tr>\n",
       "    <tr>\n",
       "      <th>4</th>\n",
       "      <td>Jehu Rudeforth</td>\n",
       "      <td>UK</td>\n",
       "      <td>Peanut Butter Cubes</td>\n",
       "      <td>2022-02-24</td>\n",
       "      <td>13685.0</td>\n",
       "      <td>184</td>\n",
       "      <td>2022-02</td>\n",
       "      <td>74.375000</td>\n",
       "      <td>large</td>\n",
       "    </tr>\n",
       "  </tbody>\n",
       "</table>\n",
       "</div>"
      ],
      "text/plain": [
       "     sales_person    country              product        date   amount  \\\n",
       "0  Jehu Rudeforth         UK      Mint Chip Choco  2022-01-04   5320.0   \n",
       "1     Van Tuxwell      India        85% Dark Bars  2022-08-01   7896.0   \n",
       "2    Gigi Bohling      India  Peanut Butter Cubes  2022-07-07   4501.0   \n",
       "3    Jan Morforth  Australia  Peanut Butter Cubes  2022-04-27  12726.0   \n",
       "4  Jehu Rudeforth         UK  Peanut Butter Cubes  2022-02-24  13685.0   \n",
       "\n",
       "   boxes_shipped    month  price_per_box order_size  \n",
       "0            180  2022-01      29.555556      large  \n",
       "1             94  2022-08      84.000000      large  \n",
       "2             91  2022-07      49.461538      large  \n",
       "3            342  2022-04      37.210526      large  \n",
       "4            184  2022-02      74.375000      large  "
      ]
     },
     "execution_count": 15,
     "metadata": {},
     "output_type": "execute_result"
    }
   ],
   "source": [
    "df['order_size'] = pd.cut(\n",
    "    df['boxes_shipped'],\n",
    "    bins=[0, 10, 50, df['boxes_shipped'].max()],\n",
    "    labels=['small', 'medium', 'large']\n",
    ")\n",
    "df.head()"
   ]
  },
  {
   "cell_type": "code",
   "execution_count": 16,
   "metadata": {},
   "outputs": [
    {
     "data": {
      "text/html": [
       "<div>\n",
       "<style scoped>\n",
       "    .dataframe tbody tr th:only-of-type {\n",
       "        vertical-align: middle;\n",
       "    }\n",
       "\n",
       "    .dataframe tbody tr th {\n",
       "        vertical-align: top;\n",
       "    }\n",
       "\n",
       "    .dataframe thead tr th {\n",
       "        text-align: left;\n",
       "    }\n",
       "\n",
       "    .dataframe thead tr:last-of-type th {\n",
       "        text-align: right;\n",
       "    }\n",
       "</style>\n",
       "<table border=\"1\" class=\"dataframe\">\n",
       "  <thead>\n",
       "    <tr>\n",
       "      <th></th>\n",
       "      <th colspan=\"2\" halign=\"left\">amount</th>\n",
       "      <th>price_per_box</th>\n",
       "      <th>boxes_shipped</th>\n",
       "    </tr>\n",
       "    <tr>\n",
       "      <th></th>\n",
       "      <th>sum</th>\n",
       "      <th>mean</th>\n",
       "      <th>mean</th>\n",
       "      <th>mean</th>\n",
       "    </tr>\n",
       "    <tr>\n",
       "      <th>order_size</th>\n",
       "      <th></th>\n",
       "      <th></th>\n",
       "      <th></th>\n",
       "      <th></th>\n",
       "    </tr>\n",
       "  </thead>\n",
       "  <tbody>\n",
       "    <tr>\n",
       "      <th>small</th>\n",
       "      <td>182385.0</td>\n",
       "      <td>5526.82</td>\n",
       "      <td>1186.4</td>\n",
       "      <td>5.91</td>\n",
       "    </tr>\n",
       "    <tr>\n",
       "      <th>medium</th>\n",
       "      <td>950873.0</td>\n",
       "      <td>6056.52</td>\n",
       "      <td>250.1</td>\n",
       "      <td>30.34</td>\n",
       "    </tr>\n",
       "    <tr>\n",
       "      <th>large</th>\n",
       "      <td>5050367.0</td>\n",
       "      <td>5586.69</td>\n",
       "      <td>41.2</td>\n",
       "      <td>190.32</td>\n",
       "    </tr>\n",
       "  </tbody>\n",
       "</table>\n",
       "</div>"
      ],
      "text/plain": [
       "               amount          price_per_box boxes_shipped\n",
       "                  sum     mean          mean          mean\n",
       "order_size                                                \n",
       "small        182385.0  5526.82        1186.4          5.91\n",
       "medium       950873.0  6056.52         250.1         30.34\n",
       "large       5050367.0  5586.69          41.2        190.32"
      ]
     },
     "execution_count": 16,
     "metadata": {},
     "output_type": "execute_result"
    }
   ],
   "source": [
    "segment_stats = df.groupby(\"order_size\", observed=True).agg({\n",
    "    \"amount\": [\"sum\", \"mean\"],\n",
    "    \"price_per_box\": \"mean\",\n",
    "    \"boxes_shipped\": \"mean\"\n",
    "}).round(2)\n",
    "\n",
    "segment_stats"
   ]
  },
  {
   "cell_type": "code",
   "execution_count": 17,
   "metadata": {},
   "outputs": [
    {
     "data": {
      "text/html": [
       "<div>\n",
       "<style scoped>\n",
       "    .dataframe tbody tr th:only-of-type {\n",
       "        vertical-align: middle;\n",
       "    }\n",
       "\n",
       "    .dataframe tbody tr th {\n",
       "        vertical-align: top;\n",
       "    }\n",
       "\n",
       "    .dataframe thead th {\n",
       "        text-align: right;\n",
       "    }\n",
       "</style>\n",
       "<table border=\"1\" class=\"dataframe\">\n",
       "  <thead>\n",
       "    <tr style=\"text-align: right;\">\n",
       "      <th></th>\n",
       "      <th>order_size</th>\n",
       "      <th>total_revenue</th>\n",
       "      <th>avg_revenue</th>\n",
       "      <th>avg_price_per_box</th>\n",
       "      <th>avg_boxes</th>\n",
       "    </tr>\n",
       "  </thead>\n",
       "  <tbody>\n",
       "    <tr>\n",
       "      <th>0</th>\n",
       "      <td>small</td>\n",
       "      <td>182385.0</td>\n",
       "      <td>5526.82</td>\n",
       "      <td>1186.4</td>\n",
       "      <td>5.91</td>\n",
       "    </tr>\n",
       "    <tr>\n",
       "      <th>1</th>\n",
       "      <td>medium</td>\n",
       "      <td>950873.0</td>\n",
       "      <td>6056.52</td>\n",
       "      <td>250.1</td>\n",
       "      <td>30.34</td>\n",
       "    </tr>\n",
       "    <tr>\n",
       "      <th>2</th>\n",
       "      <td>large</td>\n",
       "      <td>5050367.0</td>\n",
       "      <td>5586.69</td>\n",
       "      <td>41.2</td>\n",
       "      <td>190.32</td>\n",
       "    </tr>\n",
       "  </tbody>\n",
       "</table>\n",
       "</div>"
      ],
      "text/plain": [
       "  order_size  total_revenue  avg_revenue  avg_price_per_box  avg_boxes\n",
       "0      small       182385.0      5526.82             1186.4       5.91\n",
       "1     medium       950873.0      6056.52              250.1      30.34\n",
       "2      large      5050367.0      5586.69               41.2     190.32"
      ]
     },
     "execution_count": 17,
     "metadata": {},
     "output_type": "execute_result"
    }
   ],
   "source": [
    "segment_stats.columns = ['total_revenue', 'avg_revenue', 'avg_price_per_box', 'avg_boxes']\n",
    "segment_stats.reset_index(inplace=True)\n",
    "segment_stats"
   ]
  },
  {
   "cell_type": "code",
   "execution_count": 18,
   "metadata": {},
   "outputs": [
    {
     "data": {
      "image/png": "[encoded data removed]",
      "text/plain": [
       "<Figure size 1400x500 with 2 Axes>"
      ]
     },
     "metadata": {},
     "output_type": "display_data"
    }
   ],
   "source": [
    "fig, ax = plt.subplots(1, 2, figsize=(14, 5))\n",
    "\n",
    "sns.barplot(data=segment_stats, x=\"order_size\", y=\"avg_price_per_box\", ax=ax[0], hue=\"avg_price_per_box\", palette=\"Purples_d\")\n",
    "ax[0].set_title(\"Avg Price per Box\")\n",
    "ax[0].set_xlabel(\"Order Size\")\n",
    "ax[0].set_ylabel(\"Price ($)\")\n",
    "\n",
    "sns.barplot(data=segment_stats, x=\"order_size\", y=\"avg_boxes\", ax=ax[1], hue=\"avg_boxes\", palette=\"Oranges_d\")\n",
    "ax[1].set_title(\"Avg Boxes Shipped\")\n",
    "ax[1].set_xlabel(\"Order Size\")\n",
    "ax[1].set_ylabel(\"Total Boxes\")\n",
    "\n",
    "plt.tight_layout()\n",
    "plt.show()"
   ]
  },
  {
   "cell_type": "markdown",
   "metadata": {},
   "source": [
    "In this case, we can conclude some relevant things:\n",
    "\n",
    "- **Inverse relationship observed**:\n",
    "  -  **Large orders**: Lowest unit price (~$41.2), highest volume (~190 boxes)\n",
    "  -  **Medium orders**: Moderate price (~$250.1), moderate volume (~30 boxes)\n",
    "  -  **Small orders**: Highest unit price (~$1,186.4), lowest volume (~6 boxes)\n",
    "\n",
    "- **Strategic insight**:\n",
    "  - Small orders offer **high margins per box**\n",
    "  - Large orders drive **sales volume and scale**\n",
    "  - A balanced approach may optimize both **profitability and revenue**"
   ]
  },
  {
   "cell_type": "markdown",
   "metadata": {},
   "source": [
    "## 5. Conclusion"
   ]
  },
  {
   "cell_type": "markdown",
   "metadata": {},
   "source": [
    "To focus this conclusion, I will make a supositions like how much does a chocolate cost, and how much does a chocolate box cost. \n",
    "\n",
    "Why I will do that? Because I think that is a good way to understand the data and the business in order to approach the analysis to a more realistic situation."
   ]
  },
  {
   "cell_type": "code",
   "execution_count": 19,
   "metadata": {},
   "outputs": [],
   "source": [
    "segment_stats[\"revenue_per_box\"] = segment_stats[\"avg_revenue\"] / segment_stats[\"avg_boxes\"]"
   ]
  },
  {
   "cell_type": "code",
   "execution_count": 20,
   "metadata": {},
   "outputs": [
    {
     "data": {
      "image/png": "[encoded data removed]",
      "text/plain": [
       "<Figure size 640x480 with 1 Axes>"
      ]
     },
     "metadata": {},
     "output_type": "display_data"
    }
   ],
   "source": [
    "sns.barplot(data=segment_stats, x=\"order_size\", y=\"revenue_per_box\", hue=\"order_size\", palette=\"coolwarm\")\n",
    "plt.title(\"Revenue per Box by Order Size\")\n",
    "plt.ylabel(\"Revenue per Box ($)\")\n",
    "plt.xlabel(\"Order Size\")\n",
    "plt.tight_layout()\n",
    "plt.show()"
   ]
  },
  {
   "cell_type": "markdown",
   "metadata": {},
   "source": [
    "It's clear that these market is price scaled-based. Small orders are more expensive than big orders but which profit is higher? I think that is a good question to ask. \n",
    "\n",
    "But this calculus of costs is so basic. Moreover is a simulation, we can do it better including the costs of the chocolate, the taxes and the logistics. Is not 100% accurate, but is a good approximation to understand the behavior of the sales."
   ]
  },
  {
   "cell_type": "code",
   "execution_count": 21,
   "metadata": {},
   "outputs": [],
   "source": [
    "def calculate_cost_row(row):\n",
    "    # Static costs\n",
    "    chocolate_cost = 12 * row[\"boxes_shipped\"]\n",
    "    tax_cost = 0.10 * row[\"amount\"]\n",
    "\n",
    "    # Variable costs\n",
    "    if row[\"boxes_shipped\"] <= 6: # Small\n",
    "        logistic_cost_box = 5\n",
    "    elif row[\"boxes_shipped\"] <= 30: # Medium\n",
    "        logistic_cost_box = 3\n",
    "    else:\n",
    "        logistic_cost_box = 1.5 # Large\n",
    "\n",
    "    logistic_cost = logistic_cost_box * row[\"boxes_shipped\"]\n",
    "\n",
    "    # Total cost\n",
    "    total_cost = chocolate_cost + tax_cost + logistic_cost\n",
    "    return chocolate_cost, tax_cost, logistic_cost, total_cost"
   ]
  },
  {
   "cell_type": "code",
   "execution_count": 22,
   "metadata": {},
   "outputs": [
    {
     "data": {
      "text/html": [
       "<div>\n",
       "<style scoped>\n",
       "    .dataframe tbody tr th:only-of-type {\n",
       "        vertical-align: middle;\n",
       "    }\n",
       "\n",
       "    .dataframe tbody tr th {\n",
       "        vertical-align: top;\n",
       "    }\n",
       "\n",
       "    .dataframe thead th {\n",
       "        text-align: right;\n",
       "    }\n",
       "</style>\n",
       "<table border=\"1\" class=\"dataframe\">\n",
       "  <thead>\n",
       "    <tr style=\"text-align: right;\">\n",
       "      <th></th>\n",
       "      <th>sales_person</th>\n",
       "      <th>country</th>\n",
       "      <th>product</th>\n",
       "      <th>date</th>\n",
       "      <th>amount</th>\n",
       "      <th>boxes_shipped</th>\n",
       "      <th>month</th>\n",
       "      <th>price_per_box</th>\n",
       "      <th>order_size</th>\n",
       "    </tr>\n",
       "  </thead>\n",
       "  <tbody>\n",
       "    <tr>\n",
       "      <th>0</th>\n",
       "      <td>Jehu Rudeforth</td>\n",
       "      <td>UK</td>\n",
       "      <td>Mint Chip Choco</td>\n",
       "      <td>2022-01-04</td>\n",
       "      <td>5320.0</td>\n",
       "      <td>180</td>\n",
       "      <td>2022-01</td>\n",
       "      <td>29.555556</td>\n",
       "      <td>large</td>\n",
       "    </tr>\n",
       "    <tr>\n",
       "      <th>1</th>\n",
       "      <td>Van Tuxwell</td>\n",
       "      <td>India</td>\n",
       "      <td>85% Dark Bars</td>\n",
       "      <td>2022-08-01</td>\n",
       "      <td>7896.0</td>\n",
       "      <td>94</td>\n",
       "      <td>2022-08</td>\n",
       "      <td>84.000000</td>\n",
       "      <td>large</td>\n",
       "    </tr>\n",
       "    <tr>\n",
       "      <th>2</th>\n",
       "      <td>Gigi Bohling</td>\n",
       "      <td>India</td>\n",
       "      <td>Peanut Butter Cubes</td>\n",
       "      <td>2022-07-07</td>\n",
       "      <td>4501.0</td>\n",
       "      <td>91</td>\n",
       "      <td>2022-07</td>\n",
       "      <td>49.461538</td>\n",
       "      <td>large</td>\n",
       "    </tr>\n",
       "    <tr>\n",
       "      <th>3</th>\n",
       "      <td>Jan Morforth</td>\n",
       "      <td>Australia</td>\n",
       "      <td>Peanut Butter Cubes</td>\n",
       "      <td>2022-04-27</td>\n",
       "      <td>12726.0</td>\n",
       "      <td>342</td>\n",
       "      <td>2022-04</td>\n",
       "      <td>37.210526</td>\n",
       "      <td>large</td>\n",
       "    </tr>\n",
       "    <tr>\n",
       "      <th>4</th>\n",
       "      <td>Jehu Rudeforth</td>\n",
       "      <td>UK</td>\n",
       "      <td>Peanut Butter Cubes</td>\n",
       "      <td>2022-02-24</td>\n",
       "      <td>13685.0</td>\n",
       "      <td>184</td>\n",
       "      <td>2022-02</td>\n",
       "      <td>74.375000</td>\n",
       "      <td>large</td>\n",
       "    </tr>\n",
       "  </tbody>\n",
       "</table>\n",
       "</div>"
      ],
      "text/plain": [
       "     sales_person    country              product        date   amount  \\\n",
       "0  Jehu Rudeforth         UK      Mint Chip Choco  2022-01-04   5320.0   \n",
       "1     Van Tuxwell      India        85% Dark Bars  2022-08-01   7896.0   \n",
       "2    Gigi Bohling      India  Peanut Butter Cubes  2022-07-07   4501.0   \n",
       "3    Jan Morforth  Australia  Peanut Butter Cubes  2022-04-27  12726.0   \n",
       "4  Jehu Rudeforth         UK  Peanut Butter Cubes  2022-02-24  13685.0   \n",
       "\n",
       "   boxes_shipped    month  price_per_box order_size  \n",
       "0            180  2022-01      29.555556      large  \n",
       "1             94  2022-08      84.000000      large  \n",
       "2             91  2022-07      49.461538      large  \n",
       "3            342  2022-04      37.210526      large  \n",
       "4            184  2022-02      74.375000      large  "
      ]
     },
     "execution_count": 22,
     "metadata": {},
     "output_type": "execute_result"
    }
   ],
   "source": [
    "df.head()"
   ]
  },
  {
   "cell_type": "code",
   "execution_count": 23,
   "metadata": {},
   "outputs": [
    {
     "data": {
      "text/html": [
       "<div>\n",
       "<style scoped>\n",
       "    .dataframe tbody tr th:only-of-type {\n",
       "        vertical-align: middle;\n",
       "    }\n",
       "\n",
       "    .dataframe tbody tr th {\n",
       "        vertical-align: top;\n",
       "    }\n",
       "\n",
       "    .dataframe thead th {\n",
       "        text-align: right;\n",
       "    }\n",
       "</style>\n",
       "<table border=\"1\" class=\"dataframe\">\n",
       "  <thead>\n",
       "    <tr style=\"text-align: right;\">\n",
       "      <th></th>\n",
       "      <th>sales_person</th>\n",
       "      <th>country</th>\n",
       "      <th>product</th>\n",
       "      <th>date</th>\n",
       "      <th>amount</th>\n",
       "      <th>boxes_shipped</th>\n",
       "      <th>month</th>\n",
       "      <th>price_per_box</th>\n",
       "      <th>order_size</th>\n",
       "      <th>chocolate_cost</th>\n",
       "      <th>tax_cost</th>\n",
       "      <th>logistic_cost</th>\n",
       "      <th>cost</th>\n",
       "      <th>profit</th>\n",
       "      <th>profit_margin</th>\n",
       "    </tr>\n",
       "  </thead>\n",
       "  <tbody>\n",
       "    <tr>\n",
       "      <th>0</th>\n",
       "      <td>Jehu Rudeforth</td>\n",
       "      <td>UK</td>\n",
       "      <td>Mint Chip Choco</td>\n",
       "      <td>2022-01-04</td>\n",
       "      <td>5320.0</td>\n",
       "      <td>180</td>\n",
       "      <td>2022-01</td>\n",
       "      <td>29.555556</td>\n",
       "      <td>large</td>\n",
       "      <td>2160.0</td>\n",
       "      <td>532.0</td>\n",
       "      <td>270.0</td>\n",
       "      <td>2962.0</td>\n",
       "      <td>2358.0</td>\n",
       "      <td>44.323308</td>\n",
       "    </tr>\n",
       "    <tr>\n",
       "      <th>1</th>\n",
       "      <td>Van Tuxwell</td>\n",
       "      <td>India</td>\n",
       "      <td>85% Dark Bars</td>\n",
       "      <td>2022-08-01</td>\n",
       "      <td>7896.0</td>\n",
       "      <td>94</td>\n",
       "      <td>2022-08</td>\n",
       "      <td>84.000000</td>\n",
       "      <td>large</td>\n",
       "      <td>1128.0</td>\n",
       "      <td>789.6</td>\n",
       "      <td>141.0</td>\n",
       "      <td>2058.6</td>\n",
       "      <td>5837.4</td>\n",
       "      <td>73.928571</td>\n",
       "    </tr>\n",
       "    <tr>\n",
       "      <th>2</th>\n",
       "      <td>Gigi Bohling</td>\n",
       "      <td>India</td>\n",
       "      <td>Peanut Butter Cubes</td>\n",
       "      <td>2022-07-07</td>\n",
       "      <td>4501.0</td>\n",
       "      <td>91</td>\n",
       "      <td>2022-07</td>\n",
       "      <td>49.461538</td>\n",
       "      <td>large</td>\n",
       "      <td>1092.0</td>\n",
       "      <td>450.1</td>\n",
       "      <td>136.5</td>\n",
       "      <td>1678.6</td>\n",
       "      <td>2822.4</td>\n",
       "      <td>62.706065</td>\n",
       "    </tr>\n",
       "    <tr>\n",
       "      <th>3</th>\n",
       "      <td>Jan Morforth</td>\n",
       "      <td>Australia</td>\n",
       "      <td>Peanut Butter Cubes</td>\n",
       "      <td>2022-04-27</td>\n",
       "      <td>12726.0</td>\n",
       "      <td>342</td>\n",
       "      <td>2022-04</td>\n",
       "      <td>37.210526</td>\n",
       "      <td>large</td>\n",
       "      <td>4104.0</td>\n",
       "      <td>1272.6</td>\n",
       "      <td>513.0</td>\n",
       "      <td>5889.6</td>\n",
       "      <td>6836.4</td>\n",
       "      <td>53.719943</td>\n",
       "    </tr>\n",
       "    <tr>\n",
       "      <th>4</th>\n",
       "      <td>Jehu Rudeforth</td>\n",
       "      <td>UK</td>\n",
       "      <td>Peanut Butter Cubes</td>\n",
       "      <td>2022-02-24</td>\n",
       "      <td>13685.0</td>\n",
       "      <td>184</td>\n",
       "      <td>2022-02</td>\n",
       "      <td>74.375000</td>\n",
       "      <td>large</td>\n",
       "      <td>2208.0</td>\n",
       "      <td>1368.5</td>\n",
       "      <td>276.0</td>\n",
       "      <td>3852.5</td>\n",
       "      <td>9832.5</td>\n",
       "      <td>71.848739</td>\n",
       "    </tr>\n",
       "  </tbody>\n",
       "</table>\n",
       "</div>"
      ],
      "text/plain": [
       "     sales_person    country              product        date   amount  \\\n",
       "0  Jehu Rudeforth         UK      Mint Chip Choco  2022-01-04   5320.0   \n",
       "1     Van Tuxwell      India        85% Dark Bars  2022-08-01   7896.0   \n",
       "2    Gigi Bohling      India  Peanut Butter Cubes  2022-07-07   4501.0   \n",
       "3    Jan Morforth  Australia  Peanut Butter Cubes  2022-04-27  12726.0   \n",
       "4  Jehu Rudeforth         UK  Peanut Butter Cubes  2022-02-24  13685.0   \n",
       "\n",
       "   boxes_shipped    month  price_per_box order_size  chocolate_cost  tax_cost  \\\n",
       "0            180  2022-01      29.555556      large          2160.0     532.0   \n",
       "1             94  2022-08      84.000000      large          1128.0     789.6   \n",
       "2             91  2022-07      49.461538      large          1092.0     450.1   \n",
       "3            342  2022-04      37.210526      large          4104.0    1272.6   \n",
       "4            184  2022-02      74.375000      large          2208.0    1368.5   \n",
       "\n",
       "   logistic_cost    cost  profit  profit_margin  \n",
       "0          270.0  2962.0  2358.0      44.323308  \n",
       "1          141.0  2058.6  5837.4      73.928571  \n",
       "2          136.5  1678.6  2822.4      62.706065  \n",
       "3          513.0  5889.6  6836.4      53.719943  \n",
       "4          276.0  3852.5  9832.5      71.848739  "
      ]
     },
     "execution_count": 23,
     "metadata": {},
     "output_type": "execute_result"
    }
   ],
   "source": [
    "df[[\"chocolate_cost\", \"tax_cost\", \"logistic_cost\", \"cost\"]] = df.apply(calculate_cost_row, axis=1, result_type=\"expand\")\n",
    "df[\"profit\"] = df[\"amount\"] - df[\"cost\"]\n",
    "df[\"profit_margin\"] = (df[\"profit\"] / df[\"amount\"]) * 100\n",
    "\n",
    "df.head()"
   ]
  },
  {
   "cell_type": "markdown",
   "metadata": {},
   "source": [
    "Okey now, let's know how much does it cost a order by size:"
   ]
  },
  {
   "cell_type": "code",
   "execution_count": 24,
   "metadata": {},
   "outputs": [
    {
     "data": {
      "text/html": [
       "<div>\n",
       "<style scoped>\n",
       "    .dataframe tbody tr th:only-of-type {\n",
       "        vertical-align: middle;\n",
       "    }\n",
       "\n",
       "    .dataframe tbody tr th {\n",
       "        vertical-align: top;\n",
       "    }\n",
       "\n",
       "    .dataframe thead th {\n",
       "        text-align: right;\n",
       "    }\n",
       "</style>\n",
       "<table border=\"1\" class=\"dataframe\">\n",
       "  <thead>\n",
       "    <tr style=\"text-align: right;\">\n",
       "      <th></th>\n",
       "      <th>order_size</th>\n",
       "      <th>avg_cost</th>\n",
       "    </tr>\n",
       "  </thead>\n",
       "  <tbody>\n",
       "    <tr>\n",
       "      <th>0</th>\n",
       "      <td>small</td>\n",
       "      <td>645.62</td>\n",
       "    </tr>\n",
       "    <tr>\n",
       "      <th>1</th>\n",
       "      <td>medium</td>\n",
       "      <td>1032.04</td>\n",
       "    </tr>\n",
       "    <tr>\n",
       "      <th>2</th>\n",
       "      <td>large</td>\n",
       "      <td>3127.97</td>\n",
       "    </tr>\n",
       "  </tbody>\n",
       "</table>\n",
       "</div>"
      ],
      "text/plain": [
       "  order_size  avg_cost\n",
       "0      small    645.62\n",
       "1     medium   1032.04\n",
       "2      large   3127.97"
      ]
     },
     "metadata": {},
     "output_type": "display_data"
    }
   ],
   "source": [
    "avg_cost_by_order = (\n",
    "    df.groupby(\"order_size\", observed=True)[\"cost\"]\n",
    "    .mean()\n",
    "    .round(2)\n",
    "    .reset_index()\n",
    "    .rename(columns={\"cost\": \"avg_cost\"})\n",
    ")\n",
    "\n",
    "display(avg_cost_by_order)\n"
   ]
  },
  {
   "cell_type": "markdown",
   "metadata": {},
   "source": [
    "And which percentage represents each cost of the total cost?"
   ]
  },
  {
   "cell_type": "code",
   "execution_count": 25,
   "metadata": {},
   "outputs": [
    {
     "data": {
      "image/png": "[encoded data removed]",
      "text/plain": [
       "<Figure size 1500x500 with 3 Axes>"
      ]
     },
     "metadata": {},
     "output_type": "display_data"
    }
   ],
   "source": [
    "segmented_costs = df.groupby(\"order_size\", observed=True)[[\"chocolate_cost\", \"tax_cost\", \"logistic_cost\", \"cost\"]].sum().reset_index()\n",
    "\n",
    "# For each order size, get the cost components\n",
    "order_sizes = segmented_costs[\"order_size\"]\n",
    "components = [\"chocolate_cost\", \"tax_cost\", \"logistic_cost\"]\n",
    "colors = [\"saddlebrown\", \"goldenrod\", \"lightblue\"]\n",
    "\n",
    "fig, axs = plt.subplots(1, 3, figsize=(15, 5))\n",
    "\n",
    "for i, size in enumerate(order_sizes):\n",
    "    # Get the cost values for this order size\n",
    "    costs = segmented_costs.loc[i, components].values\n",
    "    axs[i].pie(\n",
    "        costs,\n",
    "        labels=[\"Chocolate\", \"Tax\", \"Logistic\"],\n",
    "        colors=colors,\n",
    "        autopct=\"%1.1f%%\",\n",
    "        startangle=90\n",
    "    )\n",
    "    axs[i].set_title(f\"{size.capitalize()} Order\")\n",
    "\n",
    "plt.suptitle(\"Cost Composition by Order Size\", fontsize=14, y=1.02)\n",
    "plt.tight_layout()\n",
    "plt.show()"
   ]
  },
  {
   "cell_type": "markdown",
   "metadata": {},
   "source": [
    "And now, it's the time that all we were waiting for. Let's see the profit of each order size:"
   ]
  },
  {
   "cell_type": "code",
   "execution_count": 26,
   "metadata": {},
   "outputs": [
    {
     "data": {
      "text/html": [
       "<div>\n",
       "<style scoped>\n",
       "    .dataframe tbody tr th:only-of-type {\n",
       "        vertical-align: middle;\n",
       "    }\n",
       "\n",
       "    .dataframe tbody tr th {\n",
       "        vertical-align: top;\n",
       "    }\n",
       "\n",
       "    .dataframe thead th {\n",
       "        text-align: right;\n",
       "    }\n",
       "</style>\n",
       "<table border=\"1\" class=\"dataframe\">\n",
       "  <thead>\n",
       "    <tr style=\"text-align: right;\">\n",
       "      <th></th>\n",
       "      <th>amount</th>\n",
       "      <th>cost</th>\n",
       "      <th>profit</th>\n",
       "      <th>profit_margin</th>\n",
       "    </tr>\n",
       "    <tr>\n",
       "      <th>order_size</th>\n",
       "      <th></th>\n",
       "      <th></th>\n",
       "      <th></th>\n",
       "      <th></th>\n",
       "    </tr>\n",
       "  </thead>\n",
       "  <tbody>\n",
       "    <tr>\n",
       "      <th>small</th>\n",
       "      <td>182385.0</td>\n",
       "      <td>21305.5</td>\n",
       "      <td>161079.5</td>\n",
       "      <td>88.32</td>\n",
       "    </tr>\n",
       "    <tr>\n",
       "      <th>medium</th>\n",
       "      <td>950873.0</td>\n",
       "      <td>162030.8</td>\n",
       "      <td>788842.2</td>\n",
       "      <td>82.96</td>\n",
       "    </tr>\n",
       "    <tr>\n",
       "      <th>large</th>\n",
       "      <td>5050367.0</td>\n",
       "      <td>2827684.7</td>\n",
       "      <td>2222682.3</td>\n",
       "      <td>44.01</td>\n",
       "    </tr>\n",
       "  </tbody>\n",
       "</table>\n",
       "</div>"
      ],
      "text/plain": [
       "               amount       cost     profit  profit_margin\n",
       "order_size                                                \n",
       "small        182385.0    21305.5   161079.5          88.32\n",
       "medium       950873.0   162030.8   788842.2          82.96\n",
       "large       5050367.0  2827684.7  2222682.3          44.01"
      ]
     },
     "execution_count": 26,
     "metadata": {},
     "output_type": "execute_result"
    }
   ],
   "source": [
    "benefits = df.groupby(\"order_size\", observed=True).agg({\"amount\": \"sum\", \"cost\": \"sum\", \"profit\": \"sum\"}).round(2)\n",
    "\n",
    "benefits[\"profit_margin\"] = (benefits[\"profit\"] / benefits[\"amount\"]) * 100\n",
    "benefits = benefits.round(2)\n",
    "benefits"
   ]
  },
  {
   "cell_type": "code",
   "execution_count": 27,
   "metadata": {},
   "outputs": [
    {
     "data": {
      "image/png": "[encoded data removed]",
      "text/plain": [
       "<Figure size 1500x500 with 3 Axes>"
      ]
     },
     "metadata": {},
     "output_type": "display_data"
    }
   ],
   "source": [
    "labels = [\"Cost\", \"Profit\"]\n",
    "colors = [\"goldenrod\", \"seagreen\"]\n",
    "\n",
    "fig, axs = plt.subplots(1, 3, figsize=(15, 5))\n",
    "\n",
    "for i, size in enumerate(benefits.index):\n",
    "    cost = benefits.loc[size, \"cost\"]\n",
    "    profit = benefits.loc[size, \"profit\"]\n",
    "    axs[i].pie(\n",
    "        [cost, profit],\n",
    "        labels=labels,\n",
    "        colors=colors,\n",
    "        autopct=\"%1.1f%%\",\n",
    "        startangle=90\n",
    "    )\n",
    "    axs[i].set_title(f\"{size.capitalize()} Orders\", pad=15)\n",
    "\n",
    "plt.suptitle(\"Cost vs Profit Breakdown by Order Size\", fontsize=14, y=1.02)\n",
    "plt.tight_layout()\n",
    "plt.show()"
   ]
  },
  {
   "cell_type": "markdown",
   "metadata": {},
   "source": [
    "It's interesting because:\n",
    "\n",
    "- **Small orders** are the most profitable, with only **11.7% cost** and **88.3% profit margin**.\n",
    "- **Medium orders** maintain a strong profitability, with **83% profit**.\n",
    "- **Large orders**, while generating higher revenue, have significantly **lower margins** due to **higher operational costs (56%)**.\n",
    "\n",
    "This highlights the trade-off between **volume** and **profitability**, suggesting small and medium orders are more cost-efficient.\n"
   ]
  },
  {
   "cell_type": "code",
   "execution_count": 29,
   "metadata": {},
   "outputs": [
    {
     "data": {
      "image/png": "[encoded data removed]",
      "text/plain": [
       "<Figure size 1400x500 with 2 Axes>"
      ]
     },
     "metadata": {},
     "output_type": "display_data"
    }
   ],
   "source": [
    "fig, ax = plt.subplots(1, 2, figsize=(14, 5))\n",
    "\n",
    "sns.barplot(data=benefits, x=\"order_size\", y=\"profit_margin\", ax=ax[0], hue=\"order_size\", palette=\"Purples_d\")\n",
    "ax[0].set_title(\"Profit Margin by Order Size\")\n",
    "ax[0].set_xlabel(\"Order Size\")\n",
    "ax[0].set_ylabel(\"Profit Margin (%)\")\n",
    "\n",
    "sns.barplot(data=benefits, x=\"order_size\", y=\"profit\", ax=ax[1], hue=\"order_size\", palette=\"Oranges_d\")\n",
    "ax[1].set_title(\"Total Profit by Order Size\")\n",
    "ax[1].set_xlabel(\"Order Size\")\n",
    "ax[1].set_ylabel(\"Total Profit ($)\")\n",
    "\n",
    "plt.tight_layout()\n",
    "plt.show()"
   ]
  },
  {
   "cell_type": "markdown",
   "metadata": {},
   "source": [
    "Based on the analysis of profit margin and total profit across different order sizes, the following conclusions can be drawn:\n",
    "\n",
    "1. **High Unit Profitability in Small Orders vs. High Volume Profit in Large Orders**\n",
    "   \n",
    "   Small orders yield the highest **profit margin**, exceeding **85%**, followed closely by medium orders at around **80%**. In contrast, large orders show a significantly lower margin (around **45%**), yet they generate the highest **total profit**, surpassing **$2 million**.\n",
    "\n",
    "    > **Interpretation**:  \n",
    "    > Small orders are more profitable **per dollar sold**, but large orders are more profitable **in absolute terms** due to their scale.\n",
    "\n",
    "2. **Strategic Trade-off: Margin vs. Volume**\n",
    "\n",
    "    This result reveals a classic **business trade-off**:\n",
    "    - Smaller orders = **higher margins** but lower volume  \n",
    "    - Larger orders = **lower margins** but **much higher profit volume**\n",
    "\n",
    "    >  **Strategic Implication**:  \n",
    "    > If the business aims to **maximize profitability per unit**, targeting small or medium orders may be ideal — such as individual or boutique clients.  \n",
    "    > However, if the goal is to **maximize total profit**, then focusing on large-scale orders remains the most effective path.\n",
    "\n",
    "3. **Optimization Potential**\n",
    "\n",
    "    A hybrid strategy could offer the best outcome:\n",
    "    - **Maintain premium pricing** for small orders (justified by convenience, branding, or packaging)\n",
    "    - **Reduce cost structures** (especially logistics and tax optimization) in large orders to recover margins while maintaining volume."
   ]
  },
  {
   "cell_type": "markdown",
   "metadata": {},
   "source": [
    "# 6. Extra section: Interesting facts"
   ]
  },
  {
   "cell_type": "markdown",
   "metadata": {},
   "source": [
    "## 6.1. Best sales person for big orders"
   ]
  },
  {
   "cell_type": "markdown",
   "metadata": {},
   "source": [
    "Finishing my prevoius analysis, I had some questions as WHO is the sales person that sells more large orders? Because we saw that these orders made more money. So, for me is also interesting who is selling more but also who is selling better."
   ]
  },
  {
   "cell_type": "code",
   "execution_count": 30,
   "metadata": {},
   "outputs": [
    {
     "data": {
      "text/html": [
       "<div>\n",
       "<style scoped>\n",
       "    .dataframe tbody tr th:only-of-type {\n",
       "        vertical-align: middle;\n",
       "    }\n",
       "\n",
       "    .dataframe tbody tr th {\n",
       "        vertical-align: top;\n",
       "    }\n",
       "\n",
       "    .dataframe thead th {\n",
       "        text-align: right;\n",
       "    }\n",
       "</style>\n",
       "<table border=\"1\" class=\"dataframe\">\n",
       "  <thead>\n",
       "    <tr style=\"text-align: right;\">\n",
       "      <th></th>\n",
       "      <th>sales_person</th>\n",
       "      <th>total_big_sales</th>\n",
       "    </tr>\n",
       "  </thead>\n",
       "  <tbody>\n",
       "    <tr>\n",
       "      <th>0</th>\n",
       "      <td>Kelci Walkden</td>\n",
       "      <td>45</td>\n",
       "    </tr>\n",
       "    <tr>\n",
       "      <th>1</th>\n",
       "      <td>Beverie Moffet</td>\n",
       "      <td>43</td>\n",
       "    </tr>\n",
       "    <tr>\n",
       "      <th>2</th>\n",
       "      <td>Ches Bonnell</td>\n",
       "      <td>42</td>\n",
       "    </tr>\n",
       "    <tr>\n",
       "      <th>3</th>\n",
       "      <td>Gigi Bohling</td>\n",
       "      <td>42</td>\n",
       "    </tr>\n",
       "    <tr>\n",
       "      <th>4</th>\n",
       "      <td>Brien Boise</td>\n",
       "      <td>41</td>\n",
       "    </tr>\n",
       "    <tr>\n",
       "      <th>5</th>\n",
       "      <td>Karlen McCaffrey</td>\n",
       "      <td>41</td>\n",
       "    </tr>\n",
       "    <tr>\n",
       "      <th>6</th>\n",
       "      <td>Oby Sorrel</td>\n",
       "      <td>40</td>\n",
       "    </tr>\n",
       "    <tr>\n",
       "      <th>7</th>\n",
       "      <td>Dennison Crosswaite</td>\n",
       "      <td>39</td>\n",
       "    </tr>\n",
       "    <tr>\n",
       "      <th>8</th>\n",
       "      <td>Curtice Advani</td>\n",
       "      <td>38</td>\n",
       "    </tr>\n",
       "    <tr>\n",
       "      <th>9</th>\n",
       "      <td>Kaine Padly</td>\n",
       "      <td>38</td>\n",
       "    </tr>\n",
       "    <tr>\n",
       "      <th>10</th>\n",
       "      <td>Madelene Upcott</td>\n",
       "      <td>37</td>\n",
       "    </tr>\n",
       "    <tr>\n",
       "      <th>11</th>\n",
       "      <td>Marney O'Breen</td>\n",
       "      <td>37</td>\n",
       "    </tr>\n",
       "    <tr>\n",
       "      <th>12</th>\n",
       "      <td>Van Tuxwell</td>\n",
       "      <td>37</td>\n",
       "    </tr>\n",
       "    <tr>\n",
       "      <th>13</th>\n",
       "      <td>Jehu Rudeforth</td>\n",
       "      <td>36</td>\n",
       "    </tr>\n",
       "    <tr>\n",
       "      <th>14</th>\n",
       "      <td>Gunar Cockshoot</td>\n",
       "      <td>35</td>\n",
       "    </tr>\n",
       "    <tr>\n",
       "      <th>15</th>\n",
       "      <td>Barr Faughny</td>\n",
       "      <td>35</td>\n",
       "    </tr>\n",
       "    <tr>\n",
       "      <th>16</th>\n",
       "      <td>Roddy Speechley</td>\n",
       "      <td>35</td>\n",
       "    </tr>\n",
       "    <tr>\n",
       "      <th>17</th>\n",
       "      <td>Jan Morforth</td>\n",
       "      <td>34</td>\n",
       "    </tr>\n",
       "    <tr>\n",
       "      <th>18</th>\n",
       "      <td>Dotty Strutley</td>\n",
       "      <td>33</td>\n",
       "    </tr>\n",
       "    <tr>\n",
       "      <th>19</th>\n",
       "      <td>Mallorie Waber</td>\n",
       "      <td>31</td>\n",
       "    </tr>\n",
       "    <tr>\n",
       "      <th>20</th>\n",
       "      <td>Rafaelita Blaksland</td>\n",
       "      <td>31</td>\n",
       "    </tr>\n",
       "    <tr>\n",
       "      <th>21</th>\n",
       "      <td>Andria Kimpton</td>\n",
       "      <td>31</td>\n",
       "    </tr>\n",
       "    <tr>\n",
       "      <th>22</th>\n",
       "      <td>Husein Augar</td>\n",
       "      <td>30</td>\n",
       "    </tr>\n",
       "    <tr>\n",
       "      <th>23</th>\n",
       "      <td>Wilone O'Kielt</td>\n",
       "      <td>27</td>\n",
       "    </tr>\n",
       "    <tr>\n",
       "      <th>24</th>\n",
       "      <td>Camilla Castle</td>\n",
       "      <td>26</td>\n",
       "    </tr>\n",
       "  </tbody>\n",
       "</table>\n",
       "</div>"
      ],
      "text/plain": [
       "           sales_person  total_big_sales\n",
       "0         Kelci Walkden               45\n",
       "1        Beverie Moffet               43\n",
       "2          Ches Bonnell               42\n",
       "3          Gigi Bohling               42\n",
       "4           Brien Boise               41\n",
       "5      Karlen McCaffrey               41\n",
       "6            Oby Sorrel               40\n",
       "7   Dennison Crosswaite               39\n",
       "8        Curtice Advani               38\n",
       "9           Kaine Padly               38\n",
       "10      Madelene Upcott               37\n",
       "11       Marney O'Breen               37\n",
       "12          Van Tuxwell               37\n",
       "13       Jehu Rudeforth               36\n",
       "14      Gunar Cockshoot               35\n",
       "15         Barr Faughny               35\n",
       "16      Roddy Speechley               35\n",
       "17         Jan Morforth               34\n",
       "18       Dotty Strutley               33\n",
       "19       Mallorie Waber               31\n",
       "20  Rafaelita Blaksland               31\n",
       "21       Andria Kimpton               31\n",
       "22         Husein Augar               30\n",
       "23       Wilone O'Kielt               27\n",
       "24       Camilla Castle               26"
      ]
     },
     "execution_count": 30,
     "metadata": {},
     "output_type": "execute_result"
    }
   ],
   "source": [
    "big_orders = df[df[\"order_size\"] == \"large\"]\n",
    "top_big_sales = big_orders[\"sales_person\"].value_counts().reset_index()\n",
    "top_big_sales.columns = [\"sales_person\", \"total_big_sales\"]\n",
    "top_big_sales\n"
   ]
  },
  {
   "cell_type": "code",
   "execution_count": 31,
   "metadata": {},
   "outputs": [
    {
     "data": {
      "text/html": [
       "<div>\n",
       "<style scoped>\n",
       "    .dataframe tbody tr th:only-of-type {\n",
       "        vertical-align: middle;\n",
       "    }\n",
       "\n",
       "    .dataframe tbody tr th {\n",
       "        vertical-align: top;\n",
       "    }\n",
       "\n",
       "    .dataframe thead th {\n",
       "        text-align: right;\n",
       "    }\n",
       "</style>\n",
       "<table border=\"1\" class=\"dataframe\">\n",
       "  <thead>\n",
       "    <tr style=\"text-align: right;\">\n",
       "      <th></th>\n",
       "      <th>sales_person</th>\n",
       "      <th>total_big_sales</th>\n",
       "      <th>total_sales</th>\n",
       "      <th>big_sales_percentage</th>\n",
       "    </tr>\n",
       "  </thead>\n",
       "  <tbody>\n",
       "    <tr>\n",
       "      <th>18</th>\n",
       "      <td>Dotty Strutley</td>\n",
       "      <td>33</td>\n",
       "      <td>36</td>\n",
       "      <td>91.666667</td>\n",
       "    </tr>\n",
       "    <tr>\n",
       "      <th>20</th>\n",
       "      <td>Rafaelita Blaksland</td>\n",
       "      <td>31</td>\n",
       "      <td>34</td>\n",
       "      <td>91.176471</td>\n",
       "    </tr>\n",
       "    <tr>\n",
       "      <th>3</th>\n",
       "      <td>Gigi Bohling</td>\n",
       "      <td>42</td>\n",
       "      <td>47</td>\n",
       "      <td>89.361702</td>\n",
       "    </tr>\n",
       "    <tr>\n",
       "      <th>2</th>\n",
       "      <td>Ches Bonnell</td>\n",
       "      <td>42</td>\n",
       "      <td>48</td>\n",
       "      <td>87.500000</td>\n",
       "    </tr>\n",
       "    <tr>\n",
       "      <th>5</th>\n",
       "      <td>Karlen McCaffrey</td>\n",
       "      <td>41</td>\n",
       "      <td>47</td>\n",
       "      <td>87.234043</td>\n",
       "    </tr>\n",
       "    <tr>\n",
       "      <th>17</th>\n",
       "      <td>Jan Morforth</td>\n",
       "      <td>34</td>\n",
       "      <td>39</td>\n",
       "      <td>87.179487</td>\n",
       "    </tr>\n",
       "    <tr>\n",
       "      <th>1</th>\n",
       "      <td>Beverie Moffet</td>\n",
       "      <td>43</td>\n",
       "      <td>50</td>\n",
       "      <td>86.000000</td>\n",
       "    </tr>\n",
       "    <tr>\n",
       "      <th>9</th>\n",
       "      <td>Kaine Padly</td>\n",
       "      <td>38</td>\n",
       "      <td>45</td>\n",
       "      <td>84.444444</td>\n",
       "    </tr>\n",
       "    <tr>\n",
       "      <th>13</th>\n",
       "      <td>Jehu Rudeforth</td>\n",
       "      <td>36</td>\n",
       "      <td>43</td>\n",
       "      <td>83.720930</td>\n",
       "    </tr>\n",
       "    <tr>\n",
       "      <th>0</th>\n",
       "      <td>Kelci Walkden</td>\n",
       "      <td>45</td>\n",
       "      <td>54</td>\n",
       "      <td>83.333333</td>\n",
       "    </tr>\n",
       "    <tr>\n",
       "      <th>8</th>\n",
       "      <td>Curtice Advani</td>\n",
       "      <td>38</td>\n",
       "      <td>46</td>\n",
       "      <td>82.608696</td>\n",
       "    </tr>\n",
       "    <tr>\n",
       "      <th>11</th>\n",
       "      <td>Marney O'Breen</td>\n",
       "      <td>37</td>\n",
       "      <td>45</td>\n",
       "      <td>82.222222</td>\n",
       "    </tr>\n",
       "    <tr>\n",
       "      <th>10</th>\n",
       "      <td>Madelene Upcott</td>\n",
       "      <td>37</td>\n",
       "      <td>45</td>\n",
       "      <td>82.222222</td>\n",
       "    </tr>\n",
       "    <tr>\n",
       "      <th>6</th>\n",
       "      <td>Oby Sorrel</td>\n",
       "      <td>40</td>\n",
       "      <td>49</td>\n",
       "      <td>81.632653</td>\n",
       "    </tr>\n",
       "    <tr>\n",
       "      <th>14</th>\n",
       "      <td>Gunar Cockshoot</td>\n",
       "      <td>35</td>\n",
       "      <td>43</td>\n",
       "      <td>81.395349</td>\n",
       "    </tr>\n",
       "    <tr>\n",
       "      <th>15</th>\n",
       "      <td>Barr Faughny</td>\n",
       "      <td>35</td>\n",
       "      <td>43</td>\n",
       "      <td>81.395349</td>\n",
       "    </tr>\n",
       "    <tr>\n",
       "      <th>16</th>\n",
       "      <td>Roddy Speechley</td>\n",
       "      <td>35</td>\n",
       "      <td>43</td>\n",
       "      <td>81.395349</td>\n",
       "    </tr>\n",
       "    <tr>\n",
       "      <th>24</th>\n",
       "      <td>Camilla Castle</td>\n",
       "      <td>26</td>\n",
       "      <td>32</td>\n",
       "      <td>81.250000</td>\n",
       "    </tr>\n",
       "    <tr>\n",
       "      <th>7</th>\n",
       "      <td>Dennison Crosswaite</td>\n",
       "      <td>39</td>\n",
       "      <td>49</td>\n",
       "      <td>79.591837</td>\n",
       "    </tr>\n",
       "    <tr>\n",
       "      <th>21</th>\n",
       "      <td>Andria Kimpton</td>\n",
       "      <td>31</td>\n",
       "      <td>39</td>\n",
       "      <td>79.487179</td>\n",
       "    </tr>\n",
       "    <tr>\n",
       "      <th>23</th>\n",
       "      <td>Wilone O'Kielt</td>\n",
       "      <td>27</td>\n",
       "      <td>34</td>\n",
       "      <td>79.411765</td>\n",
       "    </tr>\n",
       "    <tr>\n",
       "      <th>22</th>\n",
       "      <td>Husein Augar</td>\n",
       "      <td>30</td>\n",
       "      <td>38</td>\n",
       "      <td>78.947368</td>\n",
       "    </tr>\n",
       "    <tr>\n",
       "      <th>4</th>\n",
       "      <td>Brien Boise</td>\n",
       "      <td>41</td>\n",
       "      <td>53</td>\n",
       "      <td>77.358491</td>\n",
       "    </tr>\n",
       "    <tr>\n",
       "      <th>19</th>\n",
       "      <td>Mallorie Waber</td>\n",
       "      <td>31</td>\n",
       "      <td>41</td>\n",
       "      <td>75.609756</td>\n",
       "    </tr>\n",
       "    <tr>\n",
       "      <th>12</th>\n",
       "      <td>Van Tuxwell</td>\n",
       "      <td>37</td>\n",
       "      <td>51</td>\n",
       "      <td>72.549020</td>\n",
       "    </tr>\n",
       "  </tbody>\n",
       "</table>\n",
       "</div>"
      ],
      "text/plain": [
       "           sales_person  total_big_sales  total_sales  big_sales_percentage\n",
       "18       Dotty Strutley               33           36             91.666667\n",
       "20  Rafaelita Blaksland               31           34             91.176471\n",
       "3          Gigi Bohling               42           47             89.361702\n",
       "2          Ches Bonnell               42           48             87.500000\n",
       "5      Karlen McCaffrey               41           47             87.234043\n",
       "17         Jan Morforth               34           39             87.179487\n",
       "1        Beverie Moffet               43           50             86.000000\n",
       "9           Kaine Padly               38           45             84.444444\n",
       "13       Jehu Rudeforth               36           43             83.720930\n",
       "0         Kelci Walkden               45           54             83.333333\n",
       "8        Curtice Advani               38           46             82.608696\n",
       "11       Marney O'Breen               37           45             82.222222\n",
       "10      Madelene Upcott               37           45             82.222222\n",
       "6            Oby Sorrel               40           49             81.632653\n",
       "14      Gunar Cockshoot               35           43             81.395349\n",
       "15         Barr Faughny               35           43             81.395349\n",
       "16      Roddy Speechley               35           43             81.395349\n",
       "24       Camilla Castle               26           32             81.250000\n",
       "7   Dennison Crosswaite               39           49             79.591837\n",
       "21       Andria Kimpton               31           39             79.487179\n",
       "23       Wilone O'Kielt               27           34             79.411765\n",
       "22         Husein Augar               30           38             78.947368\n",
       "4           Brien Boise               41           53             77.358491\n",
       "19       Mallorie Waber               31           41             75.609756\n",
       "12          Van Tuxwell               37           51             72.549020"
      ]
     },
     "execution_count": 31,
     "metadata": {},
     "output_type": "execute_result"
    }
   ],
   "source": [
    "total_sales = df[\"sales_person\"].value_counts().reset_index()\n",
    "total_sales.columns = [\"sales_person\", \"total_sales\"]\n",
    "\n",
    "# Merge top big orders sales persons with total sales\n",
    "df_merged = pd.merge(top_big_sales, total_sales, on=\"sales_person\", how=\"left\")\n",
    "df_merged[\"big_sales_percentage\"] = (df_merged[\"total_big_sales\"] / df_merged[\"total_sales\"]) * 100\n",
    "df_merged = df_merged.sort_values(by=\"big_sales_percentage\", ascending=False)\n",
    "df_merged"
   ]
  },
  {
   "cell_type": "markdown",
   "metadata": {},
   "source": [
    "We can see that the sales person who sells more large orders is `Dotty Strutley`, with 33 large orders which represents 91.6% of his total orders.\n",
    "\n",
    "And if we add the total profit of each sales person? It will have some relatiionship that the sales person who sells more large orders is also the one who makes more money? In fact, we saw in the prevoius analysis that small orders are more profitable. So it will depend of the volume."
   ]
  },
  {
   "cell_type": "markdown",
   "metadata": {},
   "source": [
    "## 6.2. Sales person clustering"
   ]
  },
  {
   "cell_type": "markdown",
   "metadata": {},
   "source": [
    "Maybe if we make a clustering of the sales person, we can see some interesting things. I will use KMeans to make a clustering of the sales person based on the total profit and the average profit.\n",
    "\n",
    "The objective is to find the best group of sales person and what are their doing to generate more profit."
   ]
  },
  {
   "cell_type": "code",
   "execution_count": 32,
   "metadata": {},
   "outputs": [
    {
     "data": {
      "text/html": [
       "<div>\n",
       "<style scoped>\n",
       "    .dataframe tbody tr th:only-of-type {\n",
       "        vertical-align: middle;\n",
       "    }\n",
       "\n",
       "    .dataframe tbody tr th {\n",
       "        vertical-align: top;\n",
       "    }\n",
       "\n",
       "    .dataframe thead th {\n",
       "        text-align: right;\n",
       "    }\n",
       "</style>\n",
       "<table border=\"1\" class=\"dataframe\">\n",
       "  <thead>\n",
       "    <tr style=\"text-align: right;\">\n",
       "      <th></th>\n",
       "      <th>sales_person</th>\n",
       "      <th>country</th>\n",
       "      <th>product</th>\n",
       "      <th>date</th>\n",
       "      <th>amount</th>\n",
       "      <th>boxes_shipped</th>\n",
       "      <th>month</th>\n",
       "      <th>price_per_box</th>\n",
       "      <th>order_size</th>\n",
       "      <th>chocolate_cost</th>\n",
       "      <th>tax_cost</th>\n",
       "      <th>logistic_cost</th>\n",
       "      <th>cost</th>\n",
       "      <th>profit</th>\n",
       "      <th>profit_margin</th>\n",
       "    </tr>\n",
       "  </thead>\n",
       "  <tbody>\n",
       "    <tr>\n",
       "      <th>0</th>\n",
       "      <td>Jehu Rudeforth</td>\n",
       "      <td>UK</td>\n",
       "      <td>Mint Chip Choco</td>\n",
       "      <td>2022-01-04</td>\n",
       "      <td>5320.0</td>\n",
       "      <td>180</td>\n",
       "      <td>2022-01</td>\n",
       "      <td>29.555556</td>\n",
       "      <td>large</td>\n",
       "      <td>2160.0</td>\n",
       "      <td>532.0</td>\n",
       "      <td>270.0</td>\n",
       "      <td>2962.0</td>\n",
       "      <td>2358.0</td>\n",
       "      <td>44.323308</td>\n",
       "    </tr>\n",
       "    <tr>\n",
       "      <th>1</th>\n",
       "      <td>Van Tuxwell</td>\n",
       "      <td>India</td>\n",
       "      <td>85% Dark Bars</td>\n",
       "      <td>2022-08-01</td>\n",
       "      <td>7896.0</td>\n",
       "      <td>94</td>\n",
       "      <td>2022-08</td>\n",
       "      <td>84.000000</td>\n",
       "      <td>large</td>\n",
       "      <td>1128.0</td>\n",
       "      <td>789.6</td>\n",
       "      <td>141.0</td>\n",
       "      <td>2058.6</td>\n",
       "      <td>5837.4</td>\n",
       "      <td>73.928571</td>\n",
       "    </tr>\n",
       "    <tr>\n",
       "      <th>2</th>\n",
       "      <td>Gigi Bohling</td>\n",
       "      <td>India</td>\n",
       "      <td>Peanut Butter Cubes</td>\n",
       "      <td>2022-07-07</td>\n",
       "      <td>4501.0</td>\n",
       "      <td>91</td>\n",
       "      <td>2022-07</td>\n",
       "      <td>49.461538</td>\n",
       "      <td>large</td>\n",
       "      <td>1092.0</td>\n",
       "      <td>450.1</td>\n",
       "      <td>136.5</td>\n",
       "      <td>1678.6</td>\n",
       "      <td>2822.4</td>\n",
       "      <td>62.706065</td>\n",
       "    </tr>\n",
       "    <tr>\n",
       "      <th>3</th>\n",
       "      <td>Jan Morforth</td>\n",
       "      <td>Australia</td>\n",
       "      <td>Peanut Butter Cubes</td>\n",
       "      <td>2022-04-27</td>\n",
       "      <td>12726.0</td>\n",
       "      <td>342</td>\n",
       "      <td>2022-04</td>\n",
       "      <td>37.210526</td>\n",
       "      <td>large</td>\n",
       "      <td>4104.0</td>\n",
       "      <td>1272.6</td>\n",
       "      <td>513.0</td>\n",
       "      <td>5889.6</td>\n",
       "      <td>6836.4</td>\n",
       "      <td>53.719943</td>\n",
       "    </tr>\n",
       "    <tr>\n",
       "      <th>4</th>\n",
       "      <td>Jehu Rudeforth</td>\n",
       "      <td>UK</td>\n",
       "      <td>Peanut Butter Cubes</td>\n",
       "      <td>2022-02-24</td>\n",
       "      <td>13685.0</td>\n",
       "      <td>184</td>\n",
       "      <td>2022-02</td>\n",
       "      <td>74.375000</td>\n",
       "      <td>large</td>\n",
       "      <td>2208.0</td>\n",
       "      <td>1368.5</td>\n",
       "      <td>276.0</td>\n",
       "      <td>3852.5</td>\n",
       "      <td>9832.5</td>\n",
       "      <td>71.848739</td>\n",
       "    </tr>\n",
       "  </tbody>\n",
       "</table>\n",
       "</div>"
      ],
      "text/plain": [
       "     sales_person    country              product        date   amount  \\\n",
       "0  Jehu Rudeforth         UK      Mint Chip Choco  2022-01-04   5320.0   \n",
       "1     Van Tuxwell      India        85% Dark Bars  2022-08-01   7896.0   \n",
       "2    Gigi Bohling      India  Peanut Butter Cubes  2022-07-07   4501.0   \n",
       "3    Jan Morforth  Australia  Peanut Butter Cubes  2022-04-27  12726.0   \n",
       "4  Jehu Rudeforth         UK  Peanut Butter Cubes  2022-02-24  13685.0   \n",
       "\n",
       "   boxes_shipped    month  price_per_box order_size  chocolate_cost  tax_cost  \\\n",
       "0            180  2022-01      29.555556      large          2160.0     532.0   \n",
       "1             94  2022-08      84.000000      large          1128.0     789.6   \n",
       "2             91  2022-07      49.461538      large          1092.0     450.1   \n",
       "3            342  2022-04      37.210526      large          4104.0    1272.6   \n",
       "4            184  2022-02      74.375000      large          2208.0    1368.5   \n",
       "\n",
       "   logistic_cost    cost  profit  profit_margin  \n",
       "0          270.0  2962.0  2358.0      44.323308  \n",
       "1          141.0  2058.6  5837.4      73.928571  \n",
       "2          136.5  1678.6  2822.4      62.706065  \n",
       "3          513.0  5889.6  6836.4      53.719943  \n",
       "4          276.0  3852.5  9832.5      71.848739  "
      ]
     },
     "execution_count": 32,
     "metadata": {},
     "output_type": "execute_result"
    }
   ],
   "source": [
    "df.head()"
   ]
  },
  {
   "cell_type": "markdown",
   "metadata": {},
   "source": [
    "Here is the dataframe with the clustering of the sales person:"
   ]
  },
  {
   "cell_type": "code",
   "execution_count": null,
   "metadata": {},
   "outputs": [
    {
     "data": {
      "text/html": [
       "<div>\n",
       "<style scoped>\n",
       "    .dataframe tbody tr th:only-of-type {\n",
       "        vertical-align: middle;\n",
       "    }\n",
       "\n",
       "    .dataframe tbody tr th {\n",
       "        vertical-align: top;\n",
       "    }\n",
       "\n",
       "    .dataframe thead th {\n",
       "        text-align: right;\n",
       "    }\n",
       "</style>\n",
       "<table border=\"1\" class=\"dataframe\">\n",
       "  <thead>\n",
       "    <tr style=\"text-align: right;\">\n",
       "      <th></th>\n",
       "      <th>sales_person</th>\n",
       "      <th>total_sales</th>\n",
       "      <th>small_orders</th>\n",
       "      <th>medium_orders</th>\n",
       "      <th>large_orders</th>\n",
       "      <th>big_orders_percentage</th>\n",
       "      <th>total_profit</th>\n",
       "      <th>avg_total_profit</th>\n",
       "      <th>avg_big_orders_profit</th>\n",
       "    </tr>\n",
       "  </thead>\n",
       "  <tbody>\n",
       "    <tr>\n",
       "      <th>0</th>\n",
       "      <td>Kelci Walkden</td>\n",
       "      <td>54</td>\n",
       "      <td>2</td>\n",
       "      <td>7</td>\n",
       "      <td>45</td>\n",
       "      <td>83.33</td>\n",
       "      <td>162906.0</td>\n",
       "      <td>3016.78</td>\n",
       "      <td>2695.62</td>\n",
       "    </tr>\n",
       "    <tr>\n",
       "      <th>1</th>\n",
       "      <td>Brien Boise</td>\n",
       "      <td>53</td>\n",
       "      <td>1</td>\n",
       "      <td>11</td>\n",
       "      <td>41</td>\n",
       "      <td>77.36</td>\n",
       "      <td>171885.9</td>\n",
       "      <td>3243.13</td>\n",
       "      <td>2772.61</td>\n",
       "    </tr>\n",
       "    <tr>\n",
       "      <th>2</th>\n",
       "      <td>Van Tuxwell</td>\n",
       "      <td>51</td>\n",
       "      <td>4</td>\n",
       "      <td>10</td>\n",
       "      <td>37</td>\n",
       "      <td>72.55</td>\n",
       "      <td>180868.6</td>\n",
       "      <td>3546.44</td>\n",
       "      <td>2789.56</td>\n",
       "    </tr>\n",
       "    <tr>\n",
       "      <th>3</th>\n",
       "      <td>Beverie Moffet</td>\n",
       "      <td>50</td>\n",
       "      <td>2</td>\n",
       "      <td>5</td>\n",
       "      <td>43</td>\n",
       "      <td>86.00</td>\n",
       "      <td>126501.3</td>\n",
       "      <td>2530.03</td>\n",
       "      <td>2075.17</td>\n",
       "    </tr>\n",
       "    <tr>\n",
       "      <th>4</th>\n",
       "      <td>Dennison Crosswaite</td>\n",
       "      <td>49</td>\n",
       "      <td>1</td>\n",
       "      <td>9</td>\n",
       "      <td>39</td>\n",
       "      <td>79.59</td>\n",
       "      <td>143943.6</td>\n",
       "      <td>2937.62</td>\n",
       "      <td>2737.22</td>\n",
       "    </tr>\n",
       "    <tr>\n",
       "      <th>5</th>\n",
       "      <td>Oby Sorrel</td>\n",
       "      <td>49</td>\n",
       "      <td>0</td>\n",
       "      <td>9</td>\n",
       "      <td>40</td>\n",
       "      <td>81.63</td>\n",
       "      <td>168657.0</td>\n",
       "      <td>3441.98</td>\n",
       "      <td>2738.05</td>\n",
       "    </tr>\n",
       "    <tr>\n",
       "      <th>6</th>\n",
       "      <td>Ches Bonnell</td>\n",
       "      <td>48</td>\n",
       "      <td>0</td>\n",
       "      <td>6</td>\n",
       "      <td>42</td>\n",
       "      <td>87.50</td>\n",
       "      <td>187170.9</td>\n",
       "      <td>3899.39</td>\n",
       "      <td>3600.94</td>\n",
       "    </tr>\n",
       "    <tr>\n",
       "      <th>7</th>\n",
       "      <td>Karlen McCaffrey</td>\n",
       "      <td>47</td>\n",
       "      <td>2</td>\n",
       "      <td>4</td>\n",
       "      <td>41</td>\n",
       "      <td>87.23</td>\n",
       "      <td>71081.0</td>\n",
       "      <td>1512.36</td>\n",
       "      <td>1282.46</td>\n",
       "    </tr>\n",
       "    <tr>\n",
       "      <th>8</th>\n",
       "      <td>Gigi Bohling</td>\n",
       "      <td>47</td>\n",
       "      <td>2</td>\n",
       "      <td>3</td>\n",
       "      <td>42</td>\n",
       "      <td>89.36</td>\n",
       "      <td>124281.4</td>\n",
       "      <td>2644.29</td>\n",
       "      <td>2376.02</td>\n",
       "    </tr>\n",
       "    <tr>\n",
       "      <th>9</th>\n",
       "      <td>Curtice Advani</td>\n",
       "      <td>46</td>\n",
       "      <td>3</td>\n",
       "      <td>5</td>\n",
       "      <td>38</td>\n",
       "      <td>82.61</td>\n",
       "      <td>99161.4</td>\n",
       "      <td>2155.68</td>\n",
       "      <td>1684.82</td>\n",
       "    </tr>\n",
       "  </tbody>\n",
       "</table>\n",
       "</div>"
      ],
      "text/plain": [
       "          sales_person  total_sales  small_orders  medium_orders  \\\n",
       "0        Kelci Walkden           54             2              7   \n",
       "1          Brien Boise           53             1             11   \n",
       "2          Van Tuxwell           51             4             10   \n",
       "3       Beverie Moffet           50             2              5   \n",
       "4  Dennison Crosswaite           49             1              9   \n",
       "5           Oby Sorrel           49             0              9   \n",
       "6         Ches Bonnell           48             0              6   \n",
       "7     Karlen McCaffrey           47             2              4   \n",
       "8         Gigi Bohling           47             2              3   \n",
       "9       Curtice Advani           46             3              5   \n",
       "\n",
       "   large_orders  big_orders_percentage  total_profit  avg_total_profit  \\\n",
       "0            45                  83.33      162906.0           3016.78   \n",
       "1            41                  77.36      171885.9           3243.13   \n",
       "2            37                  72.55      180868.6           3546.44   \n",
       "3            43                  86.00      126501.3           2530.03   \n",
       "4            39                  79.59      143943.6           2937.62   \n",
       "5            40                  81.63      168657.0           3441.98   \n",
       "6            42                  87.50      187170.9           3899.39   \n",
       "7            41                  87.23       71081.0           1512.36   \n",
       "8            42                  89.36      124281.4           2644.29   \n",
       "9            38                  82.61       99161.4           2155.68   \n",
       "\n",
       "   avg_big_orders_profit  \n",
       "0                2695.62  \n",
       "1                2772.61  \n",
       "2                2789.56  \n",
       "3                2075.17  \n",
       "4                2737.22  \n",
       "5                2738.05  \n",
       "6                3600.94  \n",
       "7                1282.46  \n",
       "8                2376.02  \n",
       "9                1684.82  "
      ]
     },
     "execution_count": 33,
     "metadata": {},
     "output_type": "execute_result"
    }
   ],
   "source": [
    "df_cluster = df[[\"sales_person\", \"order_size\", \"country\", \"product\"]].copy()\n",
    "\n",
    "total_sales = df[\"sales_person\"].value_counts().rename(\"total_sales\")\n",
    "\n",
    "orders_type = df.groupby([\"sales_person\", \"order_size\"], observed=True).size().unstack(fill_value=0)\n",
    "orders_type.columns = [\"small_orders\", \"medium_orders\", \"large_orders\"]\n",
    "\n",
    "big_orders_percentage = ((orders_type[\"large_orders\"] / total_sales) * 100).rename(\"big_orders_percentage\").round(2)\n",
    "total_profit = df.groupby(\"sales_person\", observed=True)[\"profit\"].sum().rename(\"total_profit\").round(2)\n",
    "avg_total_profit = (total_profit / total_sales).rename(\"avg_total_profit\").round(2)\n",
    "avg_big_orders_profit = df[df[\"order_size\"] == \"large\"].groupby(\"sales_person\")[\"profit\"].mean().rename(\"avg_big_orders_profit\").round(2)\n",
    "\n",
    "df_cluster = pd.concat([\n",
    "    total_sales,\n",
    "    orders_type,\n",
    "    big_orders_percentage,\n",
    "    total_profit,\n",
    "    avg_total_profit,\n",
    "    avg_big_orders_profit\n",
    "], axis=1).reset_index().rename(columns={\"index\": \"sales_person\"})\n",
    "\n",
    "df_cluster.head(10)"
   ]
  },
  {
   "cell_type": "markdown",
   "metadata": {},
   "source": [
    "Now applying KMeans clusterization:"
   ]
  },
  {
   "cell_type": "code",
   "execution_count": 34,
   "metadata": {},
   "outputs": [
    {
     "data": {
      "text/html": [
       "<div>\n",
       "<style scoped>\n",
       "    .dataframe tbody tr th:only-of-type {\n",
       "        vertical-align: middle;\n",
       "    }\n",
       "\n",
       "    .dataframe tbody tr th {\n",
       "        vertical-align: top;\n",
       "    }\n",
       "\n",
       "    .dataframe thead th {\n",
       "        text-align: right;\n",
       "    }\n",
       "</style>\n",
       "<table border=\"1\" class=\"dataframe\">\n",
       "  <thead>\n",
       "    <tr style=\"text-align: right;\">\n",
       "      <th></th>\n",
       "      <th>total_sales</th>\n",
       "      <th>small_orders</th>\n",
       "      <th>medium_orders</th>\n",
       "      <th>large_orders</th>\n",
       "      <th>big_orders_percentage</th>\n",
       "      <th>total_profit</th>\n",
       "      <th>avg_total_profit</th>\n",
       "      <th>avg_big_orders_profit</th>\n",
       "    </tr>\n",
       "    <tr>\n",
       "      <th>cluster</th>\n",
       "      <th></th>\n",
       "      <th></th>\n",
       "      <th></th>\n",
       "      <th></th>\n",
       "      <th></th>\n",
       "      <th></th>\n",
       "      <th></th>\n",
       "      <th></th>\n",
       "    </tr>\n",
       "  </thead>\n",
       "  <tbody>\n",
       "    <tr>\n",
       "      <th>0</th>\n",
       "      <td>45.20</td>\n",
       "      <td>2.00</td>\n",
       "      <td>3.80</td>\n",
       "      <td>39.40</td>\n",
       "      <td>87.37</td>\n",
       "      <td>100004.64</td>\n",
       "      <td>2207.35</td>\n",
       "      <td>1874.96</td>\n",
       "    </tr>\n",
       "    <tr>\n",
       "      <th>1</th>\n",
       "      <td>39.92</td>\n",
       "      <td>0.92</td>\n",
       "      <td>6.23</td>\n",
       "      <td>32.77</td>\n",
       "      <td>82.13</td>\n",
       "      <td>113157.09</td>\n",
       "      <td>2837.92</td>\n",
       "      <td>2375.24</td>\n",
       "    </tr>\n",
       "    <tr>\n",
       "      <th>2</th>\n",
       "      <td>49.86</td>\n",
       "      <td>1.57</td>\n",
       "      <td>8.14</td>\n",
       "      <td>40.14</td>\n",
       "      <td>80.60</td>\n",
       "      <td>171648.37</td>\n",
       "      <td>3460.15</td>\n",
       "      <td>2994.08</td>\n",
       "    </tr>\n",
       "  </tbody>\n",
       "</table>\n",
       "</div>"
      ],
      "text/plain": [
       "         total_sales  small_orders  medium_orders  large_orders  \\\n",
       "cluster                                                           \n",
       "0              45.20          2.00           3.80         39.40   \n",
       "1              39.92          0.92           6.23         32.77   \n",
       "2              49.86          1.57           8.14         40.14   \n",
       "\n",
       "         big_orders_percentage  total_profit  avg_total_profit  \\\n",
       "cluster                                                          \n",
       "0                        87.37     100004.64           2207.35   \n",
       "1                        82.13     113157.09           2837.92   \n",
       "2                        80.60     171648.37           3460.15   \n",
       "\n",
       "         avg_big_orders_profit  \n",
       "cluster                         \n",
       "0                      1874.96  \n",
       "1                      2375.24  \n",
       "2                      2994.08  "
      ]
     },
     "execution_count": 34,
     "metadata": {},
     "output_type": "execute_result"
    }
   ],
   "source": [
    "features = [\n",
    "    \"total_sales\",\n",
    "    \"small_orders\",\n",
    "    \"medium_orders\",\n",
    "    \"large_orders\",\n",
    "    \"big_orders_percentage\",\n",
    "    \"total_profit\",\n",
    "    \"avg_total_profit\",\n",
    "    \"avg_big_orders_profit\"\n",
    "]\n",
    "\n",
    "X = df_cluster[features]\n",
    "\n",
    "scaler = StandardScaler()\n",
    "X_scaled = scaler.fit_transform(X)\n",
    "\n",
    "kmeans = KMeans(n_clusters=3, random_state=42, n_init=\"auto\")\n",
    "df_cluster[\"cluster\"] = kmeans.fit_predict(X_scaled)\n",
    "df_cluster.groupby(\"cluster\")[features].mean().round(2)"
   ]
  },
  {
   "cell_type": "code",
   "execution_count": 35,
   "metadata": {},
   "outputs": [
    {
     "data": {
      "image/png": "[encoded data removed]",
      "text/plain": [
       "<Figure size 1000x600 with 1 Axes>"
      ]
     },
     "metadata": {},
     "output_type": "display_data"
    }
   ],
   "source": [
    "plt.figure(figsize=(10, 6))\n",
    "sns.scatterplot(\n",
    "    data=df_cluster,\n",
    "    x=\"total_sales\",\n",
    "    y=\"avg_total_profit\",\n",
    "    hue=\"cluster\",\n",
    "    palette=\"Set2\",\n",
    "    s=100,\n",
    ")\n",
    "plt.title(\"Salespersons Clustering\")\n",
    "plt.xlabel(\"Total Sales\")\n",
    "plt.ylabel(\"Avg Orders Profit\")\n",
    "plt.legend(title=\"Cluster\")\n",
    "plt.tight_layout()\n",
    "plt.show()"
   ]
  },
  {
   "cell_type": "markdown",
   "metadata": {},
   "source": [
    "The clustering algorithm successfully segmented salespersons into **three distinct behavioral profiles** based on `Total Sales` and `Average Order Profit`:\n",
    "\n",
    "- 🟠 **Cluster 1**: Low sales volume but **high average profit per order**  \n",
    "  → Likely focused on **premium, high-margin deals**.\n",
    "\n",
    "- 🔵 **Cluster 2**: High volume and above-average profit  \n",
    "  → These are the **top performers**, balancing **quantity and quality** effectively.\n",
    "\n",
    "- 🟢 **Cluster 0**: Medium-to-high sales with **lower average profit**  \n",
    "  → Likely **operational sellers**, prioritizing volume over margin."
   ]
  },
  {
   "cell_type": "markdown",
   "metadata": {},
   "source": [
    "But, I don't know if this clusterization is optimal. So, in order to be calm, I will try to know if our clusterization is optimal or not.\n",
    "\n",
    "First, I will use the elbow method which is a heuristic used in determining the number of clusters in a dataset. It works by plotting the explained variation as a function of the number of clusters and selecting the elbow of the curve as the number of clusters to use."
   ]
  },
  {
   "cell_type": "code",
   "execution_count": 36,
   "metadata": {},
   "outputs": [
    {
     "data": {
      "image/png": "[encoded data removed]",
      "text/plain": [
       "<Figure size 640x480 with 1 Axes>"
      ]
     },
     "metadata": {},
     "output_type": "display_data"
    }
   ],
   "source": [
    "inertias = []\n",
    "K_range = range(1, 25)\n",
    "\n",
    "for k in K_range:\n",
    "    kmeans = KMeans(n_clusters=k, random_state=42, n_init=\"auto\")\n",
    "    kmeans.fit(X_scaled)\n",
    "    inertias.append(kmeans.inertia_)\n",
    "\n",
    "plt.plot(K_range, inertias, marker=\"o\")\n",
    "plt.title(\"Elbow Method for Optimal K\")\n",
    "plt.xlabel(\"Number of Clusters (K)\")\n",
    "plt.ylabel(\"Inertia\")\n",
    "plt.grid(True)\n",
    "plt.show()"
   ]
  },
  {
   "cell_type": "markdown",
   "metadata": {},
   "source": [
    "Yeah, is not the best elbow, but I think that is a good clusterization.\n",
    "\n",
    "Just in case, I will use the silhouette method to validate the clusterization. The silhouette score is a measure of how similar an object is to its own cluster compared to other clusters. The silhouette score ranges from -1 to 1, where a value close to 1 indicates that the object is well clustered, a value close to 0 indicates that the object is on or very close to the decision boundary between two neighboring clusters, and a value close to -1 indicates that the object might have been assigned to the wrong cluster."
   ]
  },
  {
   "cell_type": "code",
   "execution_count": 37,
   "metadata": {},
   "outputs": [
    {
     "data": {
      "image/png": "[encoded data removed]",
      "text/plain": [
       "<Figure size 1000x600 with 1 Axes>"
      ]
     },
     "metadata": {},
     "output_type": "display_data"
    }
   ],
   "source": [
    "scores = []\n",
    "K_range = range(2, 10)\n",
    "\n",
    "for k in K_range:\n",
    "    kmeans = KMeans(n_clusters=k, random_state=42, n_init=\"auto\")\n",
    "    labels = kmeans.fit_predict(X_scaled)\n",
    "    score = silhouette_score(X_scaled, labels)\n",
    "    scores.append(score)\n",
    "\n",
    "plt.figure(figsize=(10, 6))\n",
    "plt.plot(K_range, scores, marker=\"o\")\n",
    "plt.title(\"Silhouette Score for Different K\")\n",
    "plt.xlabel(\"Number of Clusters (K)\")\n",
    "plt.ylabel(\"Silhouette Score\")\n",
    "plt.ylim(0, 1)\n",
    "plt.grid(True)\n",
    "plt.show()"
   ]
  },
  {
   "cell_type": "markdown",
   "metadata": {},
   "source": [
    "Okey, 3 clusters seems to be the best option.\n",
    "\n",
    "Let's make a PCA to reduce the dimensionality of the data and see if we can find some interesting things."
   ]
  },
  {
   "cell_type": "code",
   "execution_count": 38,
   "metadata": {},
   "outputs": [
    {
     "data": {
      "image/png": "[encoded data removed]",
      "text/plain": [
       "<Figure size 1000x600 with 1 Axes>"
      ]
     },
     "metadata": {},
     "output_type": "display_data"
    }
   ],
   "source": [
    "from sklearn.decomposition import PCA\n",
    "\n",
    "pca = PCA()\n",
    "X_pca = pca.fit_transform(X_scaled)\n",
    "\n",
    "explained_variance = pca.explained_variance_ratio_\n",
    "\n",
    "plt.figure(figsize=(10, 6))\n",
    "plt.plot(range(1, len(explained_variance) + 1), explained_variance, marker=\"o\")\n",
    "plt.title(\"Explained Variance by PCA Components\")\n",
    "plt.xlabel(\"Number of Components\")\n",
    "plt.ylabel(\"Explained Variance Ratio\")\n",
    "plt.grid(True)\n",
    "plt.tight_layout()\n",
    "plt.show()"
   ]
  },
  {
   "cell_type": "code",
   "execution_count": 39,
   "metadata": {},
   "outputs": [
    {
     "data": {
      "text/html": [
       "<div>\n",
       "<style scoped>\n",
       "    .dataframe tbody tr th:only-of-type {\n",
       "        vertical-align: middle;\n",
       "    }\n",
       "\n",
       "    .dataframe tbody tr th {\n",
       "        vertical-align: top;\n",
       "    }\n",
       "\n",
       "    .dataframe thead th {\n",
       "        text-align: right;\n",
       "    }\n",
       "</style>\n",
       "<table border=\"1\" class=\"dataframe\">\n",
       "  <thead>\n",
       "    <tr style=\"text-align: right;\">\n",
       "      <th></th>\n",
       "      <th>PC1</th>\n",
       "      <th>PC2</th>\n",
       "      <th>PC3</th>\n",
       "      <th>PC4</th>\n",
       "      <th>PC5</th>\n",
       "      <th>PC6</th>\n",
       "      <th>PC7</th>\n",
       "      <th>PC8</th>\n",
       "    </tr>\n",
       "  </thead>\n",
       "  <tbody>\n",
       "    <tr>\n",
       "      <th>total_sales</th>\n",
       "      <td>0.40</td>\n",
       "      <td>-0.33</td>\n",
       "      <td>0.34</td>\n",
       "      <td>-0.17</td>\n",
       "      <td>0.11</td>\n",
       "      <td>0.01</td>\n",
       "      <td>-0.17</td>\n",
       "      <td>0.74</td>\n",
       "    </tr>\n",
       "    <tr>\n",
       "      <th>small_orders</th>\n",
       "      <td>0.13</td>\n",
       "      <td>-0.43</td>\n",
       "      <td>0.09</td>\n",
       "      <td>0.83</td>\n",
       "      <td>0.06</td>\n",
       "      <td>0.29</td>\n",
       "      <td>-0.04</td>\n",
       "      <td>-0.13</td>\n",
       "    </tr>\n",
       "    <tr>\n",
       "      <th>medium_orders</th>\n",
       "      <td>0.33</td>\n",
       "      <td>-0.29</td>\n",
       "      <td>-0.43</td>\n",
       "      <td>-0.41</td>\n",
       "      <td>0.14</td>\n",
       "      <td>0.59</td>\n",
       "      <td>-0.09</td>\n",
       "      <td>-0.26</td>\n",
       "    </tr>\n",
       "    <tr>\n",
       "      <th>large_orders</th>\n",
       "      <td>0.32</td>\n",
       "      <td>-0.19</td>\n",
       "      <td>0.57</td>\n",
       "      <td>-0.21</td>\n",
       "      <td>0.06</td>\n",
       "      <td>-0.31</td>\n",
       "      <td>-0.16</td>\n",
       "      <td>-0.61</td>\n",
       "    </tr>\n",
       "    <tr>\n",
       "      <th>big_orders_percentage</th>\n",
       "      <td>-0.19</td>\n",
       "      <td>0.39</td>\n",
       "      <td>0.58</td>\n",
       "      <td>-0.07</td>\n",
       "      <td>-0.07</td>\n",
       "      <td>0.68</td>\n",
       "      <td>-0.01</td>\n",
       "      <td>-0.00</td>\n",
       "    </tr>\n",
       "    <tr>\n",
       "      <th>total_profit</th>\n",
       "      <td>0.53</td>\n",
       "      <td>0.14</td>\n",
       "      <td>0.02</td>\n",
       "      <td>0.04</td>\n",
       "      <td>-0.39</td>\n",
       "      <td>0.03</td>\n",
       "      <td>0.74</td>\n",
       "      <td>0.00</td>\n",
       "    </tr>\n",
       "    <tr>\n",
       "      <th>avg_total_profit</th>\n",
       "      <td>0.41</td>\n",
       "      <td>0.41</td>\n",
       "      <td>-0.17</td>\n",
       "      <td>0.18</td>\n",
       "      <td>-0.47</td>\n",
       "      <td>-0.01</td>\n",
       "      <td>-0.62</td>\n",
       "      <td>-0.00</td>\n",
       "    </tr>\n",
       "    <tr>\n",
       "      <th>avg_big_orders_profit</th>\n",
       "      <td>0.36</td>\n",
       "      <td>0.50</td>\n",
       "      <td>-0.06</td>\n",
       "      <td>0.17</td>\n",
       "      <td>0.77</td>\n",
       "      <td>-0.04</td>\n",
       "      <td>0.05</td>\n",
       "      <td>-0.00</td>\n",
       "    </tr>\n",
       "  </tbody>\n",
       "</table>\n",
       "</div>"
      ],
      "text/plain": [
       "                        PC1   PC2   PC3   PC4   PC5   PC6   PC7   PC8\n",
       "total_sales            0.40 -0.33  0.34 -0.17  0.11  0.01 -0.17  0.74\n",
       "small_orders           0.13 -0.43  0.09  0.83  0.06  0.29 -0.04 -0.13\n",
       "medium_orders          0.33 -0.29 -0.43 -0.41  0.14  0.59 -0.09 -0.26\n",
       "large_orders           0.32 -0.19  0.57 -0.21  0.06 -0.31 -0.16 -0.61\n",
       "big_orders_percentage -0.19  0.39  0.58 -0.07 -0.07  0.68 -0.01 -0.00\n",
       "total_profit           0.53  0.14  0.02  0.04 -0.39  0.03  0.74  0.00\n",
       "avg_total_profit       0.41  0.41 -0.17  0.18 -0.47 -0.01 -0.62 -0.00\n",
       "avg_big_orders_profit  0.36  0.50 -0.06  0.17  0.77 -0.04  0.05 -0.00"
      ]
     },
     "execution_count": 39,
     "metadata": {},
     "output_type": "execute_result"
    }
   ],
   "source": [
    "loadings = pd.DataFrame(\n",
    "    pca.components_.T,\n",
    "    index=features,\n",
    "    columns=[f\"PC{i+1}\" for i in range(len(pca.components_))],\n",
    ")\n",
    "loadings = loadings.round(2)\n",
    "loadings"
   ]
  },
  {
   "cell_type": "code",
   "execution_count": 40,
   "metadata": {},
   "outputs": [
    {
     "data": {
      "image/png": "[encoded data removed]",
      "text/plain": [
       "<Figure size 1200x600 with 1 Axes>"
      ]
     },
     "metadata": {},
     "output_type": "display_data"
    }
   ],
   "source": [
    "loadings_top3 = loadings[[\"PC1\", \"PC2\", \"PC3\"]]\n",
    "\n",
    "loadings_top3.plot(kind='bar', figsize=(12, 6))\n",
    "plt.title(\"Variable Loadings in PC1, PC2, PC3\")\n",
    "plt.ylabel(\"Loading Value\")\n",
    "plt.xlabel(\"Variable\")\n",
    "plt.axhline(0, color='black', linewidth=0.5)\n",
    "plt.legend(loc='best')\n",
    "plt.tight_layout()\n",
    "plt.show()"
   ]
  },
  {
   "cell_type": "markdown",
   "metadata": {},
   "source": [
    "Variables to maintain:\n",
    "- `total_sales`\n",
    "- `total_profit`\n",
    "- `total_orders`\n",
    "- `big_orders_percentage`\n",
    "- `avg_total_profit`\n",
    "\n",
    "Optional variables:\n",
    "- `avg_big_orders_profit`\n",
    "- `medium_orders`\n",
    "\n",
    "Discard:\n",
    "- `small_orders`"
   ]
  },
  {
   "cell_type": "code",
   "execution_count": 41,
   "metadata": {},
   "outputs": [
    {
     "data": {
      "text/html": [
       "<div>\n",
       "<style scoped>\n",
       "    .dataframe tbody tr th:only-of-type {\n",
       "        vertical-align: middle;\n",
       "    }\n",
       "\n",
       "    .dataframe tbody tr th {\n",
       "        vertical-align: top;\n",
       "    }\n",
       "\n",
       "    .dataframe thead th {\n",
       "        text-align: right;\n",
       "    }\n",
       "</style>\n",
       "<table border=\"1\" class=\"dataframe\">\n",
       "  <thead>\n",
       "    <tr style=\"text-align: right;\">\n",
       "      <th></th>\n",
       "      <th>sales_person</th>\n",
       "      <th>total_sales</th>\n",
       "      <th>large_orders</th>\n",
       "      <th>big_orders_percentage</th>\n",
       "      <th>total_profit</th>\n",
       "      <th>avg_total_profit</th>\n",
       "    </tr>\n",
       "  </thead>\n",
       "  <tbody>\n",
       "    <tr>\n",
       "      <th>0</th>\n",
       "      <td>Kelci Walkden</td>\n",
       "      <td>54</td>\n",
       "      <td>45</td>\n",
       "      <td>83.33</td>\n",
       "      <td>162906.0</td>\n",
       "      <td>3016.78</td>\n",
       "    </tr>\n",
       "    <tr>\n",
       "      <th>1</th>\n",
       "      <td>Brien Boise</td>\n",
       "      <td>53</td>\n",
       "      <td>41</td>\n",
       "      <td>77.36</td>\n",
       "      <td>171885.9</td>\n",
       "      <td>3243.13</td>\n",
       "    </tr>\n",
       "    <tr>\n",
       "      <th>2</th>\n",
       "      <td>Van Tuxwell</td>\n",
       "      <td>51</td>\n",
       "      <td>37</td>\n",
       "      <td>72.55</td>\n",
       "      <td>180868.6</td>\n",
       "      <td>3546.44</td>\n",
       "    </tr>\n",
       "    <tr>\n",
       "      <th>3</th>\n",
       "      <td>Beverie Moffet</td>\n",
       "      <td>50</td>\n",
       "      <td>43</td>\n",
       "      <td>86.00</td>\n",
       "      <td>126501.3</td>\n",
       "      <td>2530.03</td>\n",
       "    </tr>\n",
       "    <tr>\n",
       "      <th>4</th>\n",
       "      <td>Dennison Crosswaite</td>\n",
       "      <td>49</td>\n",
       "      <td>39</td>\n",
       "      <td>79.59</td>\n",
       "      <td>143943.6</td>\n",
       "      <td>2937.62</td>\n",
       "    </tr>\n",
       "  </tbody>\n",
       "</table>\n",
       "</div>"
      ],
      "text/plain": [
       "          sales_person  total_sales  large_orders  big_orders_percentage  \\\n",
       "0        Kelci Walkden           54            45                  83.33   \n",
       "1          Brien Boise           53            41                  77.36   \n",
       "2          Van Tuxwell           51            37                  72.55   \n",
       "3       Beverie Moffet           50            43                  86.00   \n",
       "4  Dennison Crosswaite           49            39                  79.59   \n",
       "\n",
       "   total_profit  avg_total_profit  \n",
       "0      162906.0           3016.78  \n",
       "1      171885.9           3243.13  \n",
       "2      180868.6           3546.44  \n",
       "3      126501.3           2530.03  \n",
       "4      143943.6           2937.62  "
      ]
     },
     "execution_count": 41,
     "metadata": {},
     "output_type": "execute_result"
    }
   ],
   "source": [
    "key_var = [\n",
    "    \"total_sales\",\n",
    "    \"large_orders\",\n",
    "    \"big_orders_percentage\",\n",
    "    \"total_profit\",\n",
    "    \"avg_total_profit\",\n",
    "]\n",
    "\n",
    "new_df_cluster = df_cluster[[\"sales_person\"] + key_var.copy()]\n",
    "\n",
    "new_df_cluster.head()"
   ]
  },
  {
   "cell_type": "code",
   "execution_count": 42,
   "metadata": {},
   "outputs": [
    {
     "data": {
      "text/html": [
       "<div>\n",
       "<style scoped>\n",
       "    .dataframe tbody tr th:only-of-type {\n",
       "        vertical-align: middle;\n",
       "    }\n",
       "\n",
       "    .dataframe tbody tr th {\n",
       "        vertical-align: top;\n",
       "    }\n",
       "\n",
       "    .dataframe thead th {\n",
       "        text-align: right;\n",
       "    }\n",
       "</style>\n",
       "<table border=\"1\" class=\"dataframe\">\n",
       "  <thead>\n",
       "    <tr style=\"text-align: right;\">\n",
       "      <th></th>\n",
       "      <th>total_sales</th>\n",
       "      <th>large_orders</th>\n",
       "      <th>big_orders_percentage</th>\n",
       "      <th>total_profit</th>\n",
       "      <th>avg_total_profit</th>\n",
       "    </tr>\n",
       "    <tr>\n",
       "      <th>cluster</th>\n",
       "      <th></th>\n",
       "      <th></th>\n",
       "      <th></th>\n",
       "      <th></th>\n",
       "      <th></th>\n",
       "    </tr>\n",
       "  </thead>\n",
       "  <tbody>\n",
       "    <tr>\n",
       "      <th>0</th>\n",
       "      <td>44.00</td>\n",
       "      <td>38.14</td>\n",
       "      <td>86.82</td>\n",
       "      <td>99295.84</td>\n",
       "      <td>2256.77</td>\n",
       "    </tr>\n",
       "    <tr>\n",
       "      <th>1</th>\n",
       "      <td>39.20</td>\n",
       "      <td>31.80</td>\n",
       "      <td>81.23</td>\n",
       "      <td>113415.75</td>\n",
       "      <td>2898.04</td>\n",
       "    </tr>\n",
       "    <tr>\n",
       "      <th>2</th>\n",
       "      <td>49.25</td>\n",
       "      <td>39.88</td>\n",
       "      <td>81.08</td>\n",
       "      <td>167921.95</td>\n",
       "      <td>3421.62</td>\n",
       "    </tr>\n",
       "  </tbody>\n",
       "</table>\n",
       "</div>"
      ],
      "text/plain": [
       "         total_sales  large_orders  big_orders_percentage  total_profit  \\\n",
       "cluster                                                                   \n",
       "0              44.00         38.14                  86.82      99295.84   \n",
       "1              39.20         31.80                  81.23     113415.75   \n",
       "2              49.25         39.88                  81.08     167921.95   \n",
       "\n",
       "         avg_total_profit  \n",
       "cluster                    \n",
       "0                 2256.77  \n",
       "1                 2898.04  \n",
       "2                 3421.62  "
      ]
     },
     "execution_count": 42,
     "metadata": {},
     "output_type": "execute_result"
    }
   ],
   "source": [
    "scaler = StandardScaler()\n",
    "X_scaled = scaler.fit_transform(new_df_cluster[key_var])\n",
    "\n",
    "kmeans = KMeans(n_clusters=3, random_state=42, n_init=\"auto\")\n",
    "new_df_cluster = new_df_cluster.copy() # Create a copy to avoid SettingWithCopyWarning\n",
    "new_df_cluster[\"cluster\"] = kmeans.fit_predict(X_scaled)\n",
    "new_df_cluster.groupby(\"cluster\")[key_var].mean().round(2)"
   ]
  },
  {
   "cell_type": "code",
   "execution_count": 43,
   "metadata": {},
   "outputs": [
    {
     "data": {
      "image/png": "[encoded data removed]",
      "text/plain": [
       "<Figure size 1000x600 with 1 Axes>"
      ]
     },
     "metadata": {},
     "output_type": "display_data"
    }
   ],
   "source": [
    "plt.figure(figsize=(10, 6))\n",
    "sns.scatterplot(\n",
    "    data=new_df_cluster,\n",
    "    x=\"total_sales\",\n",
    "    y=\"avg_total_profit\",\n",
    "    hue=\"cluster\",\n",
    "    palette=\"Set2\",\n",
    "    s=100,\n",
    ")\n",
    "plt.title(\"Salespersons Clustering\")\n",
    "plt.xlabel(\"Total Sales\")\n",
    "plt.ylabel(\"Avg Orders Profit\")\n",
    "plt.legend(title=\"Cluster\")\n",
    "plt.tight_layout()\n",
    "plt.show()"
   ]
  },
  {
   "cell_type": "markdown",
   "metadata": {},
   "source": [
    "The result is practically the same."
   ]
  }
 ],
 "metadata": {
  "kernelspec": {
   "display_name": "Python 3",
   "language": "python",
   "name": "python3"
  },
  "language_info": {
   "codemirror_mode": {
    "name": "ipython",
    "version": 3
   },
   "file_extension": ".py",
   "mimetype": "text/x-python",
   "name": "python",
   "nbconvert_exporter": "python",
   "pygments_lexer": "ipython3",
   "version": "3.12.6"
  }
 },
 "nbformat": 4,
 "nbformat_minor": 2
}
