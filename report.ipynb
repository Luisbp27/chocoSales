{
 "cells": [
  {
   "cell_type": "markdown",
   "metadata": {},
   "source": [
    "# Sales Data Analysis of Chocolate Sales"
   ]
  },
  {
   "cell_type": "markdown",
   "metadata": {},
   "source": [
    "## 1. Introduction"
   ]
  },
  {
   "cell_type": "markdown",
   "metadata": {},
   "source": [
    "## 2. Data loading and first look"
   ]
  },
  {
   "cell_type": "code",
   "execution_count": 1,
   "metadata": {},
   "outputs": [],
   "source": [
    "import kagglehub\n",
    "import os\n",
    "import pandas as pd\n",
    "import seaborn as sns\n",
    "import matplotlib.pyplot as plt\n",
    "import plotly.express as px"
   ]
  },
  {
   "cell_type": "code",
   "execution_count": 2,
   "metadata": {},
   "outputs": [
    {
     "data": {
      "text/html": [
       "<div>\n",
       "<style scoped>\n",
       "    .dataframe tbody tr th:only-of-type {\n",
       "        vertical-align: middle;\n",
       "    }\n",
       "\n",
       "    .dataframe tbody tr th {\n",
       "        vertical-align: top;\n",
       "    }\n",
       "\n",
       "    .dataframe thead th {\n",
       "        text-align: right;\n",
       "    }\n",
       "</style>\n",
       "<table border=\"1\" class=\"dataframe\">\n",
       "  <thead>\n",
       "    <tr style=\"text-align: right;\">\n",
       "      <th></th>\n",
       "      <th>Sales Person</th>\n",
       "      <th>Country</th>\n",
       "      <th>Product</th>\n",
       "      <th>Date</th>\n",
       "      <th>Amount</th>\n",
       "      <th>Boxes Shipped</th>\n",
       "    </tr>\n",
       "  </thead>\n",
       "  <tbody>\n",
       "    <tr>\n",
       "      <th>0</th>\n",
       "      <td>Jehu Rudeforth</td>\n",
       "      <td>UK</td>\n",
       "      <td>Mint Chip Choco</td>\n",
       "      <td>04-Jan-22</td>\n",
       "      <td>$5,320</td>\n",
       "      <td>180</td>\n",
       "    </tr>\n",
       "    <tr>\n",
       "      <th>1</th>\n",
       "      <td>Van Tuxwell</td>\n",
       "      <td>India</td>\n",
       "      <td>85% Dark Bars</td>\n",
       "      <td>01-Aug-22</td>\n",
       "      <td>$7,896</td>\n",
       "      <td>94</td>\n",
       "    </tr>\n",
       "    <tr>\n",
       "      <th>2</th>\n",
       "      <td>Gigi Bohling</td>\n",
       "      <td>India</td>\n",
       "      <td>Peanut Butter Cubes</td>\n",
       "      <td>07-Jul-22</td>\n",
       "      <td>$4,501</td>\n",
       "      <td>91</td>\n",
       "    </tr>\n",
       "    <tr>\n",
       "      <th>3</th>\n",
       "      <td>Jan Morforth</td>\n",
       "      <td>Australia</td>\n",
       "      <td>Peanut Butter Cubes</td>\n",
       "      <td>27-Apr-22</td>\n",
       "      <td>$12,726</td>\n",
       "      <td>342</td>\n",
       "    </tr>\n",
       "    <tr>\n",
       "      <th>4</th>\n",
       "      <td>Jehu Rudeforth</td>\n",
       "      <td>UK</td>\n",
       "      <td>Peanut Butter Cubes</td>\n",
       "      <td>24-Feb-22</td>\n",
       "      <td>$13,685</td>\n",
       "      <td>184</td>\n",
       "    </tr>\n",
       "  </tbody>\n",
       "</table>\n",
       "</div>"
      ],
      "text/plain": [
       "     Sales Person    Country              Product       Date    Amount  \\\n",
       "0  Jehu Rudeforth         UK      Mint Chip Choco  04-Jan-22   $5,320    \n",
       "1     Van Tuxwell      India        85% Dark Bars  01-Aug-22   $7,896    \n",
       "2    Gigi Bohling      India  Peanut Butter Cubes  07-Jul-22   $4,501    \n",
       "3    Jan Morforth  Australia  Peanut Butter Cubes  27-Apr-22  $12,726    \n",
       "4  Jehu Rudeforth         UK  Peanut Butter Cubes  24-Feb-22  $13,685    \n",
       "\n",
       "   Boxes Shipped  \n",
       "0            180  \n",
       "1             94  \n",
       "2             91  \n",
       "3            342  \n",
       "4            184  "
      ]
     },
     "execution_count": 2,
     "metadata": {},
     "output_type": "execute_result"
    }
   ],
   "source": [
    "path = kagglehub.dataset_download(\"atharvasoundankar/chocolate-sales\")\n",
    "csv_path = os.path.join(path, \"Chocolate Sales.csv\")\n",
    "\n",
    "df = pd.read_csv(csv_path)\n",
    "df.head()\n"
   ]
  },
  {
   "cell_type": "markdown",
   "metadata": {},
   "source": [
    "We will see a basic information about the dataset, to look for any anomalies or missing values."
   ]
  },
  {
   "cell_type": "code",
   "execution_count": 3,
   "metadata": {},
   "outputs": [
    {
     "name": "stdout",
     "output_type": "stream",
     "text": [
      "rows: 1094, columns: 6\n",
      "<class 'pandas.core.frame.DataFrame'>\n",
      "RangeIndex: 1094 entries, 0 to 1093\n",
      "Data columns (total 6 columns):\n",
      " #   Column         Non-Null Count  Dtype \n",
      "---  ------         --------------  ----- \n",
      " 0   Sales Person   1094 non-null   object\n",
      " 1   Country        1094 non-null   object\n",
      " 2   Product        1094 non-null   object\n",
      " 3   Date           1094 non-null   object\n",
      " 4   Amount         1094 non-null   object\n",
      " 5   Boxes Shipped  1094 non-null   int64 \n",
      "dtypes: int64(1), object(5)\n",
      "memory usage: 51.4+ KB\n"
     ]
    }
   ],
   "source": [
    "print(f\"rows: {df.shape[0]}, columns: {df.shape[1]}\")\n",
    "df.info()"
   ]
  },
  {
   "cell_type": "markdown",
   "metadata": {},
   "source": [
    "Check possible NaNs"
   ]
  },
  {
   "cell_type": "code",
   "execution_count": 4,
   "metadata": {},
   "outputs": [
    {
     "data": {
      "text/plain": [
       "Sales Person     0\n",
       "Country          0\n",
       "Product          0\n",
       "Date             0\n",
       "Amount           0\n",
       "Boxes Shipped    0\n",
       "dtype: int64"
      ]
     },
     "execution_count": 4,
     "metadata": {},
     "output_type": "execute_result"
    }
   ],
   "source": [
    "df.isnull().sum()"
   ]
  },
  {
   "cell_type": "code",
   "execution_count": 5,
   "metadata": {},
   "outputs": [
    {
     "name": "stdout",
     "output_type": "stream",
     "text": [
      "Date range: 2022-01-03 00:00:00 -> 2022-08-31 00:00:00\n"
     ]
    },
    {
     "name": "stderr",
     "output_type": "stream",
     "text": [
      "/var/folders/6h/f4b9pqr55319d7smk2pl0wdw0000gn/T/ipykernel_23758/4151490514.py:1: UserWarning: Could not infer format, so each element will be parsed individually, falling back to `dateutil`. To ensure parsing is consistent and as-expected, please specify a format.\n",
      "  df[\"Date\"] = pd.to_datetime(df[\"Date\"])\n"
     ]
    }
   ],
   "source": [
    "df[\"Date\"] = pd.to_datetime(df[\"Date\"])\n",
    "\n",
    "print(\"Date range:\", df[\"Date\"].min(), \"->\", df[\"Date\"].max())"
   ]
  },
  {
   "cell_type": "code",
   "execution_count": 6,
   "metadata": {},
   "outputs": [
    {
     "name": "stdout",
     "output_type": "stream",
     "text": [
      "duplicated rows: 0\n"
     ]
    }
   ],
   "source": [
    "duplicates = df.duplicated()\n",
    "print(f\"duplicated rows: {duplicates.sum()}\")"
   ]
  },
  {
   "cell_type": "markdown",
   "metadata": {},
   "source": [
    "We can see that this dataset is so clean, that will make our life easier."
   ]
  },
  {
   "cell_type": "markdown",
   "metadata": {},
   "source": [
    "## 3. Cleaning the data"
   ]
  },
  {
   "cell_type": "code",
   "execution_count": 7,
   "metadata": {},
   "outputs": [
    {
     "data": {
      "text/html": [
       "<div>\n",
       "<style scoped>\n",
       "    .dataframe tbody tr th:only-of-type {\n",
       "        vertical-align: middle;\n",
       "    }\n",
       "\n",
       "    .dataframe tbody tr th {\n",
       "        vertical-align: top;\n",
       "    }\n",
       "\n",
       "    .dataframe thead th {\n",
       "        text-align: right;\n",
       "    }\n",
       "</style>\n",
       "<table border=\"1\" class=\"dataframe\">\n",
       "  <thead>\n",
       "    <tr style=\"text-align: right;\">\n",
       "      <th></th>\n",
       "      <th>sales_person</th>\n",
       "      <th>country</th>\n",
       "      <th>product</th>\n",
       "      <th>date</th>\n",
       "      <th>amount</th>\n",
       "      <th>boxes_shipped</th>\n",
       "    </tr>\n",
       "  </thead>\n",
       "  <tbody>\n",
       "    <tr>\n",
       "      <th>0</th>\n",
       "      <td>Jehu Rudeforth</td>\n",
       "      <td>UK</td>\n",
       "      <td>Mint Chip Choco</td>\n",
       "      <td>2022-01-04</td>\n",
       "      <td>$5,320</td>\n",
       "      <td>180</td>\n",
       "    </tr>\n",
       "    <tr>\n",
       "      <th>1</th>\n",
       "      <td>Van Tuxwell</td>\n",
       "      <td>India</td>\n",
       "      <td>85% Dark Bars</td>\n",
       "      <td>2022-08-01</td>\n",
       "      <td>$7,896</td>\n",
       "      <td>94</td>\n",
       "    </tr>\n",
       "    <tr>\n",
       "      <th>2</th>\n",
       "      <td>Gigi Bohling</td>\n",
       "      <td>India</td>\n",
       "      <td>Peanut Butter Cubes</td>\n",
       "      <td>2022-07-07</td>\n",
       "      <td>$4,501</td>\n",
       "      <td>91</td>\n",
       "    </tr>\n",
       "    <tr>\n",
       "      <th>3</th>\n",
       "      <td>Jan Morforth</td>\n",
       "      <td>Australia</td>\n",
       "      <td>Peanut Butter Cubes</td>\n",
       "      <td>2022-04-27</td>\n",
       "      <td>$12,726</td>\n",
       "      <td>342</td>\n",
       "    </tr>\n",
       "    <tr>\n",
       "      <th>4</th>\n",
       "      <td>Jehu Rudeforth</td>\n",
       "      <td>UK</td>\n",
       "      <td>Peanut Butter Cubes</td>\n",
       "      <td>2022-02-24</td>\n",
       "      <td>$13,685</td>\n",
       "      <td>184</td>\n",
       "    </tr>\n",
       "  </tbody>\n",
       "</table>\n",
       "</div>"
      ],
      "text/plain": [
       "     sales_person    country              product       date    amount  \\\n",
       "0  Jehu Rudeforth         UK      Mint Chip Choco 2022-01-04   $5,320    \n",
       "1     Van Tuxwell      India        85% Dark Bars 2022-08-01   $7,896    \n",
       "2    Gigi Bohling      India  Peanut Butter Cubes 2022-07-07   $4,501    \n",
       "3    Jan Morforth  Australia  Peanut Butter Cubes 2022-04-27  $12,726    \n",
       "4  Jehu Rudeforth         UK  Peanut Butter Cubes 2022-02-24  $13,685    \n",
       "\n",
       "   boxes_shipped  \n",
       "0            180  \n",
       "1             94  \n",
       "2             91  \n",
       "3            342  \n",
       "4            184  "
      ]
     },
     "execution_count": 7,
     "metadata": {},
     "output_type": "execute_result"
    }
   ],
   "source": [
    "df.columns = df.columns.str.strip().str.lower().str.replace(' ', '_')\n",
    "df.head()"
   ]
  },
  {
   "cell_type": "code",
   "execution_count": 8,
   "metadata": {},
   "outputs": [
    {
     "data": {
      "text/html": [
       "<div>\n",
       "<style scoped>\n",
       "    .dataframe tbody tr th:only-of-type {\n",
       "        vertical-align: middle;\n",
       "    }\n",
       "\n",
       "    .dataframe tbody tr th {\n",
       "        vertical-align: top;\n",
       "    }\n",
       "\n",
       "    .dataframe thead th {\n",
       "        text-align: right;\n",
       "    }\n",
       "</style>\n",
       "<table border=\"1\" class=\"dataframe\">\n",
       "  <thead>\n",
       "    <tr style=\"text-align: right;\">\n",
       "      <th></th>\n",
       "      <th>sales_person</th>\n",
       "      <th>country</th>\n",
       "      <th>product</th>\n",
       "      <th>date</th>\n",
       "      <th>amount</th>\n",
       "      <th>boxes_shipped</th>\n",
       "    </tr>\n",
       "  </thead>\n",
       "  <tbody>\n",
       "    <tr>\n",
       "      <th>0</th>\n",
       "      <td>Jehu Rudeforth</td>\n",
       "      <td>UK</td>\n",
       "      <td>Mint Chip Choco</td>\n",
       "      <td>2022-01-04</td>\n",
       "      <td>5320.0</td>\n",
       "      <td>180</td>\n",
       "    </tr>\n",
       "    <tr>\n",
       "      <th>1</th>\n",
       "      <td>Van Tuxwell</td>\n",
       "      <td>India</td>\n",
       "      <td>85% Dark Bars</td>\n",
       "      <td>2022-08-01</td>\n",
       "      <td>7896.0</td>\n",
       "      <td>94</td>\n",
       "    </tr>\n",
       "    <tr>\n",
       "      <th>2</th>\n",
       "      <td>Gigi Bohling</td>\n",
       "      <td>India</td>\n",
       "      <td>Peanut Butter Cubes</td>\n",
       "      <td>2022-07-07</td>\n",
       "      <td>4501.0</td>\n",
       "      <td>91</td>\n",
       "    </tr>\n",
       "    <tr>\n",
       "      <th>3</th>\n",
       "      <td>Jan Morforth</td>\n",
       "      <td>Australia</td>\n",
       "      <td>Peanut Butter Cubes</td>\n",
       "      <td>2022-04-27</td>\n",
       "      <td>12726.0</td>\n",
       "      <td>342</td>\n",
       "    </tr>\n",
       "    <tr>\n",
       "      <th>4</th>\n",
       "      <td>Jehu Rudeforth</td>\n",
       "      <td>UK</td>\n",
       "      <td>Peanut Butter Cubes</td>\n",
       "      <td>2022-02-24</td>\n",
       "      <td>13685.0</td>\n",
       "      <td>184</td>\n",
       "    </tr>\n",
       "  </tbody>\n",
       "</table>\n",
       "</div>"
      ],
      "text/plain": [
       "     sales_person    country              product       date   amount  \\\n",
       "0  Jehu Rudeforth         UK      Mint Chip Choco 2022-01-04   5320.0   \n",
       "1     Van Tuxwell      India        85% Dark Bars 2022-08-01   7896.0   \n",
       "2    Gigi Bohling      India  Peanut Butter Cubes 2022-07-07   4501.0   \n",
       "3    Jan Morforth  Australia  Peanut Butter Cubes 2022-04-27  12726.0   \n",
       "4  Jehu Rudeforth         UK  Peanut Butter Cubes 2022-02-24  13685.0   \n",
       "\n",
       "   boxes_shipped  \n",
       "0            180  \n",
       "1             94  \n",
       "2             91  \n",
       "3            342  \n",
       "4            184  "
      ]
     },
     "execution_count": 8,
     "metadata": {},
     "output_type": "execute_result"
    }
   ],
   "source": [
    "df[\"date\"] = pd.to_datetime(df[\"date\"], errors=\"coerce\")\n",
    "df[\"amount\"] = df[\"amount\"].replace(r\"[\\$,]\", \"\", regex=True).astype(float)\n",
    "\n",
    "df.head()"
   ]
  },
  {
   "cell_type": "markdown",
   "metadata": {},
   "source": [
    "## 4. Exploratory data analysis (EDA)"
   ]
  },
  {
   "cell_type": "markdown",
   "metadata": {},
   "source": [
    "I think that in business intelligence, the most important thing is to understand the data and the business. So, I will try to make some analysis that can be useful for a business.\n",
    "\n",
    "I will explain the analysis answering four basic questions:\n",
    "1. Which are the most sold chocolates?\n",
    "2. Where are the most sold chocolates?\n",
    "3. When are the most sold chocolates?\n",
    "4. How are the most sold chocolates?\n",
    "\n",
    "It is a subjective decission, but for a first analysis I think that will be far enough to understand the data and the business."
   ]
  },
  {
   "cell_type": "markdown",
   "metadata": {},
   "source": [
    "### 4.1. WHICH is the best-selling chocolate?"
   ]
  },
  {
   "cell_type": "code",
   "execution_count": 9,
   "metadata": {},
   "outputs": [
    {
     "name": "stderr",
     "output_type": "stream",
     "text": [
      "/var/folders/6h/f4b9pqr55319d7smk2pl0wdw0000gn/T/ipykernel_23758/2345271493.py:4: FutureWarning: \n",
      "\n",
      "Passing `palette` without assigning `hue` is deprecated and will be removed in v0.14.0. Assign the `y` variable to `hue` and set `legend=False` for the same effect.\n",
      "\n",
      "  sns.barplot(x=product_revenue.values, y=product_revenue.index, palette=\"viridis\")\n"
     ]
    },
    {
     "data": {
      "image/png": "[encoded data removed]",
      "text/plain": [
       "<Figure size 1000x600 with 1 Axes>"
      ]
     },
     "metadata": {},
     "output_type": "display_data"
    }
   ],
   "source": [
    "product_revenue = df.groupby('product')['amount'].sum().sort_values(ascending=False)\n",
    "\n",
    "plt.figure(figsize=(10, 6))\n",
    "sns.barplot(x=product_revenue.values, y=product_revenue.index, palette=\"viridis\")\n",
    "plt.title(\"Revenues by Product\")\n",
    "plt.xlabel(\"Total Revenue ($)\")\n",
    "plt.ylabel(\"Product\")\n",
    "plt.tight_layout()\n",
    "plt.show()"
   ]
  },
  {
   "cell_type": "markdown",
   "metadata": {},
   "source": [
    "### 4.2. WHERE is selling the most chocolate?"
   ]
  },
  {
   "cell_type": "code",
   "execution_count": 10,
   "metadata": {},
   "outputs": [
    {
     "name": "stderr",
     "output_type": "stream",
     "text": [
      "/var/folders/6h/f4b9pqr55319d7smk2pl0wdw0000gn/T/ipykernel_23758/248236132.py:4: FutureWarning: \n",
      "\n",
      "Passing `palette` without assigning `hue` is deprecated and will be removed in v0.14.0. Assign the `y` variable to `hue` and set `legend=False` for the same effect.\n",
      "\n",
      "  sns.barplot(x=country_revenue.values, y=country_revenue.index, palette=\"magma\")\n"
     ]
    },
    {
     "data": {
      "image/png": "[encoded data removed]",
      "text/plain": [
       "<Figure size 800x500 with 1 Axes>"
      ]
     },
     "metadata": {},
     "output_type": "display_data"
    }
   ],
   "source": [
    "country_revenue = df.groupby('country')['amount'].sum().sort_values(ascending=False)\n",
    "\n",
    "plt.figure(figsize=(8, 5))\n",
    "sns.barplot(x=country_revenue.values, y=country_revenue.index, palette=\"magma\")\n",
    "plt.title(\"Ingresos por país\")\n",
    "plt.xlabel(\"Ingresos totales\")\n",
    "plt.ylabel(\"País\")\n",
    "plt.tight_layout()\n",
    "plt.show()"
   ]
  },
  {
   "cell_type": "code",
   "execution_count": 11,
   "metadata": {},
   "outputs": [
    {
     "data": {
      "application/vnd.plotly.v1+json": {
       "config": {
        "plotlyServerURL": "https://plot.ly"
       },
       "data": [
        {
         "coloraxis": "coloraxis",
         "geo": "geo",
         "hovertemplate": "country=%{location}<br>Total Revenue ($)=%{z}<extra></extra>",
         "locationmode": "country names",
         "locations": [
          "Australia",
          "UK",
          "India",
          "USA",
          "Canada",
          "New Zealand"
         ],
         "name": "",
         "type": "choropleth",
         "z": {
          "bdata": "AAAAANdaMUEAAAAAkAwwQQAAAABQ6i9BAAAAAKqYL0EAAAAApmItQQAAAAAkAS1B",
          "dtype": "f8"
         }
        }
       ],
       "layout": {
        "coloraxis": {
         "colorbar": {
          "title": {
           "text": "Total Revenue ($)"
          }
         },
         "colorscale": [
          [
           0,
           "#fde725"
          ],
          [
           0.1111111111111111,
           "#b5de2b"
          ],
          [
           0.2222222222222222,
           "#6ece58"
          ],
          [
           0.3333333333333333,
           "#35b779"
          ],
          [
           0.4444444444444444,
           "#1f9e89"
          ],
          [
           0.5555555555555556,
           "#26828e"
          ],
          [
           0.6666666666666666,
           "#31688e"
          ],
          [
           0.7777777777777778,
           "#3e4989"
          ],
          [
           0.8888888888888888,
           "#482878"
          ],
          [
           1,
           "#440154"
          ]
         ]
        },
        "geo": {
         "center": {},
         "domain": {
          "x": [
           0,
           1
          ],
          "y": [
           0,
           1
          ]
         },
         "projection": {
          "type": "natural earth"
         },
         "showframe": false
        },
        "legend": {
         "tracegroupgap": 0
        },
        "template": {
         "data": {
          "bar": [
           {
            "error_x": {
             "color": "#2a3f5f"
            },
            "error_y": {
             "color": "#2a3f5f"
            },
            "marker": {
             "line": {
              "color": "#E5ECF6",
              "width": 0.5
             },
             "pattern": {
              "fillmode": "overlay",
              "size": 10,
              "solidity": 0.2
             }
            },
            "type": "bar"
           }
          ],
          "barpolar": [
           {
            "marker": {
             "line": {
              "color": "#E5ECF6",
              "width": 0.5
             },
             "pattern": {
              "fillmode": "overlay",
              "size": 10,
              "solidity": 0.2
             }
            },
            "type": "barpolar"
           }
          ],
          "carpet": [
           {
            "aaxis": {
             "endlinecolor": "#2a3f5f",
             "gridcolor": "white",
             "linecolor": "white",
             "minorgridcolor": "white",
             "startlinecolor": "#2a3f5f"
            },
            "baxis": {
             "endlinecolor": "#2a3f5f",
             "gridcolor": "white",
             "linecolor": "white",
             "minorgridcolor": "white",
             "startlinecolor": "#2a3f5f"
            },
            "type": "carpet"
           }
          ],
          "choropleth": [
           {
            "colorbar": {
             "outlinewidth": 0,
             "ticks": ""
            },
            "type": "choropleth"
           }
          ],
          "contour": [
           {
            "colorbar": {
             "outlinewidth": 0,
             "ticks": ""
            },
            "colorscale": [
             [
              0,
              "#0d0887"
             ],
             [
              0.1111111111111111,
              "#46039f"
             ],
             [
              0.2222222222222222,
              "#7201a8"
             ],
             [
              0.3333333333333333,
              "#9c179e"
             ],
             [
              0.4444444444444444,
              "#bd3786"
             ],
             [
              0.5555555555555556,
              "#d8576b"
             ],
             [
              0.6666666666666666,
              "#ed7953"
             ],
             [
              0.7777777777777778,
              "#fb9f3a"
             ],
             [
              0.8888888888888888,
              "#fdca26"
             ],
             [
              1,
              "#f0f921"
             ]
            ],
            "type": "contour"
           }
          ],
          "contourcarpet": [
           {
            "colorbar": {
             "outlinewidth": 0,
             "ticks": ""
            },
            "type": "contourcarpet"
           }
          ],
          "heatmap": [
           {
            "colorbar": {
             "outlinewidth": 0,
             "ticks": ""
            },
            "colorscale": [
             [
              0,
              "#0d0887"
             ],
             [
              0.1111111111111111,
              "#46039f"
             ],
             [
              0.2222222222222222,
              "#7201a8"
             ],
             [
              0.3333333333333333,
              "#9c179e"
             ],
             [
              0.4444444444444444,
              "#bd3786"
             ],
             [
              0.5555555555555556,
              "#d8576b"
             ],
             [
              0.6666666666666666,
              "#ed7953"
             ],
             [
              0.7777777777777778,
              "#fb9f3a"
             ],
             [
              0.8888888888888888,
              "#fdca26"
             ],
             [
              1,
              "#f0f921"
             ]
            ],
            "type": "heatmap"
           }
          ],
          "histogram": [
           {
            "marker": {
             "pattern": {
              "fillmode": "overlay",
              "size": 10,
              "solidity": 0.2
             }
            },
            "type": "histogram"
           }
          ],
          "histogram2d": [
           {
            "colorbar": {
             "outlinewidth": 0,
             "ticks": ""
            },
            "colorscale": [
             [
              0,
              "#0d0887"
             ],
             [
              0.1111111111111111,
              "#46039f"
             ],
             [
              0.2222222222222222,
              "#7201a8"
             ],
             [
              0.3333333333333333,
              "#9c179e"
             ],
             [
              0.4444444444444444,
              "#bd3786"
             ],
             [
              0.5555555555555556,
              "#d8576b"
             ],
             [
              0.6666666666666666,
              "#ed7953"
             ],
             [
              0.7777777777777778,
              "#fb9f3a"
             ],
             [
              0.8888888888888888,
              "#fdca26"
             ],
             [
              1,
              "#f0f921"
             ]
            ],
            "type": "histogram2d"
           }
          ],
          "histogram2dcontour": [
           {
            "colorbar": {
             "outlinewidth": 0,
             "ticks": ""
            },
            "colorscale": [
             [
              0,
              "#0d0887"
             ],
             [
              0.1111111111111111,
              "#46039f"
             ],
             [
              0.2222222222222222,
              "#7201a8"
             ],
             [
              0.3333333333333333,
              "#9c179e"
             ],
             [
              0.4444444444444444,
              "#bd3786"
             ],
             [
              0.5555555555555556,
              "#d8576b"
             ],
             [
              0.6666666666666666,
              "#ed7953"
             ],
             [
              0.7777777777777778,
              "#fb9f3a"
             ],
             [
              0.8888888888888888,
              "#fdca26"
             ],
             [
              1,
              "#f0f921"
             ]
            ],
            "type": "histogram2dcontour"
           }
          ],
          "mesh3d": [
           {
            "colorbar": {
             "outlinewidth": 0,
             "ticks": ""
            },
            "type": "mesh3d"
           }
          ],
          "parcoords": [
           {
            "line": {
             "colorbar": {
              "outlinewidth": 0,
              "ticks": ""
             }
            },
            "type": "parcoords"
           }
          ],
          "pie": [
           {
            "automargin": true,
            "type": "pie"
           }
          ],
          "scatter": [
           {
            "fillpattern": {
             "fillmode": "overlay",
             "size": 10,
             "solidity": 0.2
            },
            "type": "scatter"
           }
          ],
          "scatter3d": [
           {
            "line": {
             "colorbar": {
              "outlinewidth": 0,
              "ticks": ""
             }
            },
            "marker": {
             "colorbar": {
              "outlinewidth": 0,
              "ticks": ""
             }
            },
            "type": "scatter3d"
           }
          ],
          "scattercarpet": [
           {
            "marker": {
             "colorbar": {
              "outlinewidth": 0,
              "ticks": ""
             }
            },
            "type": "scattercarpet"
           }
          ],
          "scattergeo": [
           {
            "marker": {
             "colorbar": {
              "outlinewidth": 0,
              "ticks": ""
             }
            },
            "type": "scattergeo"
           }
          ],
          "scattergl": [
           {
            "marker": {
             "colorbar": {
              "outlinewidth": 0,
              "ticks": ""
             }
            },
            "type": "scattergl"
           }
          ],
          "scattermap": [
           {
            "marker": {
             "colorbar": {
              "outlinewidth": 0,
              "ticks": ""
             }
            },
            "type": "scattermap"
           }
          ],
          "scattermapbox": [
           {
            "marker": {
             "colorbar": {
              "outlinewidth": 0,
              "ticks": ""
             }
            },
            "type": "scattermapbox"
           }
          ],
          "scatterpolar": [
           {
            "marker": {
             "colorbar": {
              "outlinewidth": 0,
              "ticks": ""
             }
            },
            "type": "scatterpolar"
           }
          ],
          "scatterpolargl": [
           {
            "marker": {
             "colorbar": {
              "outlinewidth": 0,
              "ticks": ""
             }
            },
            "type": "scatterpolargl"
           }
          ],
          "scatterternary": [
           {
            "marker": {
             "colorbar": {
              "outlinewidth": 0,
              "ticks": ""
             }
            },
            "type": "scatterternary"
           }
          ],
          "surface": [
           {
            "colorbar": {
             "outlinewidth": 0,
             "ticks": ""
            },
            "colorscale": [
             [
              0,
              "#0d0887"
             ],
             [
              0.1111111111111111,
              "#46039f"
             ],
             [
              0.2222222222222222,
              "#7201a8"
             ],
             [
              0.3333333333333333,
              "#9c179e"
             ],
             [
              0.4444444444444444,
              "#bd3786"
             ],
             [
              0.5555555555555556,
              "#d8576b"
             ],
             [
              0.6666666666666666,
              "#ed7953"
             ],
             [
              0.7777777777777778,
              "#fb9f3a"
             ],
             [
              0.8888888888888888,
              "#fdca26"
             ],
             [
              1,
              "#f0f921"
             ]
            ],
            "type": "surface"
           }
          ],
          "table": [
           {
            "cells": {
             "fill": {
              "color": "#EBF0F8"
             },
             "line": {
              "color": "white"
             }
            },
            "header": {
             "fill": {
              "color": "#C8D4E3"
             },
             "line": {
              "color": "white"
             }
            },
            "type": "table"
           }
          ]
         },
         "layout": {
          "annotationdefaults": {
           "arrowcolor": "#2a3f5f",
           "arrowhead": 0,
           "arrowwidth": 1
          },
          "autotypenumbers": "strict",
          "coloraxis": {
           "colorbar": {
            "outlinewidth": 0,
            "ticks": ""
           }
          },
          "colorscale": {
           "diverging": [
            [
             0,
             "#8e0152"
            ],
            [
             0.1,
             "#c51b7d"
            ],
            [
             0.2,
             "#de77ae"
            ],
            [
             0.3,
             "#f1b6da"
            ],
            [
             0.4,
             "#fde0ef"
            ],
            [
             0.5,
             "#f7f7f7"
            ],
            [
             0.6,
             "#e6f5d0"
            ],
            [
             0.7,
             "#b8e186"
            ],
            [
             0.8,
             "#7fbc41"
            ],
            [
             0.9,
             "#4d9221"
            ],
            [
             1,
             "#276419"
            ]
           ],
           "sequential": [
            [
             0,
             "#0d0887"
            ],
            [
             0.1111111111111111,
             "#46039f"
            ],
            [
             0.2222222222222222,
             "#7201a8"
            ],
            [
             0.3333333333333333,
             "#9c179e"
            ],
            [
             0.4444444444444444,
             "#bd3786"
            ],
            [
             0.5555555555555556,
             "#d8576b"
            ],
            [
             0.6666666666666666,
             "#ed7953"
            ],
            [
             0.7777777777777778,
             "#fb9f3a"
            ],
            [
             0.8888888888888888,
             "#fdca26"
            ],
            [
             1,
             "#f0f921"
            ]
           ],
           "sequentialminus": [
            [
             0,
             "#0d0887"
            ],
            [
             0.1111111111111111,
             "#46039f"
            ],
            [
             0.2222222222222222,
             "#7201a8"
            ],
            [
             0.3333333333333333,
             "#9c179e"
            ],
            [
             0.4444444444444444,
             "#bd3786"
            ],
            [
             0.5555555555555556,
             "#d8576b"
            ],
            [
             0.6666666666666666,
             "#ed7953"
            ],
            [
             0.7777777777777778,
             "#fb9f3a"
            ],
            [
             0.8888888888888888,
             "#fdca26"
            ],
            [
             1,
             "#f0f921"
            ]
           ]
          },
          "colorway": [
           "#636efa",
           "#EF553B",
           "#00cc96",
           "#ab63fa",
           "#FFA15A",
           "#19d3f3",
           "#FF6692",
           "#B6E880",
           "#FF97FF",
           "#FECB52"
          ],
          "font": {
           "color": "#2a3f5f"
          },
          "geo": {
           "bgcolor": "white",
           "lakecolor": "white",
           "landcolor": "#E5ECF6",
           "showlakes": true,
           "showland": true,
           "subunitcolor": "white"
          },
          "hoverlabel": {
           "align": "left"
          },
          "hovermode": "closest",
          "mapbox": {
           "style": "light"
          },
          "paper_bgcolor": "white",
          "plot_bgcolor": "#E5ECF6",
          "polar": {
           "angularaxis": {
            "gridcolor": "white",
            "linecolor": "white",
            "ticks": ""
           },
           "bgcolor": "#E5ECF6",
           "radialaxis": {
            "gridcolor": "white",
            "linecolor": "white",
            "ticks": ""
           }
          },
          "scene": {
           "xaxis": {
            "backgroundcolor": "#E5ECF6",
            "gridcolor": "white",
            "gridwidth": 2,
            "linecolor": "white",
            "showbackground": true,
            "ticks": "",
            "zerolinecolor": "white"
           },
           "yaxis": {
            "backgroundcolor": "#E5ECF6",
            "gridcolor": "white",
            "gridwidth": 2,
            "linecolor": "white",
            "showbackground": true,
            "ticks": "",
            "zerolinecolor": "white"
           },
           "zaxis": {
            "backgroundcolor": "#E5ECF6",
            "gridcolor": "white",
            "gridwidth": 2,
            "linecolor": "white",
            "showbackground": true,
            "ticks": "",
            "zerolinecolor": "white"
           }
          },
          "shapedefaults": {
           "line": {
            "color": "#2a3f5f"
           }
          },
          "ternary": {
           "aaxis": {
            "gridcolor": "white",
            "linecolor": "white",
            "ticks": ""
           },
           "baxis": {
            "gridcolor": "white",
            "linecolor": "white",
            "ticks": ""
           },
           "bgcolor": "#E5ECF6",
           "caxis": {
            "gridcolor": "white",
            "linecolor": "white",
            "ticks": ""
           }
          },
          "title": {
           "x": 0.05
          },
          "xaxis": {
           "automargin": true,
           "gridcolor": "white",
           "linecolor": "white",
           "ticks": "",
           "title": {
            "standoff": 15
           },
           "zerolinecolor": "white",
           "zerolinewidth": 2
          },
          "yaxis": {
           "automargin": true,
           "gridcolor": "white",
           "linecolor": "white",
           "ticks": "",
           "title": {
            "standoff": 15
           },
           "zerolinecolor": "white",
           "zerolinewidth": 2
          }
         }
        },
        "title": {
         "text": "Revenues by Country"
        }
       }
      }
     },
     "metadata": {},
     "output_type": "display_data"
    }
   ],
   "source": [
    "# Convert country_revenue to a DataFrame\n",
    "country_revenue_df = country_revenue.reset_index()\n",
    "country_revenue_df.columns = ['country', 'total_revenue']\n",
    "\n",
    "# Create a map\n",
    "fig = px.choropleth(\n",
    "    country_revenue_df,\n",
    "    locations=\"country\",\n",
    "    locationmode=\"country names\",\n",
    "    color=\"total_revenue\",\n",
    "    color_continuous_scale=px.colors.sequential.Viridis[::-1],\n",
    "    title=\"Revenues by Country\",\n",
    "    labels={\"total_revenue\": \"Total Revenue ($)\"},\n",
    ")\n",
    "\n",
    "fig.update_layout(geo=dict(showframe=False, projection_type=\"natural earth\"))\n",
    "fig.show()"
   ]
  },
  {
   "cell_type": "markdown",
   "metadata": {},
   "source": [
    "### 4.3. WHEN is selling the most chocolate?"
   ]
  },
  {
   "cell_type": "code",
   "execution_count": 12,
   "metadata": {},
   "outputs": [
    {
     "data": {
      "image/png": "[encoded data removed]",
      "text/plain": [
       "<Figure size 1200x500 with 1 Axes>"
      ]
     },
     "metadata": {},
     "output_type": "display_data"
    }
   ],
   "source": [
    "df['month'] = df['date'].dt.to_period('M')\n",
    "monthly_revenue = df.groupby('month')['amount'].sum()\n",
    "\n",
    "plt.figure(figsize=(12, 5))\n",
    "monthly_revenue.plot(marker='o')\n",
    "plt.title(\"Revenue by Month\")\n",
    "plt.xlabel(\"Month\")\n",
    "plt.ylabel(\"Revenue ($)\")\n",
    "plt.grid(True)\n",
    "plt.tight_layout()\n",
    "plt.show()"
   ]
  },
  {
   "cell_type": "code",
   "execution_count": 13,
   "metadata": {},
   "outputs": [
    {
     "data": {
      "image/png": "[encoded data removed]",
      "text/plain": [
       "<Figure size 1200x600 with 1 Axes>"
      ]
     },
     "metadata": {},
     "output_type": "display_data"
    }
   ],
   "source": [
    "df['month'] = df['date'].dt.to_period('M').astype(str)\n",
    "\n",
    "monthly_revenue = df.groupby('month')['amount'].sum().reset_index()\n",
    "\n",
    "plt.figure(figsize=(12, 6))\n",
    "sns.barplot(x='month', y='amount', data=monthly_revenue)\n",
    "plt.xticks(rotation=45)\n",
    "plt.title(\"Revenue by Month\")\n",
    "plt.xlabel(\"Month\")\n",
    "plt.ylabel(\"Total Revenue ($)\")\n",
    "plt.tight_layout()\n",
    "plt.show()"
   ]
  },
  {
   "cell_type": "markdown",
   "metadata": {},
   "source": [
    "### 4.4. HOW is selling the most chocolate?"
   ]
  },
  {
   "cell_type": "markdown",
   "metadata": {},
   "source": [
    "As we could see, our dataset hasn't lot of columns, so is complicated to extract rigorous conclusions. But I conclude that it's possible to know the behavior of th sales with a perspective of volume and segmentation."
   ]
  },
  {
   "cell_type": "code",
   "execution_count": 14,
   "metadata": {},
   "outputs": [
    {
     "data": {
      "text/html": [
       "<div>\n",
       "<style scoped>\n",
       "    .dataframe tbody tr th:only-of-type {\n",
       "        vertical-align: middle;\n",
       "    }\n",
       "\n",
       "    .dataframe tbody tr th {\n",
       "        vertical-align: top;\n",
       "    }\n",
       "\n",
       "    .dataframe thead th {\n",
       "        text-align: right;\n",
       "    }\n",
       "</style>\n",
       "<table border=\"1\" class=\"dataframe\">\n",
       "  <thead>\n",
       "    <tr style=\"text-align: right;\">\n",
       "      <th></th>\n",
       "      <th>sales_person</th>\n",
       "      <th>country</th>\n",
       "      <th>product</th>\n",
       "      <th>date</th>\n",
       "      <th>amount</th>\n",
       "      <th>boxes_shipped</th>\n",
       "      <th>month</th>\n",
       "      <th>price_per_box</th>\n",
       "    </tr>\n",
       "  </thead>\n",
       "  <tbody>\n",
       "    <tr>\n",
       "      <th>0</th>\n",
       "      <td>Jehu Rudeforth</td>\n",
       "      <td>UK</td>\n",
       "      <td>Mint Chip Choco</td>\n",
       "      <td>2022-01-04</td>\n",
       "      <td>5320.0</td>\n",
       "      <td>180</td>\n",
       "      <td>2022-01</td>\n",
       "      <td>29.555556</td>\n",
       "    </tr>\n",
       "    <tr>\n",
       "      <th>1</th>\n",
       "      <td>Van Tuxwell</td>\n",
       "      <td>India</td>\n",
       "      <td>85% Dark Bars</td>\n",
       "      <td>2022-08-01</td>\n",
       "      <td>7896.0</td>\n",
       "      <td>94</td>\n",
       "      <td>2022-08</td>\n",
       "      <td>84.000000</td>\n",
       "    </tr>\n",
       "    <tr>\n",
       "      <th>2</th>\n",
       "      <td>Gigi Bohling</td>\n",
       "      <td>India</td>\n",
       "      <td>Peanut Butter Cubes</td>\n",
       "      <td>2022-07-07</td>\n",
       "      <td>4501.0</td>\n",
       "      <td>91</td>\n",
       "      <td>2022-07</td>\n",
       "      <td>49.461538</td>\n",
       "    </tr>\n",
       "    <tr>\n",
       "      <th>3</th>\n",
       "      <td>Jan Morforth</td>\n",
       "      <td>Australia</td>\n",
       "      <td>Peanut Butter Cubes</td>\n",
       "      <td>2022-04-27</td>\n",
       "      <td>12726.0</td>\n",
       "      <td>342</td>\n",
       "      <td>2022-04</td>\n",
       "      <td>37.210526</td>\n",
       "    </tr>\n",
       "    <tr>\n",
       "      <th>4</th>\n",
       "      <td>Jehu Rudeforth</td>\n",
       "      <td>UK</td>\n",
       "      <td>Peanut Butter Cubes</td>\n",
       "      <td>2022-02-24</td>\n",
       "      <td>13685.0</td>\n",
       "      <td>184</td>\n",
       "      <td>2022-02</td>\n",
       "      <td>74.375000</td>\n",
       "    </tr>\n",
       "  </tbody>\n",
       "</table>\n",
       "</div>"
      ],
      "text/plain": [
       "     sales_person    country              product       date   amount  \\\n",
       "0  Jehu Rudeforth         UK      Mint Chip Choco 2022-01-04   5320.0   \n",
       "1     Van Tuxwell      India        85% Dark Bars 2022-08-01   7896.0   \n",
       "2    Gigi Bohling      India  Peanut Butter Cubes 2022-07-07   4501.0   \n",
       "3    Jan Morforth  Australia  Peanut Butter Cubes 2022-04-27  12726.0   \n",
       "4  Jehu Rudeforth         UK  Peanut Butter Cubes 2022-02-24  13685.0   \n",
       "\n",
       "   boxes_shipped    month  price_per_box  \n",
       "0            180  2022-01      29.555556  \n",
       "1             94  2022-08      84.000000  \n",
       "2             91  2022-07      49.461538  \n",
       "3            342  2022-04      37.210526  \n",
       "4            184  2022-02      74.375000  "
      ]
     },
     "execution_count": 14,
     "metadata": {},
     "output_type": "execute_result"
    }
   ],
   "source": [
    "df['price_per_box'] = df['amount'] / df['boxes_shipped']\n",
    "df.head()"
   ]
  },
  {
   "cell_type": "code",
   "execution_count": 15,
   "metadata": {},
   "outputs": [
    {
     "data": {
      "image/png": "[encoded data removed]",
      "text/plain": [
       "<Figure size 1000x500 with 1 Axes>"
      ]
     },
     "metadata": {},
     "output_type": "display_data"
    }
   ],
   "source": [
    "plt.figure(figsize=(10, 5))\n",
    "sns.histplot(df['price_per_box'], bins=30, kde=True, color='darkcyan')\n",
    "plt.title(\"Distribución del precio por caja\")\n",
    "plt.xlabel(\"Precio por caja ($)\")\n",
    "plt.ylabel(\"Frecuencia\")\n",
    "plt.tight_layout()\n",
    "plt.show()"
   ]
  },
  {
   "cell_type": "code",
   "execution_count": 16,
   "metadata": {},
   "outputs": [
    {
     "data": {
      "image/png": "[encoded data removed]",
      "text/plain": [
       "<Figure size 800x400 with 1 Axes>"
      ]
     },
     "metadata": {},
     "output_type": "display_data"
    }
   ],
   "source": [
    "plt.figure(figsize=(8, 4))\n",
    "sns.boxplot(x=df['price_per_box'], color='coral')\n",
    "plt.title(\"Boxplot del precio por caja\")\n",
    "plt.xlabel(\"Precio por caja ($)\")\n",
    "plt.tight_layout()\n",
    "plt.show()"
   ]
  },
  {
   "cell_type": "markdown",
   "metadata": {},
   "source": [
    "segmentation"
   ]
  },
  {
   "cell_type": "code",
   "execution_count": 17,
   "metadata": {},
   "outputs": [
    {
     "data": {
      "text/html": [
       "<div>\n",
       "<style scoped>\n",
       "    .dataframe tbody tr th:only-of-type {\n",
       "        vertical-align: middle;\n",
       "    }\n",
       "\n",
       "    .dataframe tbody tr th {\n",
       "        vertical-align: top;\n",
       "    }\n",
       "\n",
       "    .dataframe thead th {\n",
       "        text-align: right;\n",
       "    }\n",
       "</style>\n",
       "<table border=\"1\" class=\"dataframe\">\n",
       "  <thead>\n",
       "    <tr style=\"text-align: right;\">\n",
       "      <th></th>\n",
       "      <th>sales_person</th>\n",
       "      <th>country</th>\n",
       "      <th>product</th>\n",
       "      <th>date</th>\n",
       "      <th>amount</th>\n",
       "      <th>boxes_shipped</th>\n",
       "      <th>month</th>\n",
       "      <th>price_per_box</th>\n",
       "      <th>order_size</th>\n",
       "    </tr>\n",
       "  </thead>\n",
       "  <tbody>\n",
       "    <tr>\n",
       "      <th>0</th>\n",
       "      <td>Jehu Rudeforth</td>\n",
       "      <td>UK</td>\n",
       "      <td>Mint Chip Choco</td>\n",
       "      <td>2022-01-04</td>\n",
       "      <td>5320.0</td>\n",
       "      <td>180</td>\n",
       "      <td>2022-01</td>\n",
       "      <td>29.555556</td>\n",
       "      <td>large</td>\n",
       "    </tr>\n",
       "    <tr>\n",
       "      <th>1</th>\n",
       "      <td>Van Tuxwell</td>\n",
       "      <td>India</td>\n",
       "      <td>85% Dark Bars</td>\n",
       "      <td>2022-08-01</td>\n",
       "      <td>7896.0</td>\n",
       "      <td>94</td>\n",
       "      <td>2022-08</td>\n",
       "      <td>84.000000</td>\n",
       "      <td>large</td>\n",
       "    </tr>\n",
       "    <tr>\n",
       "      <th>2</th>\n",
       "      <td>Gigi Bohling</td>\n",
       "      <td>India</td>\n",
       "      <td>Peanut Butter Cubes</td>\n",
       "      <td>2022-07-07</td>\n",
       "      <td>4501.0</td>\n",
       "      <td>91</td>\n",
       "      <td>2022-07</td>\n",
       "      <td>49.461538</td>\n",
       "      <td>large</td>\n",
       "    </tr>\n",
       "    <tr>\n",
       "      <th>3</th>\n",
       "      <td>Jan Morforth</td>\n",
       "      <td>Australia</td>\n",
       "      <td>Peanut Butter Cubes</td>\n",
       "      <td>2022-04-27</td>\n",
       "      <td>12726.0</td>\n",
       "      <td>342</td>\n",
       "      <td>2022-04</td>\n",
       "      <td>37.210526</td>\n",
       "      <td>large</td>\n",
       "    </tr>\n",
       "    <tr>\n",
       "      <th>4</th>\n",
       "      <td>Jehu Rudeforth</td>\n",
       "      <td>UK</td>\n",
       "      <td>Peanut Butter Cubes</td>\n",
       "      <td>2022-02-24</td>\n",
       "      <td>13685.0</td>\n",
       "      <td>184</td>\n",
       "      <td>2022-02</td>\n",
       "      <td>74.375000</td>\n",
       "      <td>large</td>\n",
       "    </tr>\n",
       "  </tbody>\n",
       "</table>\n",
       "</div>"
      ],
      "text/plain": [
       "     sales_person    country              product       date   amount  \\\n",
       "0  Jehu Rudeforth         UK      Mint Chip Choco 2022-01-04   5320.0   \n",
       "1     Van Tuxwell      India        85% Dark Bars 2022-08-01   7896.0   \n",
       "2    Gigi Bohling      India  Peanut Butter Cubes 2022-07-07   4501.0   \n",
       "3    Jan Morforth  Australia  Peanut Butter Cubes 2022-04-27  12726.0   \n",
       "4  Jehu Rudeforth         UK  Peanut Butter Cubes 2022-02-24  13685.0   \n",
       "\n",
       "   boxes_shipped    month  price_per_box order_size  \n",
       "0            180  2022-01      29.555556      large  \n",
       "1             94  2022-08      84.000000      large  \n",
       "2             91  2022-07      49.461538      large  \n",
       "3            342  2022-04      37.210526      large  \n",
       "4            184  2022-02      74.375000      large  "
      ]
     },
     "execution_count": 17,
     "metadata": {},
     "output_type": "execute_result"
    }
   ],
   "source": [
    "df['order_size'] = pd.cut(\n",
    "    df['boxes_shipped'],\n",
    "    bins=[0, 10, 50, df['boxes_shipped'].max()],\n",
    "    labels=['small', 'medium', 'large']\n",
    ")\n",
    "df.head()"
   ]
  },
  {
   "cell_type": "code",
   "execution_count": 18,
   "metadata": {},
   "outputs": [
    {
     "name": "stderr",
     "output_type": "stream",
     "text": [
      "/var/folders/6h/f4b9pqr55319d7smk2pl0wdw0000gn/T/ipykernel_23758/1130469969.py:1: FutureWarning:\n",
      "\n",
      "The default of observed=False is deprecated and will be changed to True in a future version of pandas. Pass observed=False to retain current behavior or observed=True to adopt the future default and silence this warning.\n",
      "\n"
     ]
    },
    {
     "data": {
      "text/html": [
       "<div>\n",
       "<style scoped>\n",
       "    .dataframe tbody tr th:only-of-type {\n",
       "        vertical-align: middle;\n",
       "    }\n",
       "\n",
       "    .dataframe tbody tr th {\n",
       "        vertical-align: top;\n",
       "    }\n",
       "\n",
       "    .dataframe thead tr th {\n",
       "        text-align: left;\n",
       "    }\n",
       "\n",
       "    .dataframe thead tr:last-of-type th {\n",
       "        text-align: right;\n",
       "    }\n",
       "</style>\n",
       "<table border=\"1\" class=\"dataframe\">\n",
       "  <thead>\n",
       "    <tr>\n",
       "      <th></th>\n",
       "      <th colspan=\"2\" halign=\"left\">amount</th>\n",
       "      <th>price_per_box</th>\n",
       "      <th>boxes_shipped</th>\n",
       "    </tr>\n",
       "    <tr>\n",
       "      <th></th>\n",
       "      <th>sum</th>\n",
       "      <th>mean</th>\n",
       "      <th>mean</th>\n",
       "      <th>mean</th>\n",
       "    </tr>\n",
       "    <tr>\n",
       "      <th>order_size</th>\n",
       "      <th></th>\n",
       "      <th></th>\n",
       "      <th></th>\n",
       "      <th></th>\n",
       "    </tr>\n",
       "  </thead>\n",
       "  <tbody>\n",
       "    <tr>\n",
       "      <th>small</th>\n",
       "      <td>182385.0</td>\n",
       "      <td>5526.82</td>\n",
       "      <td>1186.4</td>\n",
       "      <td>5.91</td>\n",
       "    </tr>\n",
       "    <tr>\n",
       "      <th>medium</th>\n",
       "      <td>950873.0</td>\n",
       "      <td>6056.52</td>\n",
       "      <td>250.1</td>\n",
       "      <td>30.34</td>\n",
       "    </tr>\n",
       "    <tr>\n",
       "      <th>large</th>\n",
       "      <td>5050367.0</td>\n",
       "      <td>5586.69</td>\n",
       "      <td>41.2</td>\n",
       "      <td>190.32</td>\n",
       "    </tr>\n",
       "  </tbody>\n",
       "</table>\n",
       "</div>"
      ],
      "text/plain": [
       "               amount          price_per_box boxes_shipped\n",
       "                  sum     mean          mean          mean\n",
       "order_size                                                \n",
       "small        182385.0  5526.82        1186.4          5.91\n",
       "medium       950873.0  6056.52         250.1         30.34\n",
       "large       5050367.0  5586.69          41.2        190.32"
      ]
     },
     "execution_count": 18,
     "metadata": {},
     "output_type": "execute_result"
    }
   ],
   "source": [
    "segment_stats = df.groupby('order_size').agg({\n",
    "    'amount': ['sum', 'mean'],\n",
    "    'price_per_box': 'mean',\n",
    "    'boxes_shipped': 'mean'\n",
    "}).round(2)\n",
    "\n",
    "segment_stats"
   ]
  },
  {
   "cell_type": "code",
   "execution_count": 19,
   "metadata": {},
   "outputs": [
    {
     "data": {
      "text/html": [
       "<div>\n",
       "<style scoped>\n",
       "    .dataframe tbody tr th:only-of-type {\n",
       "        vertical-align: middle;\n",
       "    }\n",
       "\n",
       "    .dataframe tbody tr th {\n",
       "        vertical-align: top;\n",
       "    }\n",
       "\n",
       "    .dataframe thead th {\n",
       "        text-align: right;\n",
       "    }\n",
       "</style>\n",
       "<table border=\"1\" class=\"dataframe\">\n",
       "  <thead>\n",
       "    <tr style=\"text-align: right;\">\n",
       "      <th></th>\n",
       "      <th>order_size</th>\n",
       "      <th>total_revenue</th>\n",
       "      <th>avg_revenue</th>\n",
       "      <th>avg_price_per_box</th>\n",
       "      <th>avg_boxes</th>\n",
       "    </tr>\n",
       "  </thead>\n",
       "  <tbody>\n",
       "    <tr>\n",
       "      <th>0</th>\n",
       "      <td>small</td>\n",
       "      <td>182385.0</td>\n",
       "      <td>5526.82</td>\n",
       "      <td>1186.4</td>\n",
       "      <td>5.91</td>\n",
       "    </tr>\n",
       "    <tr>\n",
       "      <th>1</th>\n",
       "      <td>medium</td>\n",
       "      <td>950873.0</td>\n",
       "      <td>6056.52</td>\n",
       "      <td>250.1</td>\n",
       "      <td>30.34</td>\n",
       "    </tr>\n",
       "    <tr>\n",
       "      <th>2</th>\n",
       "      <td>large</td>\n",
       "      <td>5050367.0</td>\n",
       "      <td>5586.69</td>\n",
       "      <td>41.2</td>\n",
       "      <td>190.32</td>\n",
       "    </tr>\n",
       "  </tbody>\n",
       "</table>\n",
       "</div>"
      ],
      "text/plain": [
       "  order_size  total_revenue  avg_revenue  avg_price_per_box  avg_boxes\n",
       "0      small       182385.0      5526.82             1186.4       5.91\n",
       "1     medium       950873.0      6056.52              250.1      30.34\n",
       "2      large      5050367.0      5586.69               41.2     190.32"
      ]
     },
     "execution_count": 19,
     "metadata": {},
     "output_type": "execute_result"
    }
   ],
   "source": [
    "segment_stats.columns = ['total_revenue', 'avg_revenue', 'avg_price_per_box', 'avg_boxes']\n",
    "segment_stats.reset_index(inplace=True)\n",
    "segment_stats"
   ]
  },
  {
   "cell_type": "code",
   "execution_count": 20,
   "metadata": {},
   "outputs": [
    {
     "name": "stderr",
     "output_type": "stream",
     "text": [
      "/var/folders/6h/f4b9pqr55319d7smk2pl0wdw0000gn/T/ipykernel_23758/2997182493.py:3: FutureWarning:\n",
      "\n",
      "\n",
      "\n",
      "Passing `palette` without assigning `hue` is deprecated and will be removed in v0.14.0. Assign the `x` variable to `hue` and set `legend=False` for the same effect.\n",
      "\n",
      "\n",
      "/var/folders/6h/f4b9pqr55319d7smk2pl0wdw0000gn/T/ipykernel_23758/2997182493.py:8: FutureWarning:\n",
      "\n",
      "\n",
      "\n",
      "Passing `palette` without assigning `hue` is deprecated and will be removed in v0.14.0. Assign the `x` variable to `hue` and set `legend=False` for the same effect.\n",
      "\n",
      "\n"
     ]
    },
    {
     "data": {
      "image/png": "[encoded data removed]",
      "text/plain": [
       "<Figure size 1400x500 with 2 Axes>"
      ]
     },
     "metadata": {},
     "output_type": "display_data"
    }
   ],
   "source": [
    "fig, ax = plt.subplots(1, 2, figsize=(14, 5))\n",
    "\n",
    "sns.barplot(data=segment_stats, x='order_size', y='avg_price_per_box', ax=ax[0], palette='Purples_d')\n",
    "ax[0].set_title(\"Precio medio por caja\")\n",
    "ax[0].set_xlabel(\"Tamaño del pedido\")\n",
    "ax[0].set_ylabel(\"$\")\n",
    "\n",
    "sns.barplot(data=segment_stats, x='order_size', y='avg_boxes', ax=ax[1], palette='Oranges_d')\n",
    "ax[1].set_title(\"Cajas promedio por pedido\")\n",
    "ax[1].set_xlabel(\"Tamaño del pedido\")\n",
    "ax[1].set_ylabel(\"Número de cajas\")\n",
    "\n",
    "plt.tight_layout()\n",
    "plt.show()"
   ]
  },
  {
   "cell_type": "markdown",
   "metadata": {},
   "source": [
    "## 5. Conclusion"
   ]
  },
  {
   "cell_type": "code",
   "execution_count": 21,
   "metadata": {},
   "outputs": [],
   "source": [
    "segment_stats['revenue_per_box'] = segment_stats['avg_revenue'] / segment_stats['avg_boxes']"
   ]
  },
  {
   "cell_type": "code",
   "execution_count": 22,
   "metadata": {},
   "outputs": [
    {
     "name": "stderr",
     "output_type": "stream",
     "text": [
      "/var/folders/6h/f4b9pqr55319d7smk2pl0wdw0000gn/T/ipykernel_23758/1034175354.py:1: FutureWarning:\n",
      "\n",
      "\n",
      "\n",
      "Passing `palette` without assigning `hue` is deprecated and will be removed in v0.14.0. Assign the `x` variable to `hue` and set `legend=False` for the same effect.\n",
      "\n",
      "\n"
     ]
    },
    {
     "data": {
      "image/png": "[encoded data removed]",
      "text/plain": [
       "<Figure size 640x480 with 1 Axes>"
      ]
     },
     "metadata": {},
     "output_type": "display_data"
    }
   ],
   "source": [
    "sns.barplot(data=segment_stats, x='order_size', y='revenue_per_box', palette='coolwarm')\n",
    "plt.title(\"Ingresos por caja según el tamaño del pedido\")\n",
    "plt.ylabel(\"Ingreso por caja ($)\")\n",
    "plt.xlabel(\"Tamaño del pedido\")\n",
    "plt.tight_layout()\n",
    "plt.show()"
   ]
  },
  {
   "cell_type": "markdown",
   "metadata": {},
   "source": [
    "with simulated costs"
   ]
  },
  {
   "cell_type": "code",
   "execution_count": 23,
   "metadata": {},
   "outputs": [
    {
     "data": {
      "text/plain": [
       "0       2160\n",
       "1       1128\n",
       "2       1092\n",
       "3       4104\n",
       "4       2208\n",
       "        ... \n",
       "1089    3876\n",
       "1090    1428\n",
       "1091    2604\n",
       "1092    4608\n",
       "1093    4128\n",
       "Name: cost, Length: 1094, dtype: int64"
      ]
     },
     "execution_count": 23,
     "metadata": {},
     "output_type": "execute_result"
    }
   ],
   "source": [
    "unit_box_cost = 12\n",
    "df[\"cost\"] = df[\"boxes_shipped\"] * unit_box_cost\n",
    "df[\"cost\"]\n"
   ]
  },
  {
   "cell_type": "markdown",
   "metadata": {},
   "source": [
    "But this calculus of costs is so basic. Moreover is a simulation, we can do it better including the costs of the chocolate, the taxes and the logistics. Is not 100% accurate, but is a good approximation to understand the behavior of the sales."
   ]
  },
  {
   "cell_type": "code",
   "execution_count": 24,
   "metadata": {},
   "outputs": [],
   "source": [
    "def calculate_cost_row(row):\n",
    "    # Static costs\n",
    "    chocolate_cost = 7 * row[\"boxes_shipped\"]\n",
    "    tax_cost = 0.10 * row[\"amount\"]\n",
    "\n",
    "    # Variable costs\n",
    "    if row[\"boxes_shipped\"] <= 10:\n",
    "        logistic_cost_box = 5\n",
    "    elif row[\"boxes_shipped\"] <= 50:\n",
    "        logistic_cost_box = 3\n",
    "    else:\n",
    "        logistic_cost_box = 1.5\n",
    "\n",
    "    logistic_cost = logistic_cost_box * row[\"boxes_shipped\"]\n",
    "\n",
    "    # Total cost\n",
    "    total_cost = chocolate_cost + tax_cost + logistic_cost\n",
    "    return chocolate_cost, tax_cost, logistic_cost, total_cost"
   ]
  },
  {
   "cell_type": "code",
   "execution_count": 25,
   "metadata": {},
   "outputs": [
    {
     "data": {
      "text/html": [
       "<div>\n",
       "<style scoped>\n",
       "    .dataframe tbody tr th:only-of-type {\n",
       "        vertical-align: middle;\n",
       "    }\n",
       "\n",
       "    .dataframe tbody tr th {\n",
       "        vertical-align: top;\n",
       "    }\n",
       "\n",
       "    .dataframe thead th {\n",
       "        text-align: right;\n",
       "    }\n",
       "</style>\n",
       "<table border=\"1\" class=\"dataframe\">\n",
       "  <thead>\n",
       "    <tr style=\"text-align: right;\">\n",
       "      <th></th>\n",
       "      <th>sales_person</th>\n",
       "      <th>country</th>\n",
       "      <th>product</th>\n",
       "      <th>date</th>\n",
       "      <th>amount</th>\n",
       "      <th>boxes_shipped</th>\n",
       "      <th>month</th>\n",
       "      <th>price_per_box</th>\n",
       "      <th>order_size</th>\n",
       "      <th>cost</th>\n",
       "      <th>chocolate_cost</th>\n",
       "      <th>tax_cost</th>\n",
       "      <th>logistic_cost</th>\n",
       "      <th>profit</th>\n",
       "      <th>profit_margin</th>\n",
       "    </tr>\n",
       "  </thead>\n",
       "  <tbody>\n",
       "    <tr>\n",
       "      <th>0</th>\n",
       "      <td>Jehu Rudeforth</td>\n",
       "      <td>UK</td>\n",
       "      <td>Mint Chip Choco</td>\n",
       "      <td>2022-01-04</td>\n",
       "      <td>5320.0</td>\n",
       "      <td>180</td>\n",
       "      <td>2022-01</td>\n",
       "      <td>29.555556</td>\n",
       "      <td>large</td>\n",
       "      <td>2062.0</td>\n",
       "      <td>1260.0</td>\n",
       "      <td>532.0</td>\n",
       "      <td>270.0</td>\n",
       "      <td>3258.0</td>\n",
       "      <td>61.240602</td>\n",
       "    </tr>\n",
       "    <tr>\n",
       "      <th>1</th>\n",
       "      <td>Van Tuxwell</td>\n",
       "      <td>India</td>\n",
       "      <td>85% Dark Bars</td>\n",
       "      <td>2022-08-01</td>\n",
       "      <td>7896.0</td>\n",
       "      <td>94</td>\n",
       "      <td>2022-08</td>\n",
       "      <td>84.000000</td>\n",
       "      <td>large</td>\n",
       "      <td>1588.6</td>\n",
       "      <td>658.0</td>\n",
       "      <td>789.6</td>\n",
       "      <td>141.0</td>\n",
       "      <td>6307.4</td>\n",
       "      <td>79.880952</td>\n",
       "    </tr>\n",
       "    <tr>\n",
       "      <th>2</th>\n",
       "      <td>Gigi Bohling</td>\n",
       "      <td>India</td>\n",
       "      <td>Peanut Butter Cubes</td>\n",
       "      <td>2022-07-07</td>\n",
       "      <td>4501.0</td>\n",
       "      <td>91</td>\n",
       "      <td>2022-07</td>\n",
       "      <td>49.461538</td>\n",
       "      <td>large</td>\n",
       "      <td>1223.6</td>\n",
       "      <td>637.0</td>\n",
       "      <td>450.1</td>\n",
       "      <td>136.5</td>\n",
       "      <td>3277.4</td>\n",
       "      <td>72.814930</td>\n",
       "    </tr>\n",
       "    <tr>\n",
       "      <th>3</th>\n",
       "      <td>Jan Morforth</td>\n",
       "      <td>Australia</td>\n",
       "      <td>Peanut Butter Cubes</td>\n",
       "      <td>2022-04-27</td>\n",
       "      <td>12726.0</td>\n",
       "      <td>342</td>\n",
       "      <td>2022-04</td>\n",
       "      <td>37.210526</td>\n",
       "      <td>large</td>\n",
       "      <td>4179.6</td>\n",
       "      <td>2394.0</td>\n",
       "      <td>1272.6</td>\n",
       "      <td>513.0</td>\n",
       "      <td>8546.4</td>\n",
       "      <td>67.157001</td>\n",
       "    </tr>\n",
       "    <tr>\n",
       "      <th>4</th>\n",
       "      <td>Jehu Rudeforth</td>\n",
       "      <td>UK</td>\n",
       "      <td>Peanut Butter Cubes</td>\n",
       "      <td>2022-02-24</td>\n",
       "      <td>13685.0</td>\n",
       "      <td>184</td>\n",
       "      <td>2022-02</td>\n",
       "      <td>74.375000</td>\n",
       "      <td>large</td>\n",
       "      <td>2932.5</td>\n",
       "      <td>1288.0</td>\n",
       "      <td>1368.5</td>\n",
       "      <td>276.0</td>\n",
       "      <td>10752.5</td>\n",
       "      <td>78.571429</td>\n",
       "    </tr>\n",
       "  </tbody>\n",
       "</table>\n",
       "</div>"
      ],
      "text/plain": [
       "     sales_person    country              product       date   amount  \\\n",
       "0  Jehu Rudeforth         UK      Mint Chip Choco 2022-01-04   5320.0   \n",
       "1     Van Tuxwell      India        85% Dark Bars 2022-08-01   7896.0   \n",
       "2    Gigi Bohling      India  Peanut Butter Cubes 2022-07-07   4501.0   \n",
       "3    Jan Morforth  Australia  Peanut Butter Cubes 2022-04-27  12726.0   \n",
       "4  Jehu Rudeforth         UK  Peanut Butter Cubes 2022-02-24  13685.0   \n",
       "\n",
       "   boxes_shipped    month  price_per_box order_size    cost  chocolate_cost  \\\n",
       "0            180  2022-01      29.555556      large  2062.0          1260.0   \n",
       "1             94  2022-08      84.000000      large  1588.6           658.0   \n",
       "2             91  2022-07      49.461538      large  1223.6           637.0   \n",
       "3            342  2022-04      37.210526      large  4179.6          2394.0   \n",
       "4            184  2022-02      74.375000      large  2932.5          1288.0   \n",
       "\n",
       "   tax_cost  logistic_cost   profit  profit_margin  \n",
       "0     532.0          270.0   3258.0      61.240602  \n",
       "1     789.6          141.0   6307.4      79.880952  \n",
       "2     450.1          136.5   3277.4      72.814930  \n",
       "3    1272.6          513.0   8546.4      67.157001  \n",
       "4    1368.5          276.0  10752.5      78.571429  "
      ]
     },
     "execution_count": 25,
     "metadata": {},
     "output_type": "execute_result"
    }
   ],
   "source": [
    "df[['chocolate_cost', 'tax_cost', 'logistic_cost', 'cost']] = df.apply(calculate_cost_row, axis=1, result_type='expand')\n",
    "df[\"profit\"] = df[\"amount\"] - df[\"cost\"]\n",
    "df[\"profit_margin\"] = (df[\"profit\"] / df[\"amount\"]) * 100\n",
    "\n",
    "df.head()"
   ]
  },
  {
   "cell_type": "code",
   "execution_count": 27,
   "metadata": {},
   "outputs": [
    {
     "name": "stderr",
     "output_type": "stream",
     "text": [
      "/var/folders/6h/f4b9pqr55319d7smk2pl0wdw0000gn/T/ipykernel_23758/3694335548.py:1: FutureWarning:\n",
      "\n",
      "The default of observed=False is deprecated and will be changed to True in a future version of pandas. Pass observed=False to retain current behavior or observed=True to adopt the future default and silence this warning.\n",
      "\n"
     ]
    },
    {
     "data": {
      "image/png": "[encoded data removed]",
      "text/plain": [
       "<Figure size 1000x600 with 1 Axes>"
      ]
     },
     "metadata": {},
     "output_type": "display_data"
    }
   ],
   "source": [
    "segmented_costs = df.groupby(\"order_size\")[[\"chocolate_cost\", \"tax_cost\", \"logistic_cost\", \"cost\"]].sum().reset_index()\n",
    "\n",
    "labels = segmented_costs[\"order_size\"]\n",
    "chocolate = segmented_costs[\"chocolate_cost\"]\n",
    "tax = segmented_costs[\"tax_cost\"]\n",
    "logistic = segmented_costs[\"logistic_cost\"]\n",
    "\n",
    "plt.figure(figsize=(10, 6))\n",
    "plt.bar(labels, chocolate, label=\"Chocolate Cost\", color=\"saddlebrown\")\n",
    "plt.bar(labels, tax, label=\"Tax Cost\", color=\"goldenrod\")\n",
    "plt.bar(labels, logistic, label=\"Logistic Cost\", color=\"lightblue\")\n",
    "\n",
    "plt.title(\"Costs breakdown by Order Segment\")\n",
    "plt.xlabel(\"Order Size\")\n",
    "plt.ylabel(\"Total Cost ($)\")\n",
    "plt.legend()\n",
    "plt.tight_layout()\n",
    "plt.show()"
   ]
  },
  {
   "cell_type": "markdown",
   "metadata": {},
   "source": [
    "benefits"
   ]
  },
  {
   "cell_type": "code",
   "execution_count": 28,
   "metadata": {},
   "outputs": [
    {
     "name": "stderr",
     "output_type": "stream",
     "text": [
      "/var/folders/6h/f4b9pqr55319d7smk2pl0wdw0000gn/T/ipykernel_23758/378580783.py:1: FutureWarning:\n",
      "\n",
      "The default of observed=False is deprecated and will be changed to True in a future version of pandas. Pass observed=False to retain current behavior or observed=True to adopt the future default and silence this warning.\n",
      "\n"
     ]
    },
    {
     "data": {
      "text/html": [
       "<div>\n",
       "<style scoped>\n",
       "    .dataframe tbody tr th:only-of-type {\n",
       "        vertical-align: middle;\n",
       "    }\n",
       "\n",
       "    .dataframe tbody tr th {\n",
       "        vertical-align: top;\n",
       "    }\n",
       "\n",
       "    .dataframe thead th {\n",
       "        text-align: right;\n",
       "    }\n",
       "</style>\n",
       "<table border=\"1\" class=\"dataframe\">\n",
       "  <thead>\n",
       "    <tr style=\"text-align: right;\">\n",
       "      <th></th>\n",
       "      <th>amount</th>\n",
       "      <th>cost</th>\n",
       "      <th>profit</th>\n",
       "      <th>profit_margin</th>\n",
       "    </tr>\n",
       "    <tr>\n",
       "      <th>order_size</th>\n",
       "      <th></th>\n",
       "      <th></th>\n",
       "      <th></th>\n",
       "      <th></th>\n",
       "    </tr>\n",
       "  </thead>\n",
       "  <tbody>\n",
       "    <tr>\n",
       "      <th>small</th>\n",
       "      <td>182385.0</td>\n",
       "      <td>20578.5</td>\n",
       "      <td>161806.5</td>\n",
       "      <td>88.72</td>\n",
       "    </tr>\n",
       "    <tr>\n",
       "      <th>medium</th>\n",
       "      <td>950873.0</td>\n",
       "      <td>142727.3</td>\n",
       "      <td>808145.7</td>\n",
       "      <td>84.99</td>\n",
       "    </tr>\n",
       "    <tr>\n",
       "      <th>large</th>\n",
       "      <td>5050367.0</td>\n",
       "      <td>1967444.7</td>\n",
       "      <td>3082922.3</td>\n",
       "      <td>61.04</td>\n",
       "    </tr>\n",
       "  </tbody>\n",
       "</table>\n",
       "</div>"
      ],
      "text/plain": [
       "               amount       cost     profit  profit_margin\n",
       "order_size                                                \n",
       "small        182385.0    20578.5   161806.5          88.72\n",
       "medium       950873.0   142727.3   808145.7          84.99\n",
       "large       5050367.0  1967444.7  3082922.3          61.04"
      ]
     },
     "execution_count": 28,
     "metadata": {},
     "output_type": "execute_result"
    }
   ],
   "source": [
    "benefits = df.groupby(\"order_size\").agg({\"amount\": \"sum\", \"cost\": \"sum\", \"profit\": \"sum\"}).round(2)\n",
    "\n",
    "benefits[\"profit_margin\"] = (benefits[\"profit\"] / benefits[\"amount\"]) * 100\n",
    "benefits = benefits.round(2)\n",
    "benefits"
   ]
  },
  {
   "cell_type": "code",
   "execution_count": 29,
   "metadata": {},
   "outputs": [
    {
     "name": "stderr",
     "output_type": "stream",
     "text": [
      "/var/folders/6h/f4b9pqr55319d7smk2pl0wdw0000gn/T/ipykernel_23758/1242547411.py:2: FutureWarning:\n",
      "\n",
      "\n",
      "\n",
      "Passing `palette` without assigning `hue` is deprecated and will be removed in v0.14.0. Assign the `x` variable to `hue` and set `legend=False` for the same effect.\n",
      "\n",
      "\n"
     ]
    },
    {
     "data": {
      "image/png": "[encoded data removed]",
      "text/plain": [
       "<Figure size 800x500 with 1 Axes>"
      ]
     },
     "metadata": {},
     "output_type": "display_data"
    }
   ],
   "source": [
    "plt.figure(figsize=(8, 5))\n",
    "sns.barplot(x=benefits.index, y=benefits[\"profit_margin\"], palette=\"Greens_d\")\n",
    "plt.title(\"Profit Margin by Order Size\")\n",
    "plt.xlabel(\"Order Size\")\n",
    "plt.ylabel(\"Profit Margin (%)\")\n",
    "plt.tight_layout()\n",
    "plt.show()"
   ]
  }
 ],
 "metadata": {
  "kernelspec": {
   "display_name": "Python 3",
   "language": "python",
   "name": "python3"
  },
  "language_info": {
   "codemirror_mode": {
    "name": "ipython",
    "version": 3
   },
   "file_extension": ".py",
   "mimetype": "text/x-python",
   "name": "python",
   "nbconvert_exporter": "python",
   "pygments_lexer": "ipython3",
   "version": "3.12.6"
  }
 },
 "nbformat": 4,
 "nbformat_minor": 2
}
